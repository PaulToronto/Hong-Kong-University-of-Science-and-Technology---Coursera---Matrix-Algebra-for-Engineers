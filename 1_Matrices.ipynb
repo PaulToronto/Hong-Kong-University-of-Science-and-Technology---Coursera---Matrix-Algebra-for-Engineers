{
  "nbformat": 4,
  "nbformat_minor": 0,
  "metadata": {
    "colab": {
      "provenance": [],
      "toc_visible": true,
      "authorship_tag": "ABX9TyMHYw3Ptp1tvo3idJ7eLYOS",
      "include_colab_link": true
    },
    "kernelspec": {
      "name": "python3",
      "display_name": "Python 3"
    },
    "language_info": {
      "name": "python"
    }
  },
  "cells": [
    {
      "cell_type": "markdown",
      "metadata": {
        "id": "view-in-github",
        "colab_type": "text"
      },
      "source": [
        "<a href=\"https://colab.research.google.com/github/PaulToronto/Hong-Kong-University-of-Science-and-Technology-Coursera-Matrix-Algebra-for-Engineers/blob/main/1_Matrices.ipynb\" target=\"_parent\"><img src=\"https://colab.research.google.com/assets/colab-badge.svg\" alt=\"Open In Colab\"/></a>"
      ]
    },
    {
      "cell_type": "markdown",
      "source": [
        "# 1 Matrices"
      ],
      "metadata": {
        "id": "yf67R51r13eA"
      }
    },
    {
      "cell_type": "code",
      "source": [
        "import sympy as sym\n",
        "import numpy as np"
      ],
      "metadata": {
        "id": "Dtnw26OfR1gi"
      },
      "execution_count": 1,
      "outputs": []
    },
    {
      "cell_type": "markdown",
      "source": [
        "## 1.1 Matrix Definitions"
      ],
      "metadata": {
        "id": "HaXFEof_oGEN"
      }
    },
    {
      "cell_type": "markdown",
      "source": [
        "A **matrix** is a rectangular array of numbers. The numbers can be symbols. "
      ],
      "metadata": {
        "id": "xP6np8URPnD8"
      }
    },
    {
      "cell_type": "markdown",
      "source": [
        "$$\n",
        "A = \n",
        "\\left[\n",
        "\\begin{matrix}\n",
        "a & b \\\\\n",
        "c & d\n",
        "\\end{matrix}\n",
        "\\right],\n",
        "B = \n",
        "\\left[\n",
        "\\begin{matrix}\n",
        "a & b \\\\ \n",
        "c & d \\\\\n",
        "e & f\n",
        "\\end{matrix}\n",
        "\\right],\n",
        "C = \n",
        "\\left[\n",
        "\\begin{matrix}\n",
        "a & b & c \\\\\n",
        "d & e & f\n",
        "\\end{matrix}\n",
        "\\right]\n",
        "$$"
      ],
      "metadata": {
        "id": "zeO2xu5AQdmT"
      }
    },
    {
      "cell_type": "markdown",
      "source": [
        "- $A$ is a $2 \\times 2$ matrix\n",
        "- $B$ is a $3 \\times 2$ matrix\n",
        "- $C$ is a $2 \\times 3$ matrix. "
      ],
      "metadata": {
        "id": "VF10TkCSRVho"
      }
    },
    {
      "cell_type": "code",
      "source": [
        "a, b, c, d, e, f = sym.symbols('a b c d e f')"
      ],
      "metadata": {
        "id": "iJDsJ67rSU5i"
      },
      "execution_count": 2,
      "outputs": []
    },
    {
      "cell_type": "code",
      "source": [
        "A = sym.Matrix([[a,  b],\n",
        "                [c, d]])\n",
        "\n",
        "B = sym.Matrix([[a, b],\n",
        "                [c, d],\n",
        "                [e, f]])\n",
        "\n",
        "C = sym.Matrix([[a, b, c],\n",
        "                [d, e, f]])"
      ],
      "metadata": {
        "id": "jI9gbJyuScbM"
      },
      "execution_count": 3,
      "outputs": []
    },
    {
      "cell_type": "code",
      "source": [
        "A"
      ],
      "metadata": {
        "colab": {
          "base_uri": "https://localhost:8080/",
          "height": 58
        },
        "id": "LBmc2G7rS3_L",
        "outputId": "207b28f9-4209-4a9e-eba7-5f39b110b6be"
      },
      "execution_count": 4,
      "outputs": [
        {
          "output_type": "execute_result",
          "data": {
            "text/plain": [
              "Matrix([\n",
              "[a, b],\n",
              "[c, d]])"
            ],
            "text/latex": "$\\displaystyle \\left[\\begin{matrix}a & b\\\\c & d\\end{matrix}\\right]$"
          },
          "metadata": {},
          "execution_count": 4
        }
      ]
    },
    {
      "cell_type": "code",
      "source": [
        "B"
      ],
      "metadata": {
        "colab": {
          "base_uri": "https://localhost:8080/",
          "height": 78
        },
        "id": "amyJyEU2S4sE",
        "outputId": "c49b94ca-53af-457a-8f77-f9b8e4fc07fa"
      },
      "execution_count": 5,
      "outputs": [
        {
          "output_type": "execute_result",
          "data": {
            "text/plain": [
              "Matrix([\n",
              "[a, b],\n",
              "[c, d],\n",
              "[e, f]])"
            ],
            "text/latex": "$\\displaystyle \\left[\\begin{matrix}a & b\\\\c & d\\\\e & f\\end{matrix}\\right]$"
          },
          "metadata": {},
          "execution_count": 5
        }
      ]
    },
    {
      "cell_type": "code",
      "source": [
        "C"
      ],
      "metadata": {
        "colab": {
          "base_uri": "https://localhost:8080/",
          "height": 58
        },
        "id": "gON84sRES7q_",
        "outputId": "b3bad6c1-a86d-4851-b122-f67fe78b2e7f"
      },
      "execution_count": 6,
      "outputs": [
        {
          "output_type": "execute_result",
          "data": {
            "text/plain": [
              "Matrix([\n",
              "[a, b, c],\n",
              "[d, e, f]])"
            ],
            "text/latex": "$\\displaystyle \\left[\\begin{matrix}a & b & c\\\\d & e & f\\end{matrix}\\right]$"
          },
          "metadata": {},
          "execution_count": 6
        }
      ]
    },
    {
      "cell_type": "markdown",
      "source": [
        "$$\n",
        "x = \n",
        "\\left[\n",
        "\\begin{matrix}\n",
        "a \\\\\n",
        "b \\\\\n",
        "c\n",
        "\\end{matrix}\n",
        "\\right],\n",
        "y = \n",
        "\\left[\n",
        "\\begin{matrix}\n",
        "a & b & c\n",
        "\\end{matrix}\n",
        "\\right]\n",
        "$$"
      ],
      "metadata": {
        "id": "83pXVa3TTbSs"
      }
    },
    {
      "cell_type": "markdown",
      "source": [
        "- $x$ is a **column vector** or a $3 \\times 1$ matrix\n",
        "- $y$ is a  **row vector** or a $1 \\times 3$ matrix"
      ],
      "metadata": {
        "id": "74VmqQKVUUkP"
      }
    },
    {
      "cell_type": "markdown",
      "source": [
        "### A General Matrix"
      ],
      "metadata": {
        "id": "Wxnr5rfJUxo0"
      }
    },
    {
      "cell_type": "markdown",
      "source": [
        "$$\n",
        "A_{m \\times n} = \n",
        "\\left[\n",
        "\\begin{matrix}\n",
        "a_{11} & a_{12} & \\cdots & a_{1n} \\\\\n",
        "a_{21} & a_{22} & \\cdots & a_{2n} \\\\\n",
        "\\vdots & \\vdots & \\ddots & \\vdots \\\\\n",
        "a_{m1} & a_{m2} & \\cdots & a_{mn}\n",
        "\\end{matrix}\n",
        "\\right]\n",
        "$$"
      ],
      "metadata": {
        "id": "0PIfLEBFVyow"
      }
    },
    {
      "cell_type": "markdown",
      "source": [
        "### Matrix Addition\n",
        "\n",
        "- Two matrices can be only be added together when they have the same dimensions"
      ],
      "metadata": {
        "id": "Mt82tdHiayVR"
      }
    },
    {
      "cell_type": "code",
      "source": [
        "a, b, c, d, e, f, g, h = sym.symbols('a b c d e f g h')\n",
        "\n",
        "A = sym.Matrix([[a, b],\n",
        "                [c, d]])\n",
        "\n",
        "B = sym.Matrix([[e, f],\n",
        "                [g, h]])"
      ],
      "metadata": {
        "id": "A5GCEanhYqTN"
      },
      "execution_count": 7,
      "outputs": []
    },
    {
      "cell_type": "code",
      "source": [
        "A"
      ],
      "metadata": {
        "colab": {
          "base_uri": "https://localhost:8080/",
          "height": 58
        },
        "id": "K0snHg2DZOG6",
        "outputId": "b46fb18e-b99c-42da-89f4-85937b8a1cfc"
      },
      "execution_count": 8,
      "outputs": [
        {
          "output_type": "execute_result",
          "data": {
            "text/plain": [
              "Matrix([\n",
              "[a, b],\n",
              "[c, d]])"
            ],
            "text/latex": "$\\displaystyle \\left[\\begin{matrix}a & b\\\\c & d\\end{matrix}\\right]$"
          },
          "metadata": {},
          "execution_count": 8
        }
      ]
    },
    {
      "cell_type": "code",
      "source": [
        "B"
      ],
      "metadata": {
        "colab": {
          "base_uri": "https://localhost:8080/",
          "height": 58
        },
        "id": "VAW3U3KeZQHI",
        "outputId": "a7049dea-0527-4ce3-e202-0aaf9358e5b3"
      },
      "execution_count": 9,
      "outputs": [
        {
          "output_type": "execute_result",
          "data": {
            "text/plain": [
              "Matrix([\n",
              "[e, f],\n",
              "[g, h]])"
            ],
            "text/latex": "$\\displaystyle \\left[\\begin{matrix}e & f\\\\g & h\\end{matrix}\\right]$"
          },
          "metadata": {},
          "execution_count": 9
        }
      ]
    },
    {
      "cell_type": "code",
      "source": [
        "A + B"
      ],
      "metadata": {
        "colab": {
          "base_uri": "https://localhost:8080/",
          "height": 58
        },
        "id": "DvCmdBKlZRc0",
        "outputId": "46c89d7f-5274-48f5-a04d-414a963a98a7"
      },
      "execution_count": 10,
      "outputs": [
        {
          "output_type": "execute_result",
          "data": {
            "text/plain": [
              "Matrix([\n",
              "[a + e, b + f],\n",
              "[c + g, d + h]])"
            ],
            "text/latex": "$\\displaystyle \\left[\\begin{matrix}a + e & b + f\\\\c + g & d + h\\end{matrix}\\right]$"
          },
          "metadata": {},
          "execution_count": 10
        }
      ]
    },
    {
      "cell_type": "markdown",
      "source": [
        "### Multiply a Matrix by a Scalar"
      ],
      "metadata": {
        "id": "I0uKnHija9lK"
      }
    },
    {
      "cell_type": "code",
      "source": [
        "k = sym.symbols('k')\n",
        "\n",
        "k * A"
      ],
      "metadata": {
        "colab": {
          "base_uri": "https://localhost:8080/",
          "height": 58
        },
        "id": "GuZTg4TObIZn",
        "outputId": "80319d9d-d033-44f0-9523-0eb39b4b6ddb"
      },
      "execution_count": 11,
      "outputs": [
        {
          "output_type": "execute_result",
          "data": {
            "text/plain": [
              "Matrix([\n",
              "[a*k, b*k],\n",
              "[c*k, d*k]])"
            ],
            "text/latex": "$\\displaystyle \\left[\\begin{matrix}a k & b k\\\\c k & d k\\end{matrix}\\right]$"
          },
          "metadata": {},
          "execution_count": 11
        }
      ]
    },
    {
      "cell_type": "markdown",
      "source": [
        "### Matrix Multiplication\n",
        "\n",
        "- Note that matrix muliplication is **not commutative**\n",
        "- An $m \\times n$ matrix can only be multiplied by an $n \\times p$ matrix\n",
        "    - The values $m$ and $p$ are arbitrary\n",
        "    - The number of columns in the first matrix ($n$) must be equal to the number of rows in the second matrix ($n$)\n",
        "        - The result is an $m \\times p$ matrix"
      ],
      "metadata": {
        "id": "jDpps29eb_3a"
      }
    },
    {
      "cell_type": "code",
      "source": [
        "A * B"
      ],
      "metadata": {
        "colab": {
          "base_uri": "https://localhost:8080/",
          "height": 58
        },
        "id": "9tCIO8nLcCRM",
        "outputId": "0d68caa3-3a64-4788-ac41-a417957abed9"
      },
      "execution_count": 12,
      "outputs": [
        {
          "output_type": "execute_result",
          "data": {
            "text/plain": [
              "Matrix([\n",
              "[a*e + b*g, a*f + b*h],\n",
              "[c*e + d*g, c*f + d*h]])"
            ],
            "text/latex": "$\\displaystyle \\left[\\begin{matrix}a e + b g & a f + b h\\\\c e + d g & c f + d h\\end{matrix}\\right]$"
          },
          "metadata": {},
          "execution_count": 12
        }
      ]
    },
    {
      "cell_type": "code",
      "source": [
        "# alternately\n",
        "sym.Matrix([[A.row(0).dot(B.col(0)), A.row(0).dot(B.col(1))],\n",
        "            [A.row(1).dot(B.col(0)), A.row(1).dot(B.col(1))]])"
      ],
      "metadata": {
        "colab": {
          "base_uri": "https://localhost:8080/",
          "height": 58
        },
        "id": "XKu1dXhycUN9",
        "outputId": "735aec4d-e6c4-416f-f9d2-664ac1b6820b"
      },
      "execution_count": 13,
      "outputs": [
        {
          "output_type": "execute_result",
          "data": {
            "text/plain": [
              "Matrix([\n",
              "[a*e + b*g, a*f + b*h],\n",
              "[c*e + d*g, c*f + d*h]])"
            ],
            "text/latex": "$\\displaystyle \\left[\\begin{matrix}a e + b g & a f + b h\\\\c e + d g & c f + d h\\end{matrix}\\right]$"
          },
          "metadata": {},
          "execution_count": 13
        }
      ]
    },
    {
      "cell_type": "code",
      "source": [
        "A.row(0) * B.col(0), A.row(0).dot(B.col(0))"
      ],
      "metadata": {
        "colab": {
          "base_uri": "https://localhost:8080/"
        },
        "id": "nn3PnjsDc9uX",
        "outputId": "8f0b172f-46a0-430c-c6c0-adfe066220db"
      },
      "execution_count": 14,
      "outputs": [
        {
          "output_type": "execute_result",
          "data": {
            "text/plain": [
              "(Matrix([[a*e + b*g]]), a*e + b*g)"
            ]
          },
          "metadata": {},
          "execution_count": 14
        }
      ]
    },
    {
      "cell_type": "code",
      "source": [
        "type(A.row(0) * B.col(0)), type(A.row(0).dot(B.col(0)))"
      ],
      "metadata": {
        "colab": {
          "base_uri": "https://localhost:8080/"
        },
        "id": "OwzN0Wq9c8sf",
        "outputId": "06ab7417-6828-407d-cc17-8c617b0525ab"
      },
      "execution_count": 15,
      "outputs": [
        {
          "output_type": "execute_result",
          "data": {
            "text/plain": [
              "(sympy.matrices.dense.MutableDenseMatrix, sympy.core.add.Add)"
            ]
          },
          "metadata": {},
          "execution_count": 15
        }
      ]
    },
    {
      "cell_type": "code",
      "source": [
        "B * A"
      ],
      "metadata": {
        "colab": {
          "base_uri": "https://localhost:8080/",
          "height": 58
        },
        "id": "-LxNP29dfxSg",
        "outputId": "cbb2d45c-2bcb-4933-de28-ab607f4a712f"
      },
      "execution_count": 16,
      "outputs": [
        {
          "output_type": "execute_result",
          "data": {
            "text/plain": [
              "Matrix([\n",
              "[a*e + c*f, b*e + d*f],\n",
              "[a*g + c*h, b*g + d*h]])"
            ],
            "text/latex": "$\\displaystyle \\left[\\begin{matrix}a e + c f & b e + d f\\\\a g + c h & b g + d h\\end{matrix}\\right]$"
          },
          "metadata": {},
          "execution_count": 16
        }
      ]
    },
    {
      "cell_type": "code",
      "source": [
        "A * B == A * B, A * B == B * A"
      ],
      "metadata": {
        "colab": {
          "base_uri": "https://localhost:8080/"
        },
        "id": "7DjhM0i5f1B6",
        "outputId": "f34d7dea-da51-4073-dd43-d4d1c72e3240"
      },
      "execution_count": 17,
      "outputs": [
        {
          "output_type": "execute_result",
          "data": {
            "text/plain": [
              "(True, False)"
            ]
          },
          "metadata": {},
          "execution_count": 17
        }
      ]
    },
    {
      "cell_type": "markdown",
      "source": [
        "#### General Formula for the ${ij}^{th}$  element of the product of two matrices"
      ],
      "metadata": {
        "id": "3leaa0MDl0lk"
      }
    },
    {
      "cell_type": "markdown",
      "source": [
        "Let $A$, $B$ and $C$ be matrices such that $C = AB$. Then,\n",
        "\n",
        "$$\n",
        "c_{ij} = \\sum_{k=1}^{n}{a_{ik}b_{kj}}\n",
        "$$"
      ],
      "metadata": {
        "id": "laVutHhQmLep"
      }
    },
    {
      "cell_type": "markdown",
      "source": [
        "#### $AB = AC$ does not imply $B = C$"
      ],
      "metadata": {
        "id": "hFFOjw0w1Eoi"
      }
    },
    {
      "cell_type": "code",
      "source": [
        "A = sym.Matrix([[1, 2],\n",
        "                [2, 4]])\n",
        "\n",
        "B = sym.Matrix([[2, 1],\n",
        "                [1, 3]])\n",
        "\n",
        "C = sym.Matrix([[4, 3],\n",
        "                [0, 2]])"
      ],
      "metadata": {
        "id": "E5LMAfrv1MOJ"
      },
      "execution_count": 18,
      "outputs": []
    },
    {
      "cell_type": "code",
      "source": [
        "# sympy\n",
        "A * B == A * C, B == C"
      ],
      "metadata": {
        "colab": {
          "base_uri": "https://localhost:8080/"
        },
        "id": "EQ7bz3m01czT",
        "outputId": "1dc1f481-e77b-4c2e-ffbf-38654ac06453"
      },
      "execution_count": 19,
      "outputs": [
        {
          "output_type": "execute_result",
          "data": {
            "text/plain": [
              "(True, False)"
            ]
          },
          "metadata": {},
          "execution_count": 19
        }
      ]
    },
    {
      "cell_type": "code",
      "source": [
        "# sympy\n",
        "(A * B).equals(A * C), B.equals(C)"
      ],
      "metadata": {
        "colab": {
          "base_uri": "https://localhost:8080/"
        },
        "id": "uYg9zX571y-i",
        "outputId": "77bb44bb-d1c1-4a91-9e76-eedbba2541e2"
      },
      "execution_count": 20,
      "outputs": [
        {
          "output_type": "execute_result",
          "data": {
            "text/plain": [
              "(True, False)"
            ]
          },
          "metadata": {},
          "execution_count": 20
        }
      ]
    },
    {
      "cell_type": "code",
      "source": [
        "# numpy\n",
        "Anp = np.array(A, dtype='int64')\n",
        "Bnp = np.array(B, dtype='int64')\n",
        "Cnp = np.array(C, dtype='int64')\n",
        "\n",
        "np.array_equal(Anp.dot(Bnp), Anp.dot(Cnp)), np.array_equal(B, C)"
      ],
      "metadata": {
        "colab": {
          "base_uri": "https://localhost:8080/"
        },
        "id": "KTgJ5ol22JsE",
        "outputId": "d75feabc-9561-4cea-abb2-43ba3e12d25a"
      },
      "execution_count": 21,
      "outputs": [
        {
          "output_type": "execute_result",
          "data": {
            "text/plain": [
              "(True, False)"
            ]
          },
          "metadata": {},
          "execution_count": 21
        }
      ]
    },
    {
      "cell_type": "markdown",
      "source": [
        "### Associative Law for Matrix Multiplication"
      ],
      "metadata": {
        "id": "rbvsl7i23WQJ"
      }
    },
    {
      "cell_type": "markdown",
      "source": [
        "$$\n",
        "A(BC) = (AB)C\n",
        "$$"
      ],
      "metadata": {
        "id": "h256v1pZ4GVh"
      }
    },
    {
      "cell_type": "markdown",
      "source": [
        "### Special Matrices"
      ],
      "metadata": {
        "id": "5U9yGr2S9b8L"
      }
    },
    {
      "cell_type": "markdown",
      "source": [
        "#### Zero Matrix: $O_{m \\times n}$\n",
        "\n",
        "- The zero matrix is analogous to the scalar 0\n",
        "\n",
        "$$\n",
        "O = \n",
        "\\left[\n",
        "    \\begin{matrix}\n",
        "    0 & 0 \\\\\n",
        "    0 & 0\n",
        "    \\end{matrix}\n",
        "\\right]\n",
        "$$\n",
        "\n",
        "This matrix is used a lot in the following equation, where $A$ is an $m \\times n$ matrix, x is an $n \\times 1$ column vector and the zero matrix is an $m \\times 1$ column vector.\n",
        "\n",
        "$Ax = O$"
      ],
      "metadata": {
        "id": "G7rW8mLkMQjC"
      }
    },
    {
      "cell_type": "code",
      "source": [
        "A = sym.zeros(2, 2)\n",
        "A"
      ],
      "metadata": {
        "colab": {
          "base_uri": "https://localhost:8080/",
          "height": 58
        },
        "id": "a_vJ8MJiMOm3",
        "outputId": "6f9ee6d8-77a7-4b9e-81e6-a80ad5426605"
      },
      "execution_count": 22,
      "outputs": [
        {
          "output_type": "execute_result",
          "data": {
            "text/plain": [
              "Matrix([\n",
              "[0, 0],\n",
              "[0, 0]])"
            ],
            "text/latex": "$\\displaystyle \\left[\\begin{matrix}0 & 0\\\\0 & 0\\end{matrix}\\right]$"
          },
          "metadata": {},
          "execution_count": 22
        }
      ]
    },
    {
      "cell_type": "code",
      "source": [
        "np.zeros((2, 2))"
      ],
      "metadata": {
        "colab": {
          "base_uri": "https://localhost:8080/"
        },
        "id": "SxHmI35wRK15",
        "outputId": "8920a189-4193-4623-b19d-1cd7464f0c7a"
      },
      "execution_count": 23,
      "outputs": [
        {
          "output_type": "execute_result",
          "data": {
            "text/plain": [
              "array([[0., 0.],\n",
              "       [0., 0.]])"
            ]
          },
          "metadata": {},
          "execution_count": 23
        }
      ]
    },
    {
      "cell_type": "code",
      "source": [
        "# note that sympy can also create a matrix of ones\n",
        "sym.ones(3)"
      ],
      "metadata": {
        "colab": {
          "base_uri": "https://localhost:8080/",
          "height": 78
        },
        "id": "saPWWoBzOGqf",
        "outputId": "22a20c15-ce57-49bb-ef66-0252634b5ba8"
      },
      "execution_count": 24,
      "outputs": [
        {
          "output_type": "execute_result",
          "data": {
            "text/plain": [
              "Matrix([\n",
              "[1, 1, 1],\n",
              "[1, 1, 1],\n",
              "[1, 1, 1]])"
            ],
            "text/latex": "$\\displaystyle \\left[\\begin{matrix}1 & 1 & 1\\\\1 & 1 & 1\\\\1 & 1 & 1\\end{matrix}\\right]$"
          },
          "metadata": {},
          "execution_count": 24
        }
      ]
    },
    {
      "cell_type": "markdown",
      "source": [
        "#### Identity Matrix: $I_{n}$\n",
        "\n",
        "- The identity matrix, denoted $I$, is analogous to the scalar 1\n",
        "    - $AI = A = IA$, for any square matrix $A$\n",
        "- The identity matrix is always a square matrix\n",
        "- The identity matrix has only ones along the diagonal and zeros everywhere else"
      ],
      "metadata": {
        "id": "HssKTJssNt9Y"
      }
    },
    {
      "cell_type": "code",
      "source": [
        "sym.eye(3)"
      ],
      "metadata": {
        "colab": {
          "base_uri": "https://localhost:8080/",
          "height": 78
        },
        "id": "UR_ZRSaaN8SJ",
        "outputId": "8616ec41-2aba-4ceb-9939-8b573c064573"
      },
      "execution_count": 25,
      "outputs": [
        {
          "output_type": "execute_result",
          "data": {
            "text/plain": [
              "Matrix([\n",
              "[1, 0, 0],\n",
              "[0, 1, 0],\n",
              "[0, 0, 1]])"
            ],
            "text/latex": "$\\displaystyle \\left[\\begin{matrix}1 & 0 & 0\\\\0 & 1 & 0\\\\0 & 0 & 1\\end{matrix}\\right]$"
          },
          "metadata": {},
          "execution_count": 25
        }
      ]
    },
    {
      "cell_type": "code",
      "source": [
        "np.eye(3)"
      ],
      "metadata": {
        "colab": {
          "base_uri": "https://localhost:8080/"
        },
        "id": "i80lt5ZuRU6l",
        "outputId": "50af8066-8895-478e-f1a0-bc1aeb4be37e"
      },
      "execution_count": 26,
      "outputs": [
        {
          "output_type": "execute_result",
          "data": {
            "text/plain": [
              "array([[1., 0., 0.],\n",
              "       [0., 1., 0.],\n",
              "       [0., 0., 1.]])"
            ]
          },
          "metadata": {},
          "execution_count": 26
        }
      ]
    },
    {
      "cell_type": "code",
      "source": [
        "# note that sympy can use `.eye()` to create\n",
        "# matrices that are not square, therefore not\n",
        "# identity matrices\n",
        "sym.eye(3, 2)"
      ],
      "metadata": {
        "colab": {
          "base_uri": "https://localhost:8080/",
          "height": 78
        },
        "id": "ZjB1E9wUQ52q",
        "outputId": "c14ed850-dac6-4cd4-9d48-0305b62726cf"
      },
      "execution_count": 27,
      "outputs": [
        {
          "output_type": "execute_result",
          "data": {
            "text/plain": [
              "Matrix([\n",
              "[1, 0],\n",
              "[0, 1],\n",
              "[0, 0]])"
            ],
            "text/latex": "$\\displaystyle \\left[\\begin{matrix}1 & 0\\\\0 & 1\\\\0 & 0\\end{matrix}\\right]$"
          },
          "metadata": {},
          "execution_count": 27
        }
      ]
    },
    {
      "cell_type": "code",
      "source": [
        "np.eye(3, 2)"
      ],
      "metadata": {
        "colab": {
          "base_uri": "https://localhost:8080/"
        },
        "id": "_1QlV5W7RXwo",
        "outputId": "896519b3-dc75-4d0a-cc7d-6e30a6f26ce2"
      },
      "execution_count": 28,
      "outputs": [
        {
          "output_type": "execute_result",
          "data": {
            "text/plain": [
              "array([[1., 0.],\n",
              "       [0., 1.],\n",
              "       [0., 0.]])"
            ]
          },
          "metadata": {},
          "execution_count": 28
        }
      ]
    },
    {
      "cell_type": "markdown",
      "source": [
        "#### Diagonal Matrix\n",
        "\n",
        "$$\n",
        "D =\n",
        "\\left[\n",
        "    \\begin{matrix}\n",
        "    d_1 & 0 & 0 \\\\\n",
        "    0 & d_2 & 0 \\\\\n",
        "    0 & 0 & d_3 \n",
        "    \\end{matrix}\n",
        "\\right]\n",
        "$$"
      ],
      "metadata": {
        "id": "BE8Jz8YiTaMj"
      }
    },
    {
      "cell_type": "code",
      "source": [
        "sym.diag(1, 2, 3)"
      ],
      "metadata": {
        "colab": {
          "base_uri": "https://localhost:8080/",
          "height": 78
        },
        "id": "QQG2L-CzTeJ9",
        "outputId": "ac11a66e-09a6-48fb-f591-66c1e6400b5b"
      },
      "execution_count": 29,
      "outputs": [
        {
          "output_type": "execute_result",
          "data": {
            "text/plain": [
              "Matrix([\n",
              "[1, 0, 0],\n",
              "[0, 2, 0],\n",
              "[0, 0, 3]])"
            ],
            "text/latex": "$\\displaystyle \\left[\\begin{matrix}1 & 0 & 0\\\\0 & 2 & 0\\\\0 & 0 & 3\\end{matrix}\\right]$"
          },
          "metadata": {},
          "execution_count": 29
        }
      ]
    },
    {
      "cell_type": "code",
      "source": [
        "sym.diag(3, 3, 7, 2, 8)"
      ],
      "metadata": {
        "colab": {
          "base_uri": "https://localhost:8080/",
          "height": 119
        },
        "id": "VPiyGfrbTqPV",
        "outputId": "16c1186a-f802-47f0-c41e-66e146c0235e"
      },
      "execution_count": 30,
      "outputs": [
        {
          "output_type": "execute_result",
          "data": {
            "text/plain": [
              "Matrix([\n",
              "[3, 0, 0, 0, 0],\n",
              "[0, 3, 0, 0, 0],\n",
              "[0, 0, 7, 0, 0],\n",
              "[0, 0, 0, 2, 0],\n",
              "[0, 0, 0, 0, 8]])"
            ],
            "text/latex": "$\\displaystyle \\left[\\begin{matrix}3 & 0 & 0 & 0 & 0\\\\0 & 3 & 0 & 0 & 0\\\\0 & 0 & 7 & 0 & 0\\\\0 & 0 & 0 & 2 & 0\\\\0 & 0 & 0 & 0 & 8\\end{matrix}\\right]$"
          },
          "metadata": {},
          "execution_count": 30
        }
      ]
    },
    {
      "cell_type": "code",
      "source": [
        "np.diag([1, 2, 3])"
      ],
      "metadata": {
        "colab": {
          "base_uri": "https://localhost:8080/"
        },
        "id": "StAVhFvgTw-6",
        "outputId": "65b7d0c0-dc50-4ba4-a3e7-cb5a05bf56e0"
      },
      "execution_count": 31,
      "outputs": [
        {
          "output_type": "execute_result",
          "data": {
            "text/plain": [
              "array([[1, 0, 0],\n",
              "       [0, 2, 0],\n",
              "       [0, 0, 3]])"
            ]
          },
          "metadata": {},
          "execution_count": 31
        }
      ]
    },
    {
      "cell_type": "code",
      "source": [
        "np.diag([3, 3, 7, 2, 8])"
      ],
      "metadata": {
        "colab": {
          "base_uri": "https://localhost:8080/"
        },
        "id": "_17ELvY8T11j",
        "outputId": "2aaefc45-8356-456e-d20d-4a1dc010b0ff"
      },
      "execution_count": 32,
      "outputs": [
        {
          "output_type": "execute_result",
          "data": {
            "text/plain": [
              "array([[3, 0, 0, 0, 0],\n",
              "       [0, 3, 0, 0, 0],\n",
              "       [0, 0, 7, 0, 0],\n",
              "       [0, 0, 0, 2, 0],\n",
              "       [0, 0, 0, 0, 8]])"
            ]
          },
          "metadata": {},
          "execution_count": 32
        }
      ]
    },
    {
      "cell_type": "markdown",
      "source": [
        "#### Banded Matrix"
      ],
      "metadata": {
        "id": "4bDmp3K2Vbr7"
      }
    },
    {
      "cell_type": "markdown",
      "source": [
        "##### Example: Tridiagonal"
      ],
      "metadata": {
        "id": "uKicR9xUVe_v"
      }
    },
    {
      "cell_type": "code",
      "source": [
        "# takes a dictionary as an argument\n",
        "# key 0: the diagnoal\n",
        "# key -1: the lower diagonal\n",
        "# key 1: the upper diagonal\n",
        "# - can extend beyond -1 and 1 \n",
        "d1, d2, d3 = sym.symbols('d_1 d_2 d_3')\n",
        "l1, l2 = sym.symbols('l_1 l_2')\n",
        "u1, u2 = sym.symbols('u_1 u_2')\n",
        "\n",
        "sym.banded({0: (d1, d2, d3), -1: (l1, l2), 1: (u1, u2)})"
      ],
      "metadata": {
        "colab": {
          "base_uri": "https://localhost:8080/",
          "height": 78
        },
        "id": "HAV1JMMDWFX5",
        "outputId": "d978bde0-9b23-4256-e507-fc4806cecb56"
      },
      "execution_count": 33,
      "outputs": [
        {
          "output_type": "execute_result",
          "data": {
            "text/plain": [
              "Matrix([\n",
              "[d_1, u_1,   0],\n",
              "[l_1, d_2, u_2],\n",
              "[  0, l_2, d_3]])"
            ],
            "text/latex": "$\\displaystyle \\left[\\begin{matrix}d_{1} & u_{1} & 0\\\\l_{1} & d_{2} & u_{2}\\\\0 & l_{2} & d_{3}\\end{matrix}\\right]$"
          },
          "metadata": {},
          "execution_count": 33
        }
      ]
    },
    {
      "cell_type": "markdown",
      "source": [
        "#### Triangular Matrix"
      ],
      "metadata": {
        "id": "Gy8SBFrVZGmo"
      }
    },
    {
      "cell_type": "markdown",
      "source": [
        "##### Upper Triangular Matrix"
      ],
      "metadata": {
        "id": "uW48eNQdZJBM"
      }
    },
    {
      "cell_type": "code",
      "source": [
        "a, b, c, d, e, f = sym.symbols('a b c d e f')\n",
        "\n",
        "U = sym.Matrix([[a, b, c],\n",
        "                [0, d, e],\n",
        "                [0, 0, f]])\n",
        "\n",
        "U"
      ],
      "metadata": {
        "colab": {
          "base_uri": "https://localhost:8080/",
          "height": 78
        },
        "id": "qVU615pBZpHT",
        "outputId": "c686312e-d508-46c7-f44d-2ff3f20b4fcd"
      },
      "execution_count": 34,
      "outputs": [
        {
          "output_type": "execute_result",
          "data": {
            "text/plain": [
              "Matrix([\n",
              "[a, b, c],\n",
              "[0, d, e],\n",
              "[0, 0, f]])"
            ],
            "text/latex": "$\\displaystyle \\left[\\begin{matrix}a & b & c\\\\0 & d & e\\\\0 & 0 & f\\end{matrix}\\right]$"
          },
          "metadata": {},
          "execution_count": 34
        }
      ]
    },
    {
      "cell_type": "markdown",
      "source": [
        "##### Lower Triangular Matrix"
      ],
      "metadata": {
        "id": "cHglRp38Z6rN"
      }
    },
    {
      "cell_type": "code",
      "source": [
        "L = sym.Matrix([[a, 0, 0],\n",
        "                [b, c, 0],\n",
        "                [d, e, f]])\n",
        "\n",
        "L"
      ],
      "metadata": {
        "colab": {
          "base_uri": "https://localhost:8080/",
          "height": 78
        },
        "id": "I3UVB_mIZ_Lz",
        "outputId": "32d065e9-31d3-4515-8f23-0b18189b18c2"
      },
      "execution_count": 35,
      "outputs": [
        {
          "output_type": "execute_result",
          "data": {
            "text/plain": [
              "Matrix([\n",
              "[a, 0, 0],\n",
              "[b, c, 0],\n",
              "[d, e, f]])"
            ],
            "text/latex": "$\\displaystyle \\left[\\begin{matrix}a & 0 & 0\\\\b & c & 0\\\\d & e & f\\end{matrix}\\right]$"
          },
          "metadata": {},
          "execution_count": 35
        }
      ]
    },
    {
      "cell_type": "markdown",
      "source": [
        "### Product of Diagonal Matrices\n",
        "\n",
        "The product of two diagonal matrices is a diagonal matrix, with elements given by the product of the diagonal elements"
      ],
      "metadata": {
        "id": "hQtx-pLGgdz6"
      }
    },
    {
      "cell_type": "code",
      "source": [
        "a1, a2, a3, b1, b2, b3 = sym.symbols('a_1 a_2 a_3 b_1 b_2 b_3')\n",
        "\n",
        "A = sym.diag(a1, a2, a3)\n",
        "B = sym.diag(b1, b2, b3)"
      ],
      "metadata": {
        "id": "hzdUNPKBgsb7"
      },
      "execution_count": 36,
      "outputs": []
    },
    {
      "cell_type": "code",
      "source": [
        "A"
      ],
      "metadata": {
        "colab": {
          "base_uri": "https://localhost:8080/",
          "height": 78
        },
        "id": "K7UMjKGng-O8",
        "outputId": "14cc039d-a2a1-4d7a-cc20-5e0198ee3e00"
      },
      "execution_count": 37,
      "outputs": [
        {
          "output_type": "execute_result",
          "data": {
            "text/plain": [
              "Matrix([\n",
              "[a_1,   0,   0],\n",
              "[  0, a_2,   0],\n",
              "[  0,   0, a_3]])"
            ],
            "text/latex": "$\\displaystyle \\left[\\begin{matrix}a_{1} & 0 & 0\\\\0 & a_{2} & 0\\\\0 & 0 & a_{3}\\end{matrix}\\right]$"
          },
          "metadata": {},
          "execution_count": 37
        }
      ]
    },
    {
      "cell_type": "code",
      "source": [
        "B"
      ],
      "metadata": {
        "colab": {
          "base_uri": "https://localhost:8080/",
          "height": 78
        },
        "id": "Kecx_J8Lg-W8",
        "outputId": "b0f14363-279b-4e4c-c09d-a2e51d132ea8"
      },
      "execution_count": 38,
      "outputs": [
        {
          "output_type": "execute_result",
          "data": {
            "text/plain": [
              "Matrix([\n",
              "[b_1,   0,   0],\n",
              "[  0, b_2,   0],\n",
              "[  0,   0, b_3]])"
            ],
            "text/latex": "$\\displaystyle \\left[\\begin{matrix}b_{1} & 0 & 0\\\\0 & b_{2} & 0\\\\0 & 0 & b_{3}\\end{matrix}\\right]$"
          },
          "metadata": {},
          "execution_count": 38
        }
      ]
    },
    {
      "cell_type": "code",
      "source": [
        "A * B"
      ],
      "metadata": {
        "colab": {
          "base_uri": "https://localhost:8080/",
          "height": 78
        },
        "id": "JPRKHUaLhBHV",
        "outputId": "b8a578c7-bc21-41c0-87f9-77de3c36edd6"
      },
      "execution_count": 39,
      "outputs": [
        {
          "output_type": "execute_result",
          "data": {
            "text/plain": [
              "Matrix([\n",
              "[a_1*b_1,       0,       0],\n",
              "[      0, a_2*b_2,       0],\n",
              "[      0,       0, a_3*b_3]])"
            ],
            "text/latex": "$\\displaystyle \\left[\\begin{matrix}a_{1} b_{1} & 0 & 0\\\\0 & a_{2} b_{2} & 0\\\\0 & 0 & a_{3} b_{3}\\end{matrix}\\right]$"
          },
          "metadata": {},
          "execution_count": 39
        }
      ]
    },
    {
      "cell_type": "markdown",
      "source": [
        "### Product of Triangular Matrices\n",
        "\n",
        "The product of two upper triangular matrices is an upper triangular matrix, with the diagonal elements of the product given by the product of the diagonal elements"
      ],
      "metadata": {
        "id": "rGr-RWFnh9Pn"
      }
    },
    {
      "cell_type": "code",
      "source": [
        "A = sym.Matrix([[a1, a2],\n",
        "                [0, a3]])\n",
        "\n",
        "B = sym.Matrix([[b1, b2],\n",
        "                [0, b3]])\n",
        "\n",
        "A"
      ],
      "metadata": {
        "colab": {
          "base_uri": "https://localhost:8080/",
          "height": 58
        },
        "id": "ZH0QEtEuiQpP",
        "outputId": "ae879a4d-6827-4130-b3ab-4b0bbccb3eaf"
      },
      "execution_count": 40,
      "outputs": [
        {
          "output_type": "execute_result",
          "data": {
            "text/plain": [
              "Matrix([\n",
              "[a_1, a_2],\n",
              "[  0, a_3]])"
            ],
            "text/latex": "$\\displaystyle \\left[\\begin{matrix}a_{1} & a_{2}\\\\0 & a_{3}\\end{matrix}\\right]$"
          },
          "metadata": {},
          "execution_count": 40
        }
      ]
    },
    {
      "cell_type": "code",
      "source": [
        "B"
      ],
      "metadata": {
        "colab": {
          "base_uri": "https://localhost:8080/",
          "height": 58
        },
        "id": "NJFx60ehiqZf",
        "outputId": "18138a6c-dead-42b9-e722-274733a8fb72"
      },
      "execution_count": 41,
      "outputs": [
        {
          "output_type": "execute_result",
          "data": {
            "text/plain": [
              "Matrix([\n",
              "[b_1, b_2],\n",
              "[  0, b_3]])"
            ],
            "text/latex": "$\\displaystyle \\left[\\begin{matrix}b_{1} & b_{2}\\\\0 & b_{3}\\end{matrix}\\right]$"
          },
          "metadata": {},
          "execution_count": 41
        }
      ]
    },
    {
      "cell_type": "code",
      "source": [
        "A * B"
      ],
      "metadata": {
        "colab": {
          "base_uri": "https://localhost:8080/",
          "height": 58
        },
        "id": "Meee4HwiirAU",
        "outputId": "7dc4e933-312e-4691-a568-4390826ed67b"
      },
      "execution_count": 42,
      "outputs": [
        {
          "output_type": "execute_result",
          "data": {
            "text/plain": [
              "Matrix([\n",
              "[a_1*b_1, a_1*b_2 + a_2*b_3],\n",
              "[      0,           a_3*b_3]])"
            ],
            "text/latex": "$\\displaystyle \\left[\\begin{matrix}a_{1} b_{1} & a_{1} b_{2} + a_{2} b_{3}\\\\0 & a_{3} b_{3}\\end{matrix}\\right]$"
          },
          "metadata": {},
          "execution_count": 42
        }
      ]
    },
    {
      "cell_type": "markdown",
      "source": [
        "## 1.2 Transpose and Inverses"
      ],
      "metadata": {
        "id": "Tm24-e16n2c4"
      }
    },
    {
      "cell_type": "markdown",
      "source": [
        "### Transpose Matrix\n",
        "\n",
        "The rows become the columns and the columns become the rows\n",
        "\n",
        "In terms of individual elements: \n",
        "\n",
        "$$\n",
        "a_{ij}^T = a_{ji}\n",
        "$$"
      ],
      "metadata": {
        "id": "rCCoDQubn9vJ"
      }
    },
    {
      "cell_type": "markdown",
      "source": [
        "#### Transpose identities\n",
        "\n",
        "$$\n",
        "\\left(A^{T}\\right)^{T} = A\n",
        "\\\\\n",
        "\\left(A + B\\right)^{T} = A^{T} + B^{T}\n",
        "\\\\\n",
        "\\left(AB\\right)^{T} = B^{T}A^{T}\n",
        "$$"
      ],
      "metadata": {
        "id": "BezxOlQYvrmI"
      }
    },
    {
      "cell_type": "code",
      "source": [
        "a11, a12, a13 = sym.symbols('a_11 a_12 a_13')\n",
        "a21, a22, a23 = sym.symbols('a_21 a_22 a_23')\n",
        "a31, a32, a33 = sym.symbols('a_31 a_32 a_33')"
      ],
      "metadata": {
        "id": "KONgPawXp-rE"
      },
      "execution_count": 43,
      "outputs": []
    },
    {
      "cell_type": "code",
      "source": [
        "A = sym.Matrix([[a11, a12, a13],\n",
        "                [a21, a22, a23],\n",
        "                [a31, a32, a33]])\n",
        "\n",
        "A"
      ],
      "metadata": {
        "colab": {
          "base_uri": "https://localhost:8080/",
          "height": 78
        },
        "id": "h0OECjHMqlsA",
        "outputId": "25c83cef-2d05-4ec9-f8e1-e7c447d6377d"
      },
      "execution_count": 44,
      "outputs": [
        {
          "output_type": "execute_result",
          "data": {
            "text/plain": [
              "Matrix([\n",
              "[a_11, a_12, a_13],\n",
              "[a_21, a_22, a_23],\n",
              "[a_31, a_32, a_33]])"
            ],
            "text/latex": "$\\displaystyle \\left[\\begin{matrix}a_{11} & a_{12} & a_{13}\\\\a_{21} & a_{22} & a_{23}\\\\a_{31} & a_{32} & a_{33}\\end{matrix}\\right]$"
          },
          "metadata": {},
          "execution_count": 44
        }
      ]
    },
    {
      "cell_type": "code",
      "source": [
        "A.T"
      ],
      "metadata": {
        "colab": {
          "base_uri": "https://localhost:8080/",
          "height": 78
        },
        "id": "HXqT2VuqtRaS",
        "outputId": "423c9d61-3867-4841-e970-2e2ef55c5161"
      },
      "execution_count": 45,
      "outputs": [
        {
          "output_type": "execute_result",
          "data": {
            "text/plain": [
              "Matrix([\n",
              "[a_11, a_21, a_31],\n",
              "[a_12, a_22, a_32],\n",
              "[a_13, a_23, a_33]])"
            ],
            "text/latex": "$\\displaystyle \\left[\\begin{matrix}a_{11} & a_{21} & a_{31}\\\\a_{12} & a_{22} & a_{32}\\\\a_{13} & a_{23} & a_{33}\\end{matrix}\\right]$"
          },
          "metadata": {},
          "execution_count": 45
        }
      ]
    },
    {
      "cell_type": "code",
      "source": [
        "# numpy\n",
        "A = np.array([[101, 101, 103],\n",
        "              [201, 202, 203]])\n",
        "\n",
        "A.transpose()"
      ],
      "metadata": {
        "colab": {
          "base_uri": "https://localhost:8080/"
        },
        "id": "VxsJsSvatfNj",
        "outputId": "e22fafbd-72e2-43bc-a505-67579bfc1533"
      },
      "execution_count": 46,
      "outputs": [
        {
          "output_type": "execute_result",
          "data": {
            "text/plain": [
              "array([[101, 201],\n",
              "       [101, 202],\n",
              "       [103, 203]])"
            ]
          },
          "metadata": {},
          "execution_count": 46
        }
      ]
    },
    {
      "cell_type": "code",
      "source": [
        "np.transpose(A)"
      ],
      "metadata": {
        "colab": {
          "base_uri": "https://localhost:8080/"
        },
        "id": "wl0j0C4kupvm",
        "outputId": "ea00a692-a815-4d11-f179-4a4a56b3190b"
      },
      "execution_count": 47,
      "outputs": [
        {
          "output_type": "execute_result",
          "data": {
            "text/plain": [
              "array([[101, 201],\n",
              "       [101, 202],\n",
              "       [103, 203]])"
            ]
          },
          "metadata": {},
          "execution_count": 47
        }
      ]
    },
    {
      "cell_type": "markdown",
      "source": [
        "### Symmetric Matrix\n",
        "\n",
        "- $A^{T} = A$\n",
        "- A square matrix that is equal to its transpose is called a **symmetric matrix**\n",
        "- These matrices are symmetric about the diagonal"
      ],
      "metadata": {
        "id": "xpRWVoOyx6bc"
      }
    },
    {
      "cell_type": "code",
      "source": [
        "a, b, c, d, e, f = sym.symbols('a b c d e f')\n",
        "\n",
        "A = sym.Matrix([[a, b, c],\n",
        "                [b, d, e],\n",
        "                [c, e, f]])\n",
        "\n",
        "A"
      ],
      "metadata": {
        "colab": {
          "base_uri": "https://localhost:8080/",
          "height": 78
        },
        "id": "tuYC3c6sylV1",
        "outputId": "bbd588b2-eebe-4092-c429-ecf7a216e756"
      },
      "execution_count": 48,
      "outputs": [
        {
          "output_type": "execute_result",
          "data": {
            "text/plain": [
              "Matrix([\n",
              "[a, b, c],\n",
              "[b, d, e],\n",
              "[c, e, f]])"
            ],
            "text/latex": "$\\displaystyle \\left[\\begin{matrix}a & b & c\\\\b & d & e\\\\c & e & f\\end{matrix}\\right]$"
          },
          "metadata": {},
          "execution_count": 48
        }
      ]
    },
    {
      "cell_type": "code",
      "source": [
        "A.T"
      ],
      "metadata": {
        "colab": {
          "base_uri": "https://localhost:8080/",
          "height": 78
        },
        "id": "RPzHIH0nzPg-",
        "outputId": "e97552b6-36fc-4889-b11f-d9fb356b5466"
      },
      "execution_count": 49,
      "outputs": [
        {
          "output_type": "execute_result",
          "data": {
            "text/plain": [
              "Matrix([\n",
              "[a, b, c],\n",
              "[b, d, e],\n",
              "[c, e, f]])"
            ],
            "text/latex": "$\\displaystyle \\left[\\begin{matrix}a & b & c\\\\b & d & e\\\\c & e & f\\end{matrix}\\right]$"
          },
          "metadata": {},
          "execution_count": 49
        }
      ]
    },
    {
      "cell_type": "code",
      "source": [
        "A == A.T"
      ],
      "metadata": {
        "colab": {
          "base_uri": "https://localhost:8080/"
        },
        "id": "4TFnIWLJzTgd",
        "outputId": "137acdaa-464b-4913-9565-afa7b19db2d8"
      },
      "execution_count": 50,
      "outputs": [
        {
          "output_type": "execute_result",
          "data": {
            "text/plain": [
              "True"
            ]
          },
          "metadata": {},
          "execution_count": 50
        }
      ]
    },
    {
      "cell_type": "markdown",
      "source": [
        "#### Skew-symmetric Matrix\n",
        "\n",
        "- $A^{T} = -A$\n",
        "- A square matrix whose transpose is equal to its negative is called a **skew-symmetric matrix**\n",
        "- The diagonal must contain only 0s. "
      ],
      "metadata": {
        "id": "hGxW86hxz95S"
      }
    },
    {
      "cell_type": "code",
      "source": [
        "a, b, c = sym.symbols('a b c')\n",
        "\n",
        "A = sym.Matrix([[0, a, b],\n",
        "                [-a, 0, c],\n",
        "                [-b, -c, 0]])\n",
        "\n",
        "A"
      ],
      "metadata": {
        "colab": {
          "base_uri": "https://localhost:8080/",
          "height": 78
        },
        "id": "ue4Z9ZXJ0g0x",
        "outputId": "3730bb06-3b09-4423-d851-7946eee3625d"
      },
      "execution_count": 51,
      "outputs": [
        {
          "output_type": "execute_result",
          "data": {
            "text/plain": [
              "Matrix([\n",
              "[ 0,  a, b],\n",
              "[-a,  0, c],\n",
              "[-b, -c, 0]])"
            ],
            "text/latex": "$\\displaystyle \\left[\\begin{matrix}0 & a & b\\\\- a & 0 & c\\\\- b & - c & 0\\end{matrix}\\right]$"
          },
          "metadata": {},
          "execution_count": 51
        }
      ]
    },
    {
      "cell_type": "code",
      "source": [
        "A.T"
      ],
      "metadata": {
        "colab": {
          "base_uri": "https://localhost:8080/",
          "height": 78
        },
        "id": "uqeLT-sm1tVc",
        "outputId": "7b989faf-a76a-4b84-9159-304e93523afe"
      },
      "execution_count": 52,
      "outputs": [
        {
          "output_type": "execute_result",
          "data": {
            "text/plain": [
              "Matrix([\n",
              "[0, -a, -b],\n",
              "[a,  0, -c],\n",
              "[b,  c,  0]])"
            ],
            "text/latex": "$\\displaystyle \\left[\\begin{matrix}0 & - a & - b\\\\a & 0 & - c\\\\b & c & 0\\end{matrix}\\right]$"
          },
          "metadata": {},
          "execution_count": 52
        }
      ]
    },
    {
      "cell_type": "code",
      "source": [
        "-A"
      ],
      "metadata": {
        "colab": {
          "base_uri": "https://localhost:8080/",
          "height": 78
        },
        "id": "3b8rp3WV1v7T",
        "outputId": "c9afa499-241d-479f-93fa-550759bfce87"
      },
      "execution_count": 53,
      "outputs": [
        {
          "output_type": "execute_result",
          "data": {
            "text/plain": [
              "Matrix([\n",
              "[0, -a, -b],\n",
              "[a,  0, -c],\n",
              "[b,  c,  0]])"
            ],
            "text/latex": "$\\displaystyle \\left[\\begin{matrix}0 & - a & - b\\\\a & 0 & - c\\\\b & c & 0\\end{matrix}\\right]$"
          },
          "metadata": {},
          "execution_count": 53
        }
      ]
    },
    {
      "cell_type": "markdown",
      "source": [
        "### Inner and Outer Products"
      ],
      "metadata": {
        "id": "m8lFc66D5cfH"
      }
    },
    {
      "cell_type": "markdown",
      "source": [
        "#### Inner Product Between Two Vectors\n",
        "\n",
        "Let \n",
        "$\n",
        "u = \\left[\n",
        "    \\begin{matrix}\n",
        "        u_{1} \\\\ \n",
        "        u_{2} \\\\\n",
        "        \\vdots \\\\\n",
        "        u_{n}\n",
        "    \\end{matrix}\n",
        "\\right]\n",
        "$ \n",
        "and \n",
        "$\n",
        "v = \\left[\n",
        "    \\begin{matrix}\n",
        "        v_{1} \\\\ \n",
        "        v_{2} \\\\\n",
        "        \\vdots \\\\\n",
        "        v_{n}\n",
        "    \\end{matrix}\n",
        "\\right]\n",
        "$ \n",
        "be two column vectors. Then the **inner product** or **dot product** of $u$ and $v$ is denoted by $u^{T} \\cdot v$."
      ],
      "metadata": {
        "id": "q8_TuuDy6Cro"
      }
    },
    {
      "cell_type": "markdown",
      "source": [
        "$\n",
        "\\begin{align}\n",
        "u^{T} \\cdot v \n",
        "&= \n",
        "\\left[\n",
        "    \\begin{matrix}\n",
        "    u_{1} & u_{2} & \\dots & u_{n} \n",
        "\\end{matrix}\n",
        "\\right] \n",
        "\\cdot \n",
        "\\left[\n",
        "    \\begin{matrix}\n",
        "    v_{1} \\\\ \n",
        "    v_{2} \\\\\n",
        "    \\vdots \\\\\n",
        "    v_{n}\n",
        "\\end{matrix}\n",
        "\\right] \\\\\n",
        "&= \n",
        "u_{1}v_{1} + u_{2}v_{2} + \\dots + u_{n}v_{n}\n",
        "\\end{align}\n",
        "$"
      ],
      "metadata": {
        "id": "w6YqGsKZ6_8O"
      }
    },
    {
      "cell_type": "markdown",
      "source": [
        "- If $u^{T}v = 0$ then $u$ and $v$ are **orthogonal**\n",
        "- The **norm** of a vector, or its magnitude:\n",
        "\n",
        "$$\n",
        "||u|| = \\left(u^{T}u\\right)^{\\frac{1}{2}}\n",
        "$$\n",
        "\n",
        "- We say that vectors are **normalized** if $||u|| = 1$\n",
        "- If two normalized vectors are orthogonal we say that the vectors are **orthonormal**"
      ],
      "metadata": {
        "id": "CbVJhp99BHxm"
      }
    },
    {
      "cell_type": "code",
      "source": [
        "# normalize a vector\n",
        "x1, x2, x3 = sym.symbols('x_1 x_2 x_3')\n",
        "x = sym.Matrix([[x1],\n",
        "                [x2],\n",
        "                [x3]])\n",
        "\n",
        "normalized_x = x / sym.sqrt(x.dot(x))\n",
        "normalized_x"
      ],
      "metadata": {
        "colab": {
          "base_uri": "https://localhost:8080/",
          "height": 102
        },
        "id": "1VjwevMXDUeJ",
        "outputId": "a1dedd52-df2f-4a6a-b5c4-dfa0de7a984f"
      },
      "execution_count": 54,
      "outputs": [
        {
          "output_type": "execute_result",
          "data": {
            "text/plain": [
              "Matrix([\n",
              "[x_1/sqrt(x_1**2 + x_2**2 + x_3**2)],\n",
              "[x_2/sqrt(x_1**2 + x_2**2 + x_3**2)],\n",
              "[x_3/sqrt(x_1**2 + x_2**2 + x_3**2)]])"
            ],
            "text/latex": "$\\displaystyle \\left[\\begin{matrix}\\frac{x_{1}}{\\sqrt{x_{1}^{2} + x_{2}^{2} + x_{3}^{2}}}\\\\\\frac{x_{2}}{\\sqrt{x_{1}^{2} + x_{2}^{2} + x_{3}^{2}}}\\\\\\frac{x_{3}}{\\sqrt{x_{1}^{2} + x_{2}^{2} + x_{3}^{2}}}\\end{matrix}\\right]$"
          },
          "metadata": {},
          "execution_count": 54
        }
      ]
    },
    {
      "cell_type": "code",
      "source": [
        "len_normalized_x = sym.sqrt(normalized_x.dot(normalized_x))\n",
        "len_normalized_x.simplify()"
      ],
      "metadata": {
        "colab": {
          "base_uri": "https://localhost:8080/",
          "height": 37
        },
        "id": "7dDuX9__EunL",
        "outputId": "9bb37f31-f019-45c9-e99f-94ef0b6d8dba"
      },
      "execution_count": 55,
      "outputs": [
        {
          "output_type": "execute_result",
          "data": {
            "text/plain": [
              "1"
            ],
            "text/latex": "$\\displaystyle 1$"
          },
          "metadata": {},
          "execution_count": 55
        }
      ]
    },
    {
      "cell_type": "code",
      "source": [
        "u1, u2, u3, v1, v2, v3 = sym.symbols('u_1 u_2 u_3 v_1 v_2 v_3')\n",
        "\n",
        "u = sym.Matrix([[u1],\n",
        "                [u2],\n",
        "                [u3]])\n",
        "\n",
        "v = sym.Matrix([[v1],\n",
        "                [v2],\n",
        "                [v3]])"
      ],
      "metadata": {
        "id": "JmKV1tV46HsZ"
      },
      "execution_count": 56,
      "outputs": []
    },
    {
      "cell_type": "code",
      "source": [
        "(u.T * v)[0]"
      ],
      "metadata": {
        "colab": {
          "base_uri": "https://localhost:8080/",
          "height": 39
        },
        "id": "J2hOU9gX7uc1",
        "outputId": "b55d40f7-d529-459e-c258-5c94985ddd72"
      },
      "execution_count": 57,
      "outputs": [
        {
          "output_type": "execute_result",
          "data": {
            "text/plain": [
              "u_1*v_1 + u_2*v_2 + u_3*v_3"
            ],
            "text/latex": "$\\displaystyle u_{1} v_{1} + u_{2} v_{2} + u_{3} v_{3}$"
          },
          "metadata": {},
          "execution_count": 57
        }
      ]
    },
    {
      "cell_type": "code",
      "source": [
        "u.dot(v)"
      ],
      "metadata": {
        "colab": {
          "base_uri": "https://localhost:8080/",
          "height": 39
        },
        "id": "De7CgYmB71rE",
        "outputId": "847e81f0-8652-4a7b-cc6f-3d4aa1341e34"
      },
      "execution_count": 58,
      "outputs": [
        {
          "output_type": "execute_result",
          "data": {
            "text/plain": [
              "u_1*v_1 + u_2*v_2 + u_3*v_3"
            ],
            "text/latex": "$\\displaystyle u_{1} v_{1} + u_{2} v_{2} + u_{3} v_{3}$"
          },
          "metadata": {},
          "execution_count": 58
        }
      ]
    },
    {
      "cell_type": "code",
      "source": [
        "# numpy \n",
        "\n",
        "u = np.array([[1],\n",
        "              [2],\n",
        "              [3]])\n",
        "\n",
        "v = np.array([[4],\n",
        "              [5],\n",
        "              [6]])"
      ],
      "metadata": {
        "id": "iQaJ5EGH8Khs"
      },
      "execution_count": 59,
      "outputs": []
    },
    {
      "cell_type": "code",
      "source": [
        "u.reshape(-1).dot(v.reshape(-1))"
      ],
      "metadata": {
        "colab": {
          "base_uri": "https://localhost:8080/"
        },
        "id": "7GoE1i9o_Bnj",
        "outputId": "0d03cccd-7c47-403a-f301-12b3f1ffad1a"
      },
      "execution_count": 60,
      "outputs": [
        {
          "output_type": "execute_result",
          "data": {
            "text/plain": [
              "32"
            ]
          },
          "metadata": {},
          "execution_count": 60
        }
      ]
    },
    {
      "cell_type": "code",
      "source": [
        "np.inner(u.reshape(-1), v.reshape(-1))"
      ],
      "metadata": {
        "colab": {
          "base_uri": "https://localhost:8080/"
        },
        "id": "5bP73ALa_oeM",
        "outputId": "7a712c41-09df-4a26-dcab-4b452ce04d79"
      },
      "execution_count": 61,
      "outputs": [
        {
          "output_type": "execute_result",
          "data": {
            "text/plain": [
              "32"
            ]
          },
          "metadata": {},
          "execution_count": 61
        }
      ]
    },
    {
      "cell_type": "code",
      "source": [
        "# sympy\n",
        "u_sym = sym.Matrix(u)\n",
        "v_sym = sym.Matrix(v)"
      ],
      "metadata": {
        "id": "Un5_Pw6j8Wgt"
      },
      "execution_count": 62,
      "outputs": []
    },
    {
      "cell_type": "code",
      "source": [
        "(u_sym.T * v_sym)[0]"
      ],
      "metadata": {
        "colab": {
          "base_uri": "https://localhost:8080/",
          "height": 37
        },
        "id": "VYIY5dIi8tx2",
        "outputId": "eb3b57d8-432e-4b4b-bd58-a57b47f3efba"
      },
      "execution_count": 63,
      "outputs": [
        {
          "output_type": "execute_result",
          "data": {
            "text/plain": [
              "32"
            ],
            "text/latex": "$\\displaystyle 32$"
          },
          "metadata": {},
          "execution_count": 63
        }
      ]
    },
    {
      "cell_type": "code",
      "source": [
        "u_sym.dot(v_sym)"
      ],
      "metadata": {
        "colab": {
          "base_uri": "https://localhost:8080/",
          "height": 37
        },
        "id": "GsR9o7tU80ft",
        "outputId": "13628841-8cb4-45bb-eb30-aab03dff04ea"
      },
      "execution_count": 64,
      "outputs": [
        {
          "output_type": "execute_result",
          "data": {
            "text/plain": [
              "32"
            ],
            "text/latex": "$\\displaystyle 32$"
          },
          "metadata": {},
          "execution_count": 64
        }
      ]
    },
    {
      "cell_type": "markdown",
      "source": [
        "#### Outer Product Between Two Vectors"
      ],
      "metadata": {
        "id": "yvGCnq9mGWfd"
      }
    },
    {
      "cell_type": "code",
      "source": [
        "u1, u2, u3, v1, v2, v3 = sym.symbols('u_1 u_2 u_3 v_1 v_2 v_3')\n",
        "\n",
        "u = sym.Matrix([[u1],\n",
        "                [u2],\n",
        "                [u3]])\n",
        "\n",
        "v = sym.Matrix([[v1],\n",
        "                [v2],\n",
        "                [v3]])"
      ],
      "metadata": {
        "id": "3GfqaD4AHDji"
      },
      "execution_count": 65,
      "outputs": []
    },
    {
      "cell_type": "code",
      "source": [
        "u * v.T"
      ],
      "metadata": {
        "colab": {
          "base_uri": "https://localhost:8080/",
          "height": 78
        },
        "id": "Qh_ItBk7HQdv",
        "outputId": "c1e6e73a-e51c-455b-bee9-2b4ea4b91d3f"
      },
      "execution_count": 66,
      "outputs": [
        {
          "output_type": "execute_result",
          "data": {
            "text/plain": [
              "Matrix([\n",
              "[u_1*v_1, u_1*v_2, u_1*v_3],\n",
              "[u_2*v_1, u_2*v_2, u_2*v_3],\n",
              "[u_3*v_1, u_3*v_2, u_3*v_3]])"
            ],
            "text/latex": "$\\displaystyle \\left[\\begin{matrix}u_{1} v_{1} & u_{1} v_{2} & u_{1} v_{3}\\\\u_{2} v_{1} & u_{2} v_{2} & u_{2} v_{3}\\\\u_{3} v_{1} & u_{3} v_{2} & u_{3} v_{3}\\end{matrix}\\right]$"
          },
          "metadata": {},
          "execution_count": 66
        }
      ]
    },
    {
      "cell_type": "markdown",
      "source": [
        "### Example of a Symmetric Matrix\n",
        "\n",
        "Let A be a rectangular matrix given by:"
      ],
      "metadata": {
        "id": "XQDglRcfJp4J"
      }
    },
    {
      "cell_type": "code",
      "source": [
        "a, b, c, d, e, f = sym.symbols('a b c d e f')\n",
        "\n",
        "A = sym.Matrix([[a, d],\n",
        "                [b, e],\n",
        "                [c, f]])\n",
        "A"
      ],
      "metadata": {
        "colab": {
          "base_uri": "https://localhost:8080/",
          "height": 78
        },
        "id": "BubnnUJ-J11w",
        "outputId": "06dbd654-ba9b-4484-834e-cfd49a4d3b38"
      },
      "execution_count": 67,
      "outputs": [
        {
          "output_type": "execute_result",
          "data": {
            "text/plain": [
              "Matrix([\n",
              "[a, d],\n",
              "[b, e],\n",
              "[c, f]])"
            ],
            "text/latex": "$\\displaystyle \\left[\\begin{matrix}a & d\\\\b & e\\\\c & f\\end{matrix}\\right]$"
          },
          "metadata": {},
          "execution_count": 67
        }
      ]
    },
    {
      "cell_type": "markdown",
      "source": [
        "Compute $A^{T}A$ and show that it is a symmetric matrix and that the sum of its diagonal elements is the sum of the squares of all the elements of $A$"
      ],
      "metadata": {
        "id": "u2YAAZInKGkE"
      }
    },
    {
      "cell_type": "code",
      "source": [
        "C = A.T * A\n",
        "C"
      ],
      "metadata": {
        "colab": {
          "base_uri": "https://localhost:8080/",
          "height": 58
        },
        "id": "S1zgPaGlKZeP",
        "outputId": "51288f99-2e9a-4b48-9fd9-61a6faf2f2bb"
      },
      "execution_count": 68,
      "outputs": [
        {
          "output_type": "execute_result",
          "data": {
            "text/plain": [
              "Matrix([\n",
              "[a**2 + b**2 + c**2,    a*d + b*e + c*f],\n",
              "[   a*d + b*e + c*f, d**2 + e**2 + f**2]])"
            ],
            "text/latex": "$\\displaystyle \\left[\\begin{matrix}a^{2} + b^{2} + c^{2} & a d + b e + c f\\\\a d + b e + c f & d^{2} + e^{2} + f^{2}\\end{matrix}\\right]$"
          },
          "metadata": {},
          "execution_count": 68
        }
      ]
    },
    {
      "cell_type": "code",
      "source": [
        "C.is_symmetric()"
      ],
      "metadata": {
        "colab": {
          "base_uri": "https://localhost:8080/"
        },
        "id": "B0wrDsEaK7Jh",
        "outputId": "c4c8d1bb-4c16-4976-ec8e-baef2ae76fef"
      },
      "execution_count": 69,
      "outputs": [
        {
          "output_type": "execute_result",
          "data": {
            "text/plain": [
              "True"
            ]
          },
          "metadata": {},
          "execution_count": 69
        }
      ]
    },
    {
      "cell_type": "code",
      "source": [
        "sum_diagonals_of_C = sym.Add()\n",
        "\n",
        "for i in range(C.rows):\n",
        "    for j in range(C.cols):\n",
        "        if i == j:\n",
        "            sum_diagonals_of_C += C[i, j]\n",
        "\n",
        "sum_diagonals_of_C.simplify()"
      ],
      "metadata": {
        "colab": {
          "base_uri": "https://localhost:8080/",
          "height": 39
        },
        "id": "IZO-mLZbLBdU",
        "outputId": "dce7a447-5d61-4b33-8227-b6c0ff0486f2"
      },
      "execution_count": 70,
      "outputs": [
        {
          "output_type": "execute_result",
          "data": {
            "text/plain": [
              "a**2 + b**2 + c**2 + d**2 + e**2 + f**2"
            ],
            "text/latex": "$\\displaystyle a^{2} + b^{2} + c^{2} + d^{2} + e^{2} + f^{2}$"
          },
          "metadata": {},
          "execution_count": 70
        }
      ]
    },
    {
      "cell_type": "code",
      "source": [
        "sum_squares_elements_of_A = sym.Add()\n",
        "\n",
        "for i in range(A.rows):\n",
        "    for j in range(A.cols):\n",
        "        sum_squares_elements_of_A += (A[i, j])**2\n",
        "\n",
        "sum_squares_elements_of_A"
      ],
      "metadata": {
        "colab": {
          "base_uri": "https://localhost:8080/",
          "height": 39
        },
        "id": "Ny4d9BLSM7_3",
        "outputId": "d75c869f-18a3-43c3-c271-61d164d161b3"
      },
      "execution_count": 71,
      "outputs": [
        {
          "output_type": "execute_result",
          "data": {
            "text/plain": [
              "a**2 + b**2 + c**2 + d**2 + e**2 + f**2"
            ],
            "text/latex": "$\\displaystyle a^{2} + b^{2} + c^{2} + d^{2} + e^{2} + f^{2}$"
          },
          "metadata": {},
          "execution_count": 71
        }
      ]
    },
    {
      "cell_type": "markdown",
      "source": [
        "### The Trace of a Square Matrix\n",
        "\n",
        "- The **trace** of a square matrix, $A$, denoted by $Tr A$ is the sum of the diagional elements of $B$"
      ],
      "metadata": {
        "id": "nlkTekbUnWF1"
      }
    },
    {
      "cell_type": "code",
      "source": [
        "a, b, c, d, e, f, g, h, i = sym.symbols('a b c d e f g h i')\n",
        "\n",
        "A = sym.Matrix([[a, b, c],\n",
        "                [d, e, f],\n",
        "                [g, h, i]])\n",
        "\n",
        "A"
      ],
      "metadata": {
        "id": "HWgdL0CTNszC",
        "colab": {
          "base_uri": "https://localhost:8080/",
          "height": 78
        },
        "outputId": "27eaf413-1f7a-479d-f83e-10b144e63c6e"
      },
      "execution_count": 72,
      "outputs": [
        {
          "output_type": "execute_result",
          "data": {
            "text/plain": [
              "Matrix([\n",
              "[a, b, c],\n",
              "[d, e, f],\n",
              "[g, h, i]])"
            ],
            "text/latex": "$\\displaystyle \\left[\\begin{matrix}a & b & c\\\\d & e & f\\\\g & h & i\\end{matrix}\\right]$"
          },
          "metadata": {},
          "execution_count": 72
        }
      ]
    },
    {
      "cell_type": "code",
      "source": [
        "sym.trace(A), A.trace()"
      ],
      "metadata": {
        "colab": {
          "base_uri": "https://localhost:8080/"
        },
        "id": "lHk8HrLiofE3",
        "outputId": "eeb00eda-9ba9-4efe-e1c9-68398fb37efa"
      },
      "execution_count": 73,
      "outputs": [
        {
          "output_type": "execute_result",
          "data": {
            "text/plain": [
              "(a + e + i, a + e + i)"
            ]
          },
          "metadata": {},
          "execution_count": 73
        }
      ]
    },
    {
      "cell_type": "code",
      "source": [
        "# numpy\n",
        "\n",
        "B = np.array([[1, 2, 3],\n",
        "              [4, 5, 6],\n",
        "              [7, 8, 9]])\n",
        "\n",
        "B.trace(), np.trace(B)"
      ],
      "metadata": {
        "colab": {
          "base_uri": "https://localhost:8080/"
        },
        "id": "C6GRShXHpeFo",
        "outputId": "cb7ce0ea-e9f8-4864-af66-079ed4b315b1"
      },
      "execution_count": 74,
      "outputs": [
        {
          "output_type": "execute_result",
          "data": {
            "text/plain": [
              "(15, 15)"
            ]
          },
          "metadata": {},
          "execution_count": 74
        }
      ]
    },
    {
      "cell_type": "markdown",
      "source": [
        "### Sum of The Squares of the Elements of a Matrix\n",
        "\n",
        "Show that (then try to prove it) $Tr(A^{T}A)$ is the sum of the square of all the elements of $A$"
      ],
      "metadata": {
        "id": "MatE3RurpAOk"
      }
    },
    {
      "cell_type": "code",
      "source": [
        "(A.T * A).trace()"
      ],
      "metadata": {
        "colab": {
          "base_uri": "https://localhost:8080/",
          "height": 39
        },
        "id": "PkvzrV5lpWWh",
        "outputId": "d3eb213e-2caa-413b-949f-1fc8e0dd2ea6"
      },
      "execution_count": 75,
      "outputs": [
        {
          "output_type": "execute_result",
          "data": {
            "text/plain": [
              "a**2 + b**2 + c**2 + d**2 + e**2 + f**2 + g**2 + h**2 + i**2"
            ],
            "text/latex": "$\\displaystyle a^{2} + b^{2} + c^{2} + d^{2} + e^{2} + f^{2} + g^{2} + h^{2} + i^{2}$"
          },
          "metadata": {},
          "execution_count": 75
        }
      ]
    },
    {
      "cell_type": "code",
      "source": [
        "# careful, using numpy here, not sympy\n",
        "B.T.dot(B).trace(), (B.T @ B).trace()"
      ],
      "metadata": {
        "colab": {
          "base_uri": "https://localhost:8080/"
        },
        "id": "_ArvQQ_3szSz",
        "outputId": "7d39cef1-1fb4-4f97-9b85-ea9efe43f99c"
      },
      "execution_count": 76,
      "outputs": [
        {
          "output_type": "execute_result",
          "data": {
            "text/plain": [
              "(285, 285)"
            ]
          },
          "metadata": {},
          "execution_count": 76
        }
      ]
    },
    {
      "cell_type": "code",
      "source": [
        "# checking the answer\n",
        "sum([x**2 for x in B.flatten()])"
      ],
      "metadata": {
        "colab": {
          "base_uri": "https://localhost:8080/"
        },
        "id": "fM9CbCeKs8AC",
        "outputId": "bfb0bfb0-c703-471e-f237-b33bf8505134"
      },
      "execution_count": 77,
      "outputs": [
        {
          "output_type": "execute_result",
          "data": {
            "text/plain": [
              "285"
            ]
          },
          "metadata": {},
          "execution_count": 77
        }
      ]
    },
    {
      "cell_type": "markdown",
      "source": [
        "### Inverse Matrix\n",
        "\n",
        "- Inverses only exist for square matrices and not every square matrix has an inverse"
      ],
      "metadata": {
        "id": "OkyDWoPEynOz"
      }
    },
    {
      "cell_type": "markdown",
      "source": [
        "$$\n",
        "AA^{-1} = I = A^{-1}A\n",
        "\\\\\n",
        "(AB)^{-1} = B^{-1}A^{-1}\n",
        "\\\\\n",
        "(A^{T})^{-1} = (A^{-1})^{T}\n",
        "$$"
      ],
      "metadata": {
        "id": "oQASVOmQ2Wl3"
      }
    },
    {
      "cell_type": "code",
      "source": [
        "A = sym.Matrix([[1, 2, -1],\n",
        "                [-2, 0, 1],\n",
        "                [1, -1, 0]])\n",
        "\n",
        "A"
      ],
      "metadata": {
        "colab": {
          "base_uri": "https://localhost:8080/",
          "height": 78
        },
        "id": "BAzNzWBR5ND-",
        "outputId": "4d924f58-beb9-4534-a81a-3c213fb07b0b"
      },
      "execution_count": 78,
      "outputs": [
        {
          "output_type": "execute_result",
          "data": {
            "text/plain": [
              "Matrix([\n",
              "[ 1,  2, -1],\n",
              "[-2,  0,  1],\n",
              "[ 1, -1,  0]])"
            ],
            "text/latex": "$\\displaystyle \\left[\\begin{matrix}1 & 2 & -1\\\\-2 & 0 & 1\\\\1 & -1 & 0\\end{matrix}\\right]$"
          },
          "metadata": {},
          "execution_count": 78
        }
      ]
    },
    {
      "cell_type": "code",
      "source": [
        "A = sym.Matrix([[1, 2, -1],\n",
        "                [-2, 0, 1],\n",
        "                [1, -1, 0]])\n",
        "display(A)\n",
        "\n",
        "print('\\nLet B be the inverse of A\\n')\n",
        "print('Let B be an augmented version of A\\n')\n",
        "B = sym.Matrix.hstack(A, sym.eye(3))\n",
        "display(B)\n",
        "\n",
        "print('\\nR3 = R1 - R3\\n')\n",
        "B[2, :] = B.row(0) - B.row(2)\n",
        "display(B)\n",
        "\n",
        "print('\\nR2 = 2R1 + R2\\n')\n",
        "B[1, :] = 2 * B.row(0) + B.row(1)\n",
        "display(B)\n",
        "\n",
        "print('\\nR3 = 4R3 - 3R2\\n')\n",
        "B[2, :] = 4 * B.row(2) - 3 * B.row(1)\n",
        "display(B)\n",
        "\n",
        "print('\\nR1 = 2R1 - R2\\n')\n",
        "B[0, :] = 2 * B.row(0) - B.row(1)\n",
        "display(B)\n",
        "\n",
        "print('\\nR3 = -R3\\n')\n",
        "B[2, :] = -B.row(2)\n",
        "display(B)\n",
        "\n",
        "print('\\nR1 = R1 + R3')\n",
        "print('R2 = R2 + R3\\n')\n",
        "B[0, :] = B.row(0) + B.row(2)\n",
        "B[1, :] = B.row(1) + B.row(2)\n",
        "display(B)\n",
        "\n",
        "print('\\nR1 = R1/2')\n",
        "print('R2 = R2/4\\n')\n",
        "B[0, :] = B.row(0) / 2\n",
        "B[1, :] = B.row(1) / 4\n",
        "display(B)\n",
        "\n",
        "print('\\nRemove the first 3 columns\\n')\n",
        "B.col_del(0)\n",
        "B.col_del(0)\n",
        "B.col_del(0)\n",
        "display(B)"
      ],
      "metadata": {
        "colab": {
          "base_uri": "https://localhost:8080/",
          "height": 1000
        },
        "id": "q4ttb_So5fq2",
        "outputId": "f8d142f2-99e2-4136-f6a5-2918d17363ad"
      },
      "execution_count": 79,
      "outputs": [
        {
          "output_type": "display_data",
          "data": {
            "text/plain": [
              "Matrix([\n",
              "[ 1,  2, -1],\n",
              "[-2,  0,  1],\n",
              "[ 1, -1,  0]])"
            ],
            "text/latex": "$\\displaystyle \\left[\\begin{matrix}1 & 2 & -1\\\\-2 & 0 & 1\\\\1 & -1 & 0\\end{matrix}\\right]$"
          },
          "metadata": {}
        },
        {
          "output_type": "stream",
          "name": "stdout",
          "text": [
            "\n",
            "Let B be the inverse of A\n",
            "\n",
            "Let B be an augmented version of A\n",
            "\n"
          ]
        },
        {
          "output_type": "display_data",
          "data": {
            "text/plain": [
              "Matrix([\n",
              "[ 1,  2, -1, 1, 0, 0],\n",
              "[-2,  0,  1, 0, 1, 0],\n",
              "[ 1, -1,  0, 0, 0, 1]])"
            ],
            "text/latex": "$\\displaystyle \\left[\\begin{matrix}1 & 2 & -1 & 1 & 0 & 0\\\\-2 & 0 & 1 & 0 & 1 & 0\\\\1 & -1 & 0 & 0 & 0 & 1\\end{matrix}\\right]$"
          },
          "metadata": {}
        },
        {
          "output_type": "stream",
          "name": "stdout",
          "text": [
            "\n",
            "R3 = R1 - R3\n",
            "\n"
          ]
        },
        {
          "output_type": "display_data",
          "data": {
            "text/plain": [
              "Matrix([\n",
              "[ 1, 2, -1, 1, 0,  0],\n",
              "[-2, 0,  1, 0, 1,  0],\n",
              "[ 0, 3, -1, 1, 0, -1]])"
            ],
            "text/latex": "$\\displaystyle \\left[\\begin{matrix}1 & 2 & -1 & 1 & 0 & 0\\\\-2 & 0 & 1 & 0 & 1 & 0\\\\0 & 3 & -1 & 1 & 0 & -1\\end{matrix}\\right]$"
          },
          "metadata": {}
        },
        {
          "output_type": "stream",
          "name": "stdout",
          "text": [
            "\n",
            "R2 = 2R1 + R2\n",
            "\n"
          ]
        },
        {
          "output_type": "display_data",
          "data": {
            "text/plain": [
              "Matrix([\n",
              "[1, 2, -1, 1, 0,  0],\n",
              "[0, 4, -1, 2, 1,  0],\n",
              "[0, 3, -1, 1, 0, -1]])"
            ],
            "text/latex": "$\\displaystyle \\left[\\begin{matrix}1 & 2 & -1 & 1 & 0 & 0\\\\0 & 4 & -1 & 2 & 1 & 0\\\\0 & 3 & -1 & 1 & 0 & -1\\end{matrix}\\right]$"
          },
          "metadata": {}
        },
        {
          "output_type": "stream",
          "name": "stdout",
          "text": [
            "\n",
            "R3 = 4R3 - 3R2\n",
            "\n"
          ]
        },
        {
          "output_type": "display_data",
          "data": {
            "text/plain": [
              "Matrix([\n",
              "[1, 2, -1,  1,  0,  0],\n",
              "[0, 4, -1,  2,  1,  0],\n",
              "[0, 0, -1, -2, -3, -4]])"
            ],
            "text/latex": "$\\displaystyle \\left[\\begin{matrix}1 & 2 & -1 & 1 & 0 & 0\\\\0 & 4 & -1 & 2 & 1 & 0\\\\0 & 0 & -1 & -2 & -3 & -4\\end{matrix}\\right]$"
          },
          "metadata": {}
        },
        {
          "output_type": "stream",
          "name": "stdout",
          "text": [
            "\n",
            "R1 = 2R1 - R2\n",
            "\n"
          ]
        },
        {
          "output_type": "display_data",
          "data": {
            "text/plain": [
              "Matrix([\n",
              "[2, 0, -1,  0, -1,  0],\n",
              "[0, 4, -1,  2,  1,  0],\n",
              "[0, 0, -1, -2, -3, -4]])"
            ],
            "text/latex": "$\\displaystyle \\left[\\begin{matrix}2 & 0 & -1 & 0 & -1 & 0\\\\0 & 4 & -1 & 2 & 1 & 0\\\\0 & 0 & -1 & -2 & -3 & -4\\end{matrix}\\right]$"
          },
          "metadata": {}
        },
        {
          "output_type": "stream",
          "name": "stdout",
          "text": [
            "\n",
            "R3 = -R3\n",
            "\n"
          ]
        },
        {
          "output_type": "display_data",
          "data": {
            "text/plain": [
              "Matrix([\n",
              "[2, 0, -1, 0, -1, 0],\n",
              "[0, 4, -1, 2,  1, 0],\n",
              "[0, 0,  1, 2,  3, 4]])"
            ],
            "text/latex": "$\\displaystyle \\left[\\begin{matrix}2 & 0 & -1 & 0 & -1 & 0\\\\0 & 4 & -1 & 2 & 1 & 0\\\\0 & 0 & 1 & 2 & 3 & 4\\end{matrix}\\right]$"
          },
          "metadata": {}
        },
        {
          "output_type": "stream",
          "name": "stdout",
          "text": [
            "\n",
            "R1 = R1 + R3\n",
            "R2 = R2 + R3\n",
            "\n"
          ]
        },
        {
          "output_type": "display_data",
          "data": {
            "text/plain": [
              "Matrix([\n",
              "[2, 0, 0, 2, 2, 4],\n",
              "[0, 4, 0, 4, 4, 4],\n",
              "[0, 0, 1, 2, 3, 4]])"
            ],
            "text/latex": "$\\displaystyle \\left[\\begin{matrix}2 & 0 & 0 & 2 & 2 & 4\\\\0 & 4 & 0 & 4 & 4 & 4\\\\0 & 0 & 1 & 2 & 3 & 4\\end{matrix}\\right]$"
          },
          "metadata": {}
        },
        {
          "output_type": "stream",
          "name": "stdout",
          "text": [
            "\n",
            "R1 = R1/2\n",
            "R2 = R2/4\n",
            "\n"
          ]
        },
        {
          "output_type": "display_data",
          "data": {
            "text/plain": [
              "Matrix([\n",
              "[1, 0, 0, 1, 1, 2],\n",
              "[0, 1, 0, 1, 1, 1],\n",
              "[0, 0, 1, 2, 3, 4]])"
            ],
            "text/latex": "$\\displaystyle \\left[\\begin{matrix}1 & 0 & 0 & 1 & 1 & 2\\\\0 & 1 & 0 & 1 & 1 & 1\\\\0 & 0 & 1 & 2 & 3 & 4\\end{matrix}\\right]$"
          },
          "metadata": {}
        },
        {
          "output_type": "stream",
          "name": "stdout",
          "text": [
            "\n",
            "Remove the first 3 columns\n",
            "\n"
          ]
        },
        {
          "output_type": "display_data",
          "data": {
            "text/plain": [
              "Matrix([\n",
              "[1, 1, 2],\n",
              "[1, 1, 1],\n",
              "[2, 3, 4]])"
            ],
            "text/latex": "$\\displaystyle \\left[\\begin{matrix}1 & 1 & 2\\\\1 & 1 & 1\\\\2 & 3 & 4\\end{matrix}\\right]$"
          },
          "metadata": {}
        }
      ]
    },
    {
      "cell_type": "code",
      "source": [
        "A"
      ],
      "metadata": {
        "colab": {
          "base_uri": "https://localhost:8080/",
          "height": 78
        },
        "id": "3KIYhBFnHiPP",
        "outputId": "6d866539-9bfe-4ba1-8e24-5118c8b58912"
      },
      "execution_count": 80,
      "outputs": [
        {
          "output_type": "execute_result",
          "data": {
            "text/plain": [
              "Matrix([\n",
              "[ 1,  2, -1],\n",
              "[-2,  0,  1],\n",
              "[ 1, -1,  0]])"
            ],
            "text/latex": "$\\displaystyle \\left[\\begin{matrix}1 & 2 & -1\\\\-2 & 0 & 1\\\\1 & -1 & 0\\end{matrix}\\right]$"
          },
          "metadata": {},
          "execution_count": 80
        }
      ]
    },
    {
      "cell_type": "code",
      "source": [
        "# verify\n",
        "A.inv()"
      ],
      "metadata": {
        "colab": {
          "base_uri": "https://localhost:8080/",
          "height": 78
        },
        "id": "VUuL3dQ5HlBa",
        "outputId": "9b50465c-ce29-4326-ec00-73341ca46a24"
      },
      "execution_count": 81,
      "outputs": [
        {
          "output_type": "execute_result",
          "data": {
            "text/plain": [
              "Matrix([\n",
              "[1, 1, 2],\n",
              "[1, 1, 1],\n",
              "[2, 3, 4]])"
            ],
            "text/latex": "$\\displaystyle \\left[\\begin{matrix}1 & 1 & 2\\\\1 & 1 & 1\\\\2 & 3 & 4\\end{matrix}\\right]$"
          },
          "metadata": {},
          "execution_count": 81
        }
      ]
    },
    {
      "cell_type": "code",
      "source": [
        "# numpy\n",
        "A_np = np.array(A, dtype='int64')\n",
        "A_np"
      ],
      "metadata": {
        "colab": {
          "base_uri": "https://localhost:8080/"
        },
        "id": "21jUAMpaHxa1",
        "outputId": "5c89109e-42be-49ac-eec6-85bab30a3bb5"
      },
      "execution_count": 82,
      "outputs": [
        {
          "output_type": "execute_result",
          "data": {
            "text/plain": [
              "array([[ 1,  2, -1],\n",
              "       [-2,  0,  1],\n",
              "       [ 1, -1,  0]])"
            ]
          },
          "metadata": {},
          "execution_count": 82
        }
      ]
    },
    {
      "cell_type": "code",
      "source": [
        "np.linalg.inv(A_np)"
      ],
      "metadata": {
        "colab": {
          "base_uri": "https://localhost:8080/"
        },
        "id": "FMp-1-4kH-rL",
        "outputId": "ff085eec-11fb-4b64-f65e-2afdc8188f51"
      },
      "execution_count": 83,
      "outputs": [
        {
          "output_type": "execute_result",
          "data": {
            "text/plain": [
              "array([[1., 1., 2.],\n",
              "       [1., 1., 1.],\n",
              "       [2., 3., 4.]])"
            ]
          },
          "metadata": {},
          "execution_count": 83
        }
      ]
    },
    {
      "cell_type": "markdown",
      "source": [
        "### The inverse of a $2 \\times 2$ Matrix"
      ],
      "metadata": {
        "id": "b88YJdl1M0aJ"
      }
    },
    {
      "cell_type": "markdown",
      "source": [
        "$$\n",
        "\\begin{align}\n",
        "    AA^{-1} &= I \\\\\n",
        "    \\left[\n",
        "        \\begin{matrix}\n",
        "            a & b \\\\\n",
        "            c & d\n",
        "        \\end{matrix}\n",
        "    \\right]\n",
        "    \\left[\n",
        "        \\begin{matrix}\n",
        "            x_{1} & x_{2} \\\\\n",
        "            y_{1} & y_{2}\n",
        "        \\end{matrix}\n",
        "    \\right]\n",
        "    &= \n",
        "    \\left[\n",
        "        \\begin{matrix}\n",
        "            1 & 0 \\\\\n",
        "            0 & 1\n",
        "        \\end{matrix}\n",
        "    \\right]\n",
        "\\end{align}\n",
        "$$"
      ],
      "metadata": {
        "id": "INNfDUtBNyNu"
      }
    },
    {
      "cell_type": "code",
      "source": [
        "a, b, c, d = sym.symbols('a b c d')\n",
        "\n",
        "A = sym.Matrix([[a, b],\n",
        "                [c, d]])\n",
        "\n",
        "display(A)\n",
        "\n",
        "x1, x2, y1, y2 = sym.symbols('x_1 x_2 y_1 y_2')\n",
        "\n",
        "A_inv = sym.Matrix([[x1, x2],\n",
        "                    [y1, y2]])\n",
        "\n",
        "display(A_inv)\n",
        "\n",
        "B = A * A_inv\n",
        "B[0] = B[0] - 1\n",
        "B[3] = B[3] - 1\n",
        "display(B)\n",
        "\n",
        "system = B.reshape(1, 4).tolist()[0]\n",
        "\n",
        "for i, arg in enumerate(sym.linsolve(system, x1, x2, y1, y2).args[0]):\n",
        "    A_inv[i] = arg\n",
        "\n",
        "print('\\nThe inverse of A is:\\n')\n",
        "display(A_inv)    "
      ],
      "metadata": {
        "colab": {
          "base_uri": "https://localhost:8080/",
          "height": 235
        },
        "id": "q4jVIqJWPU2U",
        "outputId": "9b9cfba8-ab5c-49a2-8ec2-8c952e107ea1"
      },
      "execution_count": 132,
      "outputs": [
        {
          "output_type": "display_data",
          "data": {
            "text/plain": [
              "Matrix([\n",
              "[a, b],\n",
              "[c, d]])"
            ],
            "text/latex": "$\\displaystyle \\left[\\begin{matrix}a & b\\\\c & d\\end{matrix}\\right]$"
          },
          "metadata": {}
        },
        {
          "output_type": "display_data",
          "data": {
            "text/plain": [
              "Matrix([\n",
              "[x_1, x_2],\n",
              "[y_1, y_2]])"
            ],
            "text/latex": "$\\displaystyle \\left[\\begin{matrix}x_{1} & x_{2}\\\\y_{1} & y_{2}\\end{matrix}\\right]$"
          },
          "metadata": {}
        },
        {
          "output_type": "display_data",
          "data": {
            "text/plain": [
              "Matrix([\n",
              "[a*x_1 + b*y_1 - 1,     a*x_2 + b*y_2],\n",
              "[    c*x_1 + d*y_1, c*x_2 + d*y_2 - 1]])"
            ],
            "text/latex": "$\\displaystyle \\left[\\begin{matrix}a x_{1} + b y_{1} - 1 & a x_{2} + b y_{2}\\\\c x_{1} + d y_{1} & c x_{2} + d y_{2} - 1\\end{matrix}\\right]$"
          },
          "metadata": {}
        },
        {
          "output_type": "stream",
          "name": "stdout",
          "text": [
            "\n",
            "The inverse of A is:\n",
            "\n"
          ]
        },
        {
          "output_type": "display_data",
          "data": {
            "text/plain": [
              "Matrix([\n",
              "[ d/(a*d - b*c), -b/(a*d - b*c)],\n",
              "[-c/(a*d - b*c),  a/(a*d - b*c)]])"
            ],
            "text/latex": "$\\displaystyle \\left[\\begin{matrix}\\frac{d}{a d - b c} & - \\frac{b}{a d - b c}\\\\- \\frac{c}{a d - b c} & \\frac{a}{a d - b c}\\end{matrix}\\right]$"
          },
          "metadata": {}
        }
      ]
    },
    {
      "cell_type": "code",
      "source": [
        "# verify\n",
        "display(A)\n",
        "display(A.inv())"
      ],
      "metadata": {
        "colab": {
          "base_uri": "https://localhost:8080/",
          "height": 100
        },
        "id": "6xTx9YsyWwEJ",
        "outputId": "23deade2-13f2-4c11-9e92-2889eac7e67f"
      },
      "execution_count": 134,
      "outputs": [
        {
          "output_type": "display_data",
          "data": {
            "text/plain": [
              "Matrix([\n",
              "[a, b],\n",
              "[c, d]])"
            ],
            "text/latex": "$\\displaystyle \\left[\\begin{matrix}a & b\\\\c & d\\end{matrix}\\right]$"
          },
          "metadata": {}
        },
        {
          "output_type": "display_data",
          "data": {
            "text/plain": [
              "Matrix([\n",
              "[ d/(a*d - b*c), -b/(a*d - b*c)],\n",
              "[-c/(a*d - b*c),  a/(a*d - b*c)]])"
            ],
            "text/latex": "$\\displaystyle \\left[\\begin{matrix}\\frac{d}{a d - b c} & - \\frac{b}{a d - b c}\\\\- \\frac{c}{a d - b c} & \\frac{a}{a d - b c}\\end{matrix}\\right]$"
          },
          "metadata": {}
        }
      ]
    },
    {
      "cell_type": "markdown",
      "source": [
        "### Determinant\n",
        "\n",
        "If the determinant of a square matrix $A$ is equal to 0, then $A^{-1}$ does not exist. "
      ],
      "metadata": {
        "id": "9V2kaVT9ZQ_d"
      }
    },
    {
      "cell_type": "code",
      "source": [
        "A"
      ],
      "metadata": {
        "colab": {
          "base_uri": "https://localhost:8080/",
          "height": 58
        },
        "id": "3aUDv0ZHZUk0",
        "outputId": "5663dd6e-205e-4c83-bf9a-3043216644dc"
      },
      "execution_count": 137,
      "outputs": [
        {
          "output_type": "execute_result",
          "data": {
            "text/plain": [
              "Matrix([\n",
              "[a, b],\n",
              "[c, d]])"
            ],
            "text/latex": "$\\displaystyle \\left[\\begin{matrix}a & b\\\\c & d\\end{matrix}\\right]$"
          },
          "metadata": {},
          "execution_count": 137
        }
      ]
    },
    {
      "cell_type": "code",
      "source": [
        "A.det()"
      ],
      "metadata": {
        "colab": {
          "base_uri": "https://localhost:8080/",
          "height": 39
        },
        "id": "BCx2ymiLZWn6",
        "outputId": "dc72cd6e-1a99-4a39-8a6a-af0515b60c50"
      },
      "execution_count": 138,
      "outputs": [
        {
          "output_type": "execute_result",
          "data": {
            "text/plain": [
              "a*d - b*c"
            ],
            "text/latex": "$\\displaystyle a d - b c$"
          },
          "metadata": {},
          "execution_count": 138
        }
      ]
    },
    {
      "cell_type": "markdown",
      "source": [
        "### Uniqueness of the Inverse\n",
        "\n",
        "Prove that if a matrix is invertible, then its inverse is unique.\n",
        "\n",
        "#### Proof\n",
        "\n",
        "Let $A$ be an invertible matrix, and suppose $B$ and $C$ are its inverse. \n",
        "\n",
        "$B = BI = B(AC) = (BA)C = C$\n",
        "\n",
        "$\\therefore B = C$ and the inverse is unique."
      ],
      "metadata": {
        "id": "li2twzTsbQVt"
      }
    },
    {
      "cell_type": "markdown",
      "source": [
        "## 1.3 Orthogonal Matrices"
      ],
      "metadata": {
        "id": "c8YhoRwdf8tZ"
      }
    }
  ]
}