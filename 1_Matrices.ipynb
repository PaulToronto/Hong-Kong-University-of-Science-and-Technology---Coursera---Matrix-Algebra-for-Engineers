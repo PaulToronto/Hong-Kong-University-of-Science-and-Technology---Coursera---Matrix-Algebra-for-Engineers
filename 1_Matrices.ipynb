{
  "nbformat": 4,
  "nbformat_minor": 0,
  "metadata": {
    "colab": {
      "provenance": [],
      "toc_visible": true,
      "authorship_tag": "ABX9TyNWajuphBMlWl4UeEy7/w22",
      "include_colab_link": true
    },
    "kernelspec": {
      "name": "python3",
      "display_name": "Python 3"
    },
    "language_info": {
      "name": "python"
    }
  },
  "cells": [
    {
      "cell_type": "markdown",
      "metadata": {
        "id": "view-in-github",
        "colab_type": "text"
      },
      "source": [
        "<a href=\"https://colab.research.google.com/github/PaulToronto/Hong-Kong-University-of-Science-and-Technology-Coursera-Matrix-Algebra-for-Engineers/blob/main/1_Matrices.ipynb\" target=\"_parent\"><img src=\"https://colab.research.google.com/assets/colab-badge.svg\" alt=\"Open In Colab\"/></a>"
      ]
    },
    {
      "cell_type": "markdown",
      "source": [
        "# 1 Matrices"
      ],
      "metadata": {
        "id": "yf67R51r13eA"
      }
    },
    {
      "cell_type": "code",
      "source": [
        "import sympy as sym\n",
        "import numpy as np"
      ],
      "metadata": {
        "id": "Dtnw26OfR1gi"
      },
      "execution_count": 1,
      "outputs": []
    },
    {
      "cell_type": "markdown",
      "source": [
        "## 1.1 Matrix Definitions"
      ],
      "metadata": {
        "id": "HaXFEof_oGEN"
      }
    },
    {
      "cell_type": "markdown",
      "source": [
        "A **matrix** is a rectangular array of numbers. The numbers can be symbols. "
      ],
      "metadata": {
        "id": "xP6np8URPnD8"
      }
    },
    {
      "cell_type": "markdown",
      "source": [
        "$$\n",
        "A = \n",
        "\\left[\n",
        "\\begin{matrix}\n",
        "a & b \\\\\n",
        "c & d\n",
        "\\end{matrix}\n",
        "\\right],\n",
        "B = \n",
        "\\left[\n",
        "\\begin{matrix}\n",
        "a & b \\\\ \n",
        "c & d \\\\\n",
        "e & f\n",
        "\\end{matrix}\n",
        "\\right],\n",
        "C = \n",
        "\\left[\n",
        "\\begin{matrix}\n",
        "a & b & c \\\\\n",
        "d & e & f\n",
        "\\end{matrix}\n",
        "\\right]\n",
        "$$"
      ],
      "metadata": {
        "id": "zeO2xu5AQdmT"
      }
    },
    {
      "cell_type": "markdown",
      "source": [
        "- $A$ is a $2 \\times 2$ matrix\n",
        "- $B$ is a $3 \\times 2$ matrix\n",
        "- $C$ is a $2 \\times 3$ matrix. "
      ],
      "metadata": {
        "id": "VF10TkCSRVho"
      }
    },
    {
      "cell_type": "code",
      "source": [
        "a, b, c, d, e, f = sym.symbols('a b c d e f')"
      ],
      "metadata": {
        "id": "iJDsJ67rSU5i"
      },
      "execution_count": 2,
      "outputs": []
    },
    {
      "cell_type": "code",
      "source": [
        "A = sym.Matrix([[a,  b],\n",
        "                [c, d]])\n",
        "\n",
        "B = sym.Matrix([[a, b],\n",
        "                [c, d],\n",
        "                [e, f]])\n",
        "\n",
        "C = sym.Matrix([[a, b, c],\n",
        "                [d, e, f]])"
      ],
      "metadata": {
        "id": "jI9gbJyuScbM"
      },
      "execution_count": 3,
      "outputs": []
    },
    {
      "cell_type": "code",
      "source": [
        "A"
      ],
      "metadata": {
        "colab": {
          "base_uri": "https://localhost:8080/",
          "height": 58
        },
        "id": "LBmc2G7rS3_L",
        "outputId": "e1584fe5-53d2-4b83-89a5-8645f00de3bb"
      },
      "execution_count": 4,
      "outputs": [
        {
          "output_type": "execute_result",
          "data": {
            "text/plain": [
              "Matrix([\n",
              "[a, b],\n",
              "[c, d]])"
            ],
            "text/latex": "$\\displaystyle \\left[\\begin{matrix}a & b\\\\c & d\\end{matrix}\\right]$"
          },
          "metadata": {},
          "execution_count": 4
        }
      ]
    },
    {
      "cell_type": "code",
      "source": [
        "B"
      ],
      "metadata": {
        "colab": {
          "base_uri": "https://localhost:8080/",
          "height": 78
        },
        "id": "amyJyEU2S4sE",
        "outputId": "6f7ef627-49e5-45b0-9b71-f02f938c2d78"
      },
      "execution_count": 5,
      "outputs": [
        {
          "output_type": "execute_result",
          "data": {
            "text/plain": [
              "Matrix([\n",
              "[a, b],\n",
              "[c, d],\n",
              "[e, f]])"
            ],
            "text/latex": "$\\displaystyle \\left[\\begin{matrix}a & b\\\\c & d\\\\e & f\\end{matrix}\\right]$"
          },
          "metadata": {},
          "execution_count": 5
        }
      ]
    },
    {
      "cell_type": "code",
      "source": [
        "C"
      ],
      "metadata": {
        "colab": {
          "base_uri": "https://localhost:8080/",
          "height": 58
        },
        "id": "gON84sRES7q_",
        "outputId": "c26ed395-4ae1-4cba-8ab2-1232cd001ded"
      },
      "execution_count": 6,
      "outputs": [
        {
          "output_type": "execute_result",
          "data": {
            "text/plain": [
              "Matrix([\n",
              "[a, b, c],\n",
              "[d, e, f]])"
            ],
            "text/latex": "$\\displaystyle \\left[\\begin{matrix}a & b & c\\\\d & e & f\\end{matrix}\\right]$"
          },
          "metadata": {},
          "execution_count": 6
        }
      ]
    },
    {
      "cell_type": "markdown",
      "source": [
        "$$\n",
        "x = \n",
        "\\left[\n",
        "\\begin{matrix}\n",
        "a \\\\\n",
        "b \\\\\n",
        "c\n",
        "\\end{matrix}\n",
        "\\right],\n",
        "y = \n",
        "\\left[\n",
        "\\begin{matrix}\n",
        "a & b & c\n",
        "\\end{matrix}\n",
        "\\right]\n",
        "$$"
      ],
      "metadata": {
        "id": "83pXVa3TTbSs"
      }
    },
    {
      "cell_type": "markdown",
      "source": [
        "- $x$ is a **column vector** or a $3 \\times 1$ matrix\n",
        "- $y$ is a  **row vector** or a $1 \\times 3$ matrix"
      ],
      "metadata": {
        "id": "74VmqQKVUUkP"
      }
    },
    {
      "cell_type": "markdown",
      "source": [
        "### A General Matrix"
      ],
      "metadata": {
        "id": "Wxnr5rfJUxo0"
      }
    },
    {
      "cell_type": "markdown",
      "source": [
        "$$\n",
        "A_{m \\times n} = \n",
        "\\left[\n",
        "\\begin{matrix}\n",
        "a_{11} & a_{12} & \\cdots & a_{1n} \\\\\n",
        "a_{21} & a_{22} & \\cdots & a_{2n} \\\\\n",
        "\\vdots & \\vdots & \\ddots & \\vdots \\\\\n",
        "a_{m1} & a_{m2} & \\cdots & a_{mn}\n",
        "\\end{matrix}\n",
        "\\right]\n",
        "$$"
      ],
      "metadata": {
        "id": "0PIfLEBFVyow"
      }
    },
    {
      "cell_type": "markdown",
      "source": [
        "### Matrix Addition\n",
        "\n",
        "- Two matrices can be only be added together when they have the same dimensions"
      ],
      "metadata": {
        "id": "Mt82tdHiayVR"
      }
    },
    {
      "cell_type": "code",
      "source": [
        "a, b, c, d, e, f, g, h = sym.symbols('a b c d e f g h')\n",
        "\n",
        "A = sym.Matrix([[a, b],\n",
        "                [c, d]])\n",
        "\n",
        "B = sym.Matrix([[e, f],\n",
        "                [g, h]])"
      ],
      "metadata": {
        "id": "A5GCEanhYqTN"
      },
      "execution_count": 7,
      "outputs": []
    },
    {
      "cell_type": "code",
      "source": [
        "A"
      ],
      "metadata": {
        "colab": {
          "base_uri": "https://localhost:8080/",
          "height": 58
        },
        "id": "K0snHg2DZOG6",
        "outputId": "ca38da44-c3d7-4a95-c971-b389177b8df5"
      },
      "execution_count": 8,
      "outputs": [
        {
          "output_type": "execute_result",
          "data": {
            "text/plain": [
              "Matrix([\n",
              "[a, b],\n",
              "[c, d]])"
            ],
            "text/latex": "$\\displaystyle \\left[\\begin{matrix}a & b\\\\c & d\\end{matrix}\\right]$"
          },
          "metadata": {},
          "execution_count": 8
        }
      ]
    },
    {
      "cell_type": "code",
      "source": [
        "B"
      ],
      "metadata": {
        "colab": {
          "base_uri": "https://localhost:8080/",
          "height": 58
        },
        "id": "VAW3U3KeZQHI",
        "outputId": "6c2fc55f-7b8f-40f7-a18f-f670cc116a1d"
      },
      "execution_count": 9,
      "outputs": [
        {
          "output_type": "execute_result",
          "data": {
            "text/plain": [
              "Matrix([\n",
              "[e, f],\n",
              "[g, h]])"
            ],
            "text/latex": "$\\displaystyle \\left[\\begin{matrix}e & f\\\\g & h\\end{matrix}\\right]$"
          },
          "metadata": {},
          "execution_count": 9
        }
      ]
    },
    {
      "cell_type": "code",
      "source": [
        "A + B"
      ],
      "metadata": {
        "colab": {
          "base_uri": "https://localhost:8080/",
          "height": 58
        },
        "id": "DvCmdBKlZRc0",
        "outputId": "3791a2f6-e061-4300-8f7f-7b709c2f95e6"
      },
      "execution_count": 10,
      "outputs": [
        {
          "output_type": "execute_result",
          "data": {
            "text/plain": [
              "Matrix([\n",
              "[a + e, b + f],\n",
              "[c + g, d + h]])"
            ],
            "text/latex": "$\\displaystyle \\left[\\begin{matrix}a + e & b + f\\\\c + g & d + h\\end{matrix}\\right]$"
          },
          "metadata": {},
          "execution_count": 10
        }
      ]
    },
    {
      "cell_type": "markdown",
      "source": [
        "### Multiply a Matrix by a Scalar"
      ],
      "metadata": {
        "id": "I0uKnHija9lK"
      }
    },
    {
      "cell_type": "code",
      "source": [
        "k = sym.symbols('k')\n",
        "\n",
        "k * A"
      ],
      "metadata": {
        "colab": {
          "base_uri": "https://localhost:8080/",
          "height": 58
        },
        "id": "GuZTg4TObIZn",
        "outputId": "23939b6d-11eb-419a-a3ec-e2b4ebd2b507"
      },
      "execution_count": 11,
      "outputs": [
        {
          "output_type": "execute_result",
          "data": {
            "text/plain": [
              "Matrix([\n",
              "[a*k, b*k],\n",
              "[c*k, d*k]])"
            ],
            "text/latex": "$\\displaystyle \\left[\\begin{matrix}a k & b k\\\\c k & d k\\end{matrix}\\right]$"
          },
          "metadata": {},
          "execution_count": 11
        }
      ]
    },
    {
      "cell_type": "markdown",
      "source": [
        "### Matrix Multiplication\n",
        "\n",
        "- Note that matrix muliplication is **not commutative**\n",
        "- An $m \\times n$ matrix can only be multiplied by an $n \\times p$ matrix\n",
        "    - The values $m$ and $p$ are arbitrary\n",
        "    - The number of columns in the first matrix ($n$) must be equal to the number of rows in the second matrix ($n$)\n",
        "        - The result is an $m \\times p$ matrix"
      ],
      "metadata": {
        "id": "jDpps29eb_3a"
      }
    },
    {
      "cell_type": "code",
      "source": [
        "A * B"
      ],
      "metadata": {
        "colab": {
          "base_uri": "https://localhost:8080/",
          "height": 58
        },
        "id": "9tCIO8nLcCRM",
        "outputId": "4966163c-9af2-4293-fd86-4eb3f18ab085"
      },
      "execution_count": 12,
      "outputs": [
        {
          "output_type": "execute_result",
          "data": {
            "text/plain": [
              "Matrix([\n",
              "[a*e + b*g, a*f + b*h],\n",
              "[c*e + d*g, c*f + d*h]])"
            ],
            "text/latex": "$\\displaystyle \\left[\\begin{matrix}a e + b g & a f + b h\\\\c e + d g & c f + d h\\end{matrix}\\right]$"
          },
          "metadata": {},
          "execution_count": 12
        }
      ]
    },
    {
      "cell_type": "code",
      "source": [
        "# alternately\n",
        "sym.Matrix([[A.row(0).dot(B.col(0)), A.row(0).dot(B.col(1))],\n",
        "            [A.row(1).dot(B.col(0)), A.row(1).dot(B.col(1))]])"
      ],
      "metadata": {
        "colab": {
          "base_uri": "https://localhost:8080/",
          "height": 58
        },
        "id": "XKu1dXhycUN9",
        "outputId": "19a8c174-532d-450d-a83b-d2ec819f4516"
      },
      "execution_count": 13,
      "outputs": [
        {
          "output_type": "execute_result",
          "data": {
            "text/plain": [
              "Matrix([\n",
              "[a*e + b*g, a*f + b*h],\n",
              "[c*e + d*g, c*f + d*h]])"
            ],
            "text/latex": "$\\displaystyle \\left[\\begin{matrix}a e + b g & a f + b h\\\\c e + d g & c f + d h\\end{matrix}\\right]$"
          },
          "metadata": {},
          "execution_count": 13
        }
      ]
    },
    {
      "cell_type": "code",
      "source": [
        "A.row(0) * B.col(0), A.row(0).dot(B.col(0))"
      ],
      "metadata": {
        "colab": {
          "base_uri": "https://localhost:8080/"
        },
        "id": "nn3PnjsDc9uX",
        "outputId": "25f4f261-d4cc-4186-e367-36162047bcac"
      },
      "execution_count": 14,
      "outputs": [
        {
          "output_type": "execute_result",
          "data": {
            "text/plain": [
              "(Matrix([[a*e + b*g]]), a*e + b*g)"
            ]
          },
          "metadata": {},
          "execution_count": 14
        }
      ]
    },
    {
      "cell_type": "code",
      "source": [
        "type(A.row(0) * B.col(0)), type(A.row(0).dot(B.col(0)))"
      ],
      "metadata": {
        "colab": {
          "base_uri": "https://localhost:8080/"
        },
        "id": "OwzN0Wq9c8sf",
        "outputId": "b0b7810c-4f76-48b3-9991-2603a2079ba2"
      },
      "execution_count": 15,
      "outputs": [
        {
          "output_type": "execute_result",
          "data": {
            "text/plain": [
              "(sympy.matrices.dense.MutableDenseMatrix, sympy.core.add.Add)"
            ]
          },
          "metadata": {},
          "execution_count": 15
        }
      ]
    },
    {
      "cell_type": "code",
      "source": [
        "B * A"
      ],
      "metadata": {
        "colab": {
          "base_uri": "https://localhost:8080/",
          "height": 58
        },
        "id": "-LxNP29dfxSg",
        "outputId": "d5a7d200-11cf-4c22-8982-19fbf8243e1d"
      },
      "execution_count": 16,
      "outputs": [
        {
          "output_type": "execute_result",
          "data": {
            "text/plain": [
              "Matrix([\n",
              "[a*e + c*f, b*e + d*f],\n",
              "[a*g + c*h, b*g + d*h]])"
            ],
            "text/latex": "$\\displaystyle \\left[\\begin{matrix}a e + c f & b e + d f\\\\a g + c h & b g + d h\\end{matrix}\\right]$"
          },
          "metadata": {},
          "execution_count": 16
        }
      ]
    },
    {
      "cell_type": "code",
      "source": [
        "A * B == A * B, A * B == B * A"
      ],
      "metadata": {
        "colab": {
          "base_uri": "https://localhost:8080/"
        },
        "id": "7DjhM0i5f1B6",
        "outputId": "5b70f619-92d7-4eb6-e408-1b44e84b14ec"
      },
      "execution_count": 17,
      "outputs": [
        {
          "output_type": "execute_result",
          "data": {
            "text/plain": [
              "(True, False)"
            ]
          },
          "metadata": {},
          "execution_count": 17
        }
      ]
    },
    {
      "cell_type": "markdown",
      "source": [
        "#### General Formula for the ${ij}^{th}$  element of the product of two matrices"
      ],
      "metadata": {
        "id": "3leaa0MDl0lk"
      }
    },
    {
      "cell_type": "markdown",
      "source": [
        "Let $A$, $B$ and $C$ be matrices such that $C = AB$. Then,\n",
        "\n",
        "$$\n",
        "c_{ij} = \\sum_{k=1}^{n}{a_{ik}b_{kj}}\n",
        "$$"
      ],
      "metadata": {
        "id": "laVutHhQmLep"
      }
    },
    {
      "cell_type": "markdown",
      "source": [
        "#### $AB = AC$ does not imply $B = C$"
      ],
      "metadata": {
        "id": "hFFOjw0w1Eoi"
      }
    },
    {
      "cell_type": "code",
      "source": [
        "A = sym.Matrix([[1, 2],\n",
        "                [2, 4]])\n",
        "\n",
        "B = sym.Matrix([[2, 1],\n",
        "                [1, 3]])\n",
        "\n",
        "C = sym.Matrix([[4, 3],\n",
        "                [0, 2]])"
      ],
      "metadata": {
        "id": "E5LMAfrv1MOJ"
      },
      "execution_count": 18,
      "outputs": []
    },
    {
      "cell_type": "code",
      "source": [
        "# sympy\n",
        "A * B == A * C, B == C"
      ],
      "metadata": {
        "colab": {
          "base_uri": "https://localhost:8080/"
        },
        "id": "EQ7bz3m01czT",
        "outputId": "c670d292-b7ec-4e89-d077-e6e98562e117"
      },
      "execution_count": 19,
      "outputs": [
        {
          "output_type": "execute_result",
          "data": {
            "text/plain": [
              "(True, False)"
            ]
          },
          "metadata": {},
          "execution_count": 19
        }
      ]
    },
    {
      "cell_type": "code",
      "source": [
        "# sympy\n",
        "(A * B).equals(A * C), B.equals(C)"
      ],
      "metadata": {
        "colab": {
          "base_uri": "https://localhost:8080/"
        },
        "id": "uYg9zX571y-i",
        "outputId": "242db6f2-be35-4047-d288-76269c55cd03"
      },
      "execution_count": 20,
      "outputs": [
        {
          "output_type": "execute_result",
          "data": {
            "text/plain": [
              "(True, False)"
            ]
          },
          "metadata": {},
          "execution_count": 20
        }
      ]
    },
    {
      "cell_type": "code",
      "source": [
        "# numpy\n",
        "Anp = np.array(A, dtype='int64')\n",
        "Bnp = np.array(B, dtype='int64')\n",
        "Cnp = np.array(C, dtype='int64')\n",
        "\n",
        "np.array_equal(Anp.dot(Bnp), Anp.dot(Cnp)), np.array_equal(B, C)"
      ],
      "metadata": {
        "colab": {
          "base_uri": "https://localhost:8080/"
        },
        "id": "KTgJ5ol22JsE",
        "outputId": "036c8ee9-39a0-4c0f-afd2-624f2a7a7e55"
      },
      "execution_count": 21,
      "outputs": [
        {
          "output_type": "execute_result",
          "data": {
            "text/plain": [
              "(True, False)"
            ]
          },
          "metadata": {},
          "execution_count": 21
        }
      ]
    },
    {
      "cell_type": "markdown",
      "source": [
        "### Associative Law for Matrix Multiplication"
      ],
      "metadata": {
        "id": "rbvsl7i23WQJ"
      }
    },
    {
      "cell_type": "markdown",
      "source": [
        "$A(BC) = (AB)C$"
      ],
      "metadata": {
        "id": "h256v1pZ4GVh"
      }
    },
    {
      "cell_type": "markdown",
      "source": [
        "### Special Matrices"
      ],
      "metadata": {
        "id": "5U9yGr2S9b8L"
      }
    },
    {
      "cell_type": "markdown",
      "source": [
        "#### Zero Matrix: $O_{m \\times n}$\n",
        "\n",
        "- The zero matrix is analogous to the scalar 0\n",
        "\n",
        "$$\n",
        "O = \n",
        "\\left[\n",
        "    \\begin{matrix}\n",
        "    0 & 0 \\\\\n",
        "    0 & 0\n",
        "    \\end{matrix}\n",
        "\\right]\n",
        "$$\n",
        "\n",
        "This matrix is used a lot in the following equation, where $A$ is an $m \\times n$ matrix, x is an $n \\times 1$ column vector and the zero matrix is an $m \\times 1$ column vector.\n",
        "\n",
        "$Ax = O$"
      ],
      "metadata": {
        "id": "G7rW8mLkMQjC"
      }
    },
    {
      "cell_type": "code",
      "source": [
        "A = sym.zeros(2, 2)\n",
        "A"
      ],
      "metadata": {
        "colab": {
          "base_uri": "https://localhost:8080/",
          "height": 58
        },
        "id": "a_vJ8MJiMOm3",
        "outputId": "9997c577-bf5d-4eac-e95e-771c1d713a98"
      },
      "execution_count": 22,
      "outputs": [
        {
          "output_type": "execute_result",
          "data": {
            "text/plain": [
              "Matrix([\n",
              "[0, 0],\n",
              "[0, 0]])"
            ],
            "text/latex": "$\\displaystyle \\left[\\begin{matrix}0 & 0\\\\0 & 0\\end{matrix}\\right]$"
          },
          "metadata": {},
          "execution_count": 22
        }
      ]
    },
    {
      "cell_type": "code",
      "source": [
        "np.zeros((2, 2))"
      ],
      "metadata": {
        "colab": {
          "base_uri": "https://localhost:8080/"
        },
        "id": "SxHmI35wRK15",
        "outputId": "0638eece-afbd-427e-cf9e-538c222965ea"
      },
      "execution_count": 23,
      "outputs": [
        {
          "output_type": "execute_result",
          "data": {
            "text/plain": [
              "array([[0., 0.],\n",
              "       [0., 0.]])"
            ]
          },
          "metadata": {},
          "execution_count": 23
        }
      ]
    },
    {
      "cell_type": "code",
      "source": [
        "# note that sympy can also create a matrix of ones\n",
        "sym.ones(3)"
      ],
      "metadata": {
        "colab": {
          "base_uri": "https://localhost:8080/",
          "height": 78
        },
        "id": "saPWWoBzOGqf",
        "outputId": "af65c2f3-b563-4277-9624-cf78bcb2c332"
      },
      "execution_count": 24,
      "outputs": [
        {
          "output_type": "execute_result",
          "data": {
            "text/plain": [
              "Matrix([\n",
              "[1, 1, 1],\n",
              "[1, 1, 1],\n",
              "[1, 1, 1]])"
            ],
            "text/latex": "$\\displaystyle \\left[\\begin{matrix}1 & 1 & 1\\\\1 & 1 & 1\\\\1 & 1 & 1\\end{matrix}\\right]$"
          },
          "metadata": {},
          "execution_count": 24
        }
      ]
    },
    {
      "cell_type": "markdown",
      "source": [
        "#### Identity Matrix: $I_{n}$\n",
        "\n",
        "- The identity matrix, denoted $I$, is analogous to the scalar 1\n",
        "    - $AI = A = IA$, for any square matrix $A$\n",
        "- The identity matrix is always a square matrix\n",
        "- The identity matrix has only ones along the diagonal and zeros everywhere else"
      ],
      "metadata": {
        "id": "HssKTJssNt9Y"
      }
    },
    {
      "cell_type": "code",
      "source": [
        "sym.eye(3)"
      ],
      "metadata": {
        "colab": {
          "base_uri": "https://localhost:8080/",
          "height": 78
        },
        "id": "UR_ZRSaaN8SJ",
        "outputId": "983ff46c-d59d-4c46-9dd8-ae5b593086b8"
      },
      "execution_count": 25,
      "outputs": [
        {
          "output_type": "execute_result",
          "data": {
            "text/plain": [
              "Matrix([\n",
              "[1, 0, 0],\n",
              "[0, 1, 0],\n",
              "[0, 0, 1]])"
            ],
            "text/latex": "$\\displaystyle \\left[\\begin{matrix}1 & 0 & 0\\\\0 & 1 & 0\\\\0 & 0 & 1\\end{matrix}\\right]$"
          },
          "metadata": {},
          "execution_count": 25
        }
      ]
    },
    {
      "cell_type": "code",
      "source": [
        "np.eye(3)"
      ],
      "metadata": {
        "colab": {
          "base_uri": "https://localhost:8080/"
        },
        "id": "i80lt5ZuRU6l",
        "outputId": "49262b60-652c-43f3-e2be-273104dbff73"
      },
      "execution_count": 26,
      "outputs": [
        {
          "output_type": "execute_result",
          "data": {
            "text/plain": [
              "array([[1., 0., 0.],\n",
              "       [0., 1., 0.],\n",
              "       [0., 0., 1.]])"
            ]
          },
          "metadata": {},
          "execution_count": 26
        }
      ]
    },
    {
      "cell_type": "code",
      "source": [
        "# note that sympy can use `.eye()` to create\n",
        "# matrices that are not square, therefore not\n",
        "# identity matrices\n",
        "sym.eye(3, 2)"
      ],
      "metadata": {
        "colab": {
          "base_uri": "https://localhost:8080/",
          "height": 78
        },
        "id": "ZjB1E9wUQ52q",
        "outputId": "ce26fb1a-8a4d-4568-ded8-237670e79a68"
      },
      "execution_count": 27,
      "outputs": [
        {
          "output_type": "execute_result",
          "data": {
            "text/plain": [
              "Matrix([\n",
              "[1, 0],\n",
              "[0, 1],\n",
              "[0, 0]])"
            ],
            "text/latex": "$\\displaystyle \\left[\\begin{matrix}1 & 0\\\\0 & 1\\\\0 & 0\\end{matrix}\\right]$"
          },
          "metadata": {},
          "execution_count": 27
        }
      ]
    },
    {
      "cell_type": "code",
      "source": [
        "np.eye(3, 2)"
      ],
      "metadata": {
        "colab": {
          "base_uri": "https://localhost:8080/"
        },
        "id": "_1QlV5W7RXwo",
        "outputId": "bae70b15-8f42-44b9-8b3d-b09b1a469fac"
      },
      "execution_count": 28,
      "outputs": [
        {
          "output_type": "execute_result",
          "data": {
            "text/plain": [
              "array([[1., 0.],\n",
              "       [0., 1.],\n",
              "       [0., 0.]])"
            ]
          },
          "metadata": {},
          "execution_count": 28
        }
      ]
    },
    {
      "cell_type": "markdown",
      "source": [
        "#### Diagonal Matrix\n",
        "\n",
        "$$\n",
        "D =\n",
        "\\left[\n",
        "    \\begin{matrix}\n",
        "    d_1 & 0 & 0 \\\\\n",
        "    0 & d_2 & 0 \\\\\n",
        "    0 & 0 & d_3 \n",
        "    \\end{matrix}\n",
        "\\right]\n",
        "$$"
      ],
      "metadata": {
        "id": "BE8Jz8YiTaMj"
      }
    },
    {
      "cell_type": "code",
      "source": [
        "sym.diag(1, 2, 3)"
      ],
      "metadata": {
        "colab": {
          "base_uri": "https://localhost:8080/",
          "height": 78
        },
        "id": "QQG2L-CzTeJ9",
        "outputId": "88f4624f-9858-4d20-8304-26f60180b0de"
      },
      "execution_count": 29,
      "outputs": [
        {
          "output_type": "execute_result",
          "data": {
            "text/plain": [
              "Matrix([\n",
              "[1, 0, 0],\n",
              "[0, 2, 0],\n",
              "[0, 0, 3]])"
            ],
            "text/latex": "$\\displaystyle \\left[\\begin{matrix}1 & 0 & 0\\\\0 & 2 & 0\\\\0 & 0 & 3\\end{matrix}\\right]$"
          },
          "metadata": {},
          "execution_count": 29
        }
      ]
    },
    {
      "cell_type": "code",
      "source": [
        "sym.diag(3, 3, 7, 2, 8)"
      ],
      "metadata": {
        "colab": {
          "base_uri": "https://localhost:8080/",
          "height": 119
        },
        "id": "VPiyGfrbTqPV",
        "outputId": "27308fb3-dced-448c-c591-08f6ddcf6205"
      },
      "execution_count": 30,
      "outputs": [
        {
          "output_type": "execute_result",
          "data": {
            "text/plain": [
              "Matrix([\n",
              "[3, 0, 0, 0, 0],\n",
              "[0, 3, 0, 0, 0],\n",
              "[0, 0, 7, 0, 0],\n",
              "[0, 0, 0, 2, 0],\n",
              "[0, 0, 0, 0, 8]])"
            ],
            "text/latex": "$\\displaystyle \\left[\\begin{matrix}3 & 0 & 0 & 0 & 0\\\\0 & 3 & 0 & 0 & 0\\\\0 & 0 & 7 & 0 & 0\\\\0 & 0 & 0 & 2 & 0\\\\0 & 0 & 0 & 0 & 8\\end{matrix}\\right]$"
          },
          "metadata": {},
          "execution_count": 30
        }
      ]
    },
    {
      "cell_type": "code",
      "source": [
        "np.diag([1, 2, 3])"
      ],
      "metadata": {
        "colab": {
          "base_uri": "https://localhost:8080/"
        },
        "id": "StAVhFvgTw-6",
        "outputId": "b18d7609-e0bf-4628-a325-a56318b24030"
      },
      "execution_count": 31,
      "outputs": [
        {
          "output_type": "execute_result",
          "data": {
            "text/plain": [
              "array([[1, 0, 0],\n",
              "       [0, 2, 0],\n",
              "       [0, 0, 3]])"
            ]
          },
          "metadata": {},
          "execution_count": 31
        }
      ]
    },
    {
      "cell_type": "code",
      "source": [
        "np.diag([3, 3, 7, 2, 8])"
      ],
      "metadata": {
        "colab": {
          "base_uri": "https://localhost:8080/"
        },
        "id": "_17ELvY8T11j",
        "outputId": "8fcef8f0-f3fe-4757-ce36-7aaaf7dd5091"
      },
      "execution_count": 32,
      "outputs": [
        {
          "output_type": "execute_result",
          "data": {
            "text/plain": [
              "array([[3, 0, 0, 0, 0],\n",
              "       [0, 3, 0, 0, 0],\n",
              "       [0, 0, 7, 0, 0],\n",
              "       [0, 0, 0, 2, 0],\n",
              "       [0, 0, 0, 0, 8]])"
            ]
          },
          "metadata": {},
          "execution_count": 32
        }
      ]
    },
    {
      "cell_type": "markdown",
      "source": [
        "#### Banded Matrix"
      ],
      "metadata": {
        "id": "4bDmp3K2Vbr7"
      }
    },
    {
      "cell_type": "markdown",
      "source": [
        "##### Example: Tridiagonal"
      ],
      "metadata": {
        "id": "uKicR9xUVe_v"
      }
    },
    {
      "cell_type": "code",
      "source": [
        "# takes a dictionary as an argument\n",
        "# key 0: the diagnoal\n",
        "# key -1: the lower diagonal\n",
        "# key 1: the upper diagonal\n",
        "# - can extend beyond -1 and 1 \n",
        "d1, d2, d3 = sym.symbols('d_1 d_2 d_3')\n",
        "l1, l2 = sym.symbols('l_1 l_2')\n",
        "u1, u2 = sym.symbols('u_1 u_2')\n",
        "\n",
        "sym.banded({0: (d1, d2, d3), -1: (l1, l2), 1: (u1, u2)})"
      ],
      "metadata": {
        "colab": {
          "base_uri": "https://localhost:8080/",
          "height": 78
        },
        "id": "HAV1JMMDWFX5",
        "outputId": "ea9c7f66-588f-47c7-f156-8424e175257b"
      },
      "execution_count": 33,
      "outputs": [
        {
          "output_type": "execute_result",
          "data": {
            "text/plain": [
              "Matrix([\n",
              "[d_1, u_1,   0],\n",
              "[l_1, d_2, u_2],\n",
              "[  0, l_2, d_3]])"
            ],
            "text/latex": "$\\displaystyle \\left[\\begin{matrix}d_{1} & u_{1} & 0\\\\l_{1} & d_{2} & u_{2}\\\\0 & l_{2} & d_{3}\\end{matrix}\\right]$"
          },
          "metadata": {},
          "execution_count": 33
        }
      ]
    },
    {
      "cell_type": "markdown",
      "source": [
        "#### Triangular Matrix"
      ],
      "metadata": {
        "id": "Gy8SBFrVZGmo"
      }
    },
    {
      "cell_type": "markdown",
      "source": [
        "##### Upper Triangular Matrix"
      ],
      "metadata": {
        "id": "uW48eNQdZJBM"
      }
    },
    {
      "cell_type": "code",
      "source": [
        "a, b, c, d, e, f = sym.symbols('a b c d e f')\n",
        "\n",
        "U = sym.Matrix([[a, b, c],\n",
        "                [0, d, e],\n",
        "                [0, 0, f]])\n",
        "\n",
        "U"
      ],
      "metadata": {
        "colab": {
          "base_uri": "https://localhost:8080/",
          "height": 78
        },
        "id": "qVU615pBZpHT",
        "outputId": "d21a340e-bf5d-4e37-a0ce-df9d13ee1efa"
      },
      "execution_count": 34,
      "outputs": [
        {
          "output_type": "execute_result",
          "data": {
            "text/plain": [
              "Matrix([\n",
              "[a, b, c],\n",
              "[0, d, e],\n",
              "[0, 0, f]])"
            ],
            "text/latex": "$\\displaystyle \\left[\\begin{matrix}a & b & c\\\\0 & d & e\\\\0 & 0 & f\\end{matrix}\\right]$"
          },
          "metadata": {},
          "execution_count": 34
        }
      ]
    },
    {
      "cell_type": "markdown",
      "source": [
        "##### Lower Triangular Matrix"
      ],
      "metadata": {
        "id": "cHglRp38Z6rN"
      }
    },
    {
      "cell_type": "code",
      "source": [
        "L = sym.Matrix([[a, 0, 0],\n",
        "                [b, c, 0],\n",
        "                [d, e, f]])\n",
        "\n",
        "L"
      ],
      "metadata": {
        "colab": {
          "base_uri": "https://localhost:8080/",
          "height": 78
        },
        "id": "I3UVB_mIZ_Lz",
        "outputId": "e124d69c-3d26-4e5e-a60f-0af9df63abcb"
      },
      "execution_count": 35,
      "outputs": [
        {
          "output_type": "execute_result",
          "data": {
            "text/plain": [
              "Matrix([\n",
              "[a, 0, 0],\n",
              "[b, c, 0],\n",
              "[d, e, f]])"
            ],
            "text/latex": "$\\displaystyle \\left[\\begin{matrix}a & 0 & 0\\\\b & c & 0\\\\d & e & f\\end{matrix}\\right]$"
          },
          "metadata": {},
          "execution_count": 35
        }
      ]
    },
    {
      "cell_type": "markdown",
      "source": [
        "### Product of Diagonal Matrices\n",
        "\n",
        "The product of two diagonal matrices is a diagonal matrix, with elements given by the product of the diagonal elements"
      ],
      "metadata": {
        "id": "hQtx-pLGgdz6"
      }
    },
    {
      "cell_type": "code",
      "source": [
        "a1, a2, a3, b1, b2, b3 = sym.symbols('a_1 a_2 a_3 b_1 b_2 b_3')\n",
        "\n",
        "A = sym.diag(a1, a2, a3)\n",
        "B = sym.diag(b1, b2, b3)"
      ],
      "metadata": {
        "id": "hzdUNPKBgsb7"
      },
      "execution_count": 36,
      "outputs": []
    },
    {
      "cell_type": "code",
      "source": [
        "A"
      ],
      "metadata": {
        "colab": {
          "base_uri": "https://localhost:8080/",
          "height": 78
        },
        "id": "K7UMjKGng-O8",
        "outputId": "953f1dda-d3ed-4c84-b907-5e8a609a0794"
      },
      "execution_count": 37,
      "outputs": [
        {
          "output_type": "execute_result",
          "data": {
            "text/plain": [
              "Matrix([\n",
              "[a_1,   0,   0],\n",
              "[  0, a_2,   0],\n",
              "[  0,   0, a_3]])"
            ],
            "text/latex": "$\\displaystyle \\left[\\begin{matrix}a_{1} & 0 & 0\\\\0 & a_{2} & 0\\\\0 & 0 & a_{3}\\end{matrix}\\right]$"
          },
          "metadata": {},
          "execution_count": 37
        }
      ]
    },
    {
      "cell_type": "code",
      "source": [
        "B"
      ],
      "metadata": {
        "colab": {
          "base_uri": "https://localhost:8080/",
          "height": 78
        },
        "id": "Kecx_J8Lg-W8",
        "outputId": "52c9cf0d-1b83-42a7-b51a-0f913a452311"
      },
      "execution_count": 38,
      "outputs": [
        {
          "output_type": "execute_result",
          "data": {
            "text/plain": [
              "Matrix([\n",
              "[b_1,   0,   0],\n",
              "[  0, b_2,   0],\n",
              "[  0,   0, b_3]])"
            ],
            "text/latex": "$\\displaystyle \\left[\\begin{matrix}b_{1} & 0 & 0\\\\0 & b_{2} & 0\\\\0 & 0 & b_{3}\\end{matrix}\\right]$"
          },
          "metadata": {},
          "execution_count": 38
        }
      ]
    },
    {
      "cell_type": "code",
      "source": [
        "A * B"
      ],
      "metadata": {
        "colab": {
          "base_uri": "https://localhost:8080/",
          "height": 78
        },
        "id": "JPRKHUaLhBHV",
        "outputId": "259668e0-5831-469d-c7c7-1b5ac1a4467e"
      },
      "execution_count": 39,
      "outputs": [
        {
          "output_type": "execute_result",
          "data": {
            "text/plain": [
              "Matrix([\n",
              "[a_1*b_1,       0,       0],\n",
              "[      0, a_2*b_2,       0],\n",
              "[      0,       0, a_3*b_3]])"
            ],
            "text/latex": "$\\displaystyle \\left[\\begin{matrix}a_{1} b_{1} & 0 & 0\\\\0 & a_{2} b_{2} & 0\\\\0 & 0 & a_{3} b_{3}\\end{matrix}\\right]$"
          },
          "metadata": {},
          "execution_count": 39
        }
      ]
    },
    {
      "cell_type": "markdown",
      "source": [
        "### Product of Triangular Matrices\n",
        "\n",
        "The product of two upper triangular matrices is an upper triangular matrix, with the diagonal elements of the product given by the product of the diagonal elements"
      ],
      "metadata": {
        "id": "rGr-RWFnh9Pn"
      }
    },
    {
      "cell_type": "code",
      "source": [
        "A = sym.Matrix([[a1, a2],\n",
        "                [0, a3]])\n",
        "\n",
        "B = sym.Matrix([[b1, b2],\n",
        "                [0, b3]])\n",
        "\n",
        "A"
      ],
      "metadata": {
        "colab": {
          "base_uri": "https://localhost:8080/",
          "height": 58
        },
        "id": "ZH0QEtEuiQpP",
        "outputId": "a5500358-7f61-47ee-9bf6-4b844d13d4e7"
      },
      "execution_count": 40,
      "outputs": [
        {
          "output_type": "execute_result",
          "data": {
            "text/plain": [
              "Matrix([\n",
              "[a_1, a_2],\n",
              "[  0, a_3]])"
            ],
            "text/latex": "$\\displaystyle \\left[\\begin{matrix}a_{1} & a_{2}\\\\0 & a_{3}\\end{matrix}\\right]$"
          },
          "metadata": {},
          "execution_count": 40
        }
      ]
    },
    {
      "cell_type": "code",
      "source": [
        "B"
      ],
      "metadata": {
        "colab": {
          "base_uri": "https://localhost:8080/",
          "height": 58
        },
        "id": "NJFx60ehiqZf",
        "outputId": "b95587bc-24bf-4585-aa9f-d346095cdcf3"
      },
      "execution_count": 41,
      "outputs": [
        {
          "output_type": "execute_result",
          "data": {
            "text/plain": [
              "Matrix([\n",
              "[b_1, b_2],\n",
              "[  0, b_3]])"
            ],
            "text/latex": "$\\displaystyle \\left[\\begin{matrix}b_{1} & b_{2}\\\\0 & b_{3}\\end{matrix}\\right]$"
          },
          "metadata": {},
          "execution_count": 41
        }
      ]
    },
    {
      "cell_type": "code",
      "source": [
        "A * B"
      ],
      "metadata": {
        "colab": {
          "base_uri": "https://localhost:8080/",
          "height": 58
        },
        "id": "Meee4HwiirAU",
        "outputId": "840a8b4d-cd1c-4981-83a4-2381df7ba577"
      },
      "execution_count": 42,
      "outputs": [
        {
          "output_type": "execute_result",
          "data": {
            "text/plain": [
              "Matrix([\n",
              "[a_1*b_1, a_1*b_2 + a_2*b_3],\n",
              "[      0,           a_3*b_3]])"
            ],
            "text/latex": "$\\displaystyle \\left[\\begin{matrix}a_{1} b_{1} & a_{1} b_{2} + a_{2} b_{3}\\\\0 & a_{3} b_{3}\\end{matrix}\\right]$"
          },
          "metadata": {},
          "execution_count": 42
        }
      ]
    },
    {
      "cell_type": "markdown",
      "source": [
        "## 1.2 Transpose and Inverses"
      ],
      "metadata": {
        "id": "Tm24-e16n2c4"
      }
    },
    {
      "cell_type": "markdown",
      "source": [
        "### Transpose Matrix\n",
        "\n",
        "The rows become the columns and the columns become the rows\n",
        "\n",
        "In terms of individual elements: \n",
        "\n",
        "$$\n",
        "a_{ij}^T = a_{ji}\n",
        "$$"
      ],
      "metadata": {
        "id": "rCCoDQubn9vJ"
      }
    },
    {
      "cell_type": "markdown",
      "source": [
        "#### Transpose identities\n",
        "\n",
        "$\n",
        "\\left(A^{T}\\right)^{T} = A\n",
        "\\\\\n",
        "\\left(A + B\\right)^{T} = A^{T} + B^{T}\n",
        "\\\\\n",
        "\\left(AB\\right)^{T} = B^{T}A^{T}\n",
        "$"
      ],
      "metadata": {
        "id": "BezxOlQYvrmI"
      }
    },
    {
      "cell_type": "code",
      "source": [
        "a11, a12, a13 = sym.symbols('a_11 a_12 a_13')\n",
        "a21, a22, a23 = sym.symbols('a_21 a_22 a_23')\n",
        "a31, a32, a33 = sym.symbols('a_31 a_32 a_33')"
      ],
      "metadata": {
        "id": "KONgPawXp-rE"
      },
      "execution_count": 43,
      "outputs": []
    },
    {
      "cell_type": "code",
      "source": [
        "A = sym.Matrix([[a11, a12, a13],\n",
        "                [a21, a22, a23],\n",
        "                [a31, a32, a33]])\n",
        "\n",
        "A"
      ],
      "metadata": {
        "colab": {
          "base_uri": "https://localhost:8080/",
          "height": 78
        },
        "id": "h0OECjHMqlsA",
        "outputId": "f4994045-9624-4dca-8263-0aa747f5fd0d"
      },
      "execution_count": 44,
      "outputs": [
        {
          "output_type": "execute_result",
          "data": {
            "text/plain": [
              "Matrix([\n",
              "[a_11, a_12, a_13],\n",
              "[a_21, a_22, a_23],\n",
              "[a_31, a_32, a_33]])"
            ],
            "text/latex": "$\\displaystyle \\left[\\begin{matrix}a_{11} & a_{12} & a_{13}\\\\a_{21} & a_{22} & a_{23}\\\\a_{31} & a_{32} & a_{33}\\end{matrix}\\right]$"
          },
          "metadata": {},
          "execution_count": 44
        }
      ]
    },
    {
      "cell_type": "code",
      "source": [
        "A.T"
      ],
      "metadata": {
        "colab": {
          "base_uri": "https://localhost:8080/",
          "height": 78
        },
        "id": "HXqT2VuqtRaS",
        "outputId": "7ffd704a-4a27-467e-fa41-22f8a1ae23f0"
      },
      "execution_count": 45,
      "outputs": [
        {
          "output_type": "execute_result",
          "data": {
            "text/plain": [
              "Matrix([\n",
              "[a_11, a_21, a_31],\n",
              "[a_12, a_22, a_32],\n",
              "[a_13, a_23, a_33]])"
            ],
            "text/latex": "$\\displaystyle \\left[\\begin{matrix}a_{11} & a_{21} & a_{31}\\\\a_{12} & a_{22} & a_{32}\\\\a_{13} & a_{23} & a_{33}\\end{matrix}\\right]$"
          },
          "metadata": {},
          "execution_count": 45
        }
      ]
    },
    {
      "cell_type": "code",
      "source": [
        "# numpy\n",
        "A = np.array([[101, 101, 103],\n",
        "              [201, 202, 203]])\n",
        "\n",
        "A.transpose()"
      ],
      "metadata": {
        "colab": {
          "base_uri": "https://localhost:8080/"
        },
        "id": "VxsJsSvatfNj",
        "outputId": "5879f6b8-fb31-474a-fbf6-f5e4b14f0048"
      },
      "execution_count": 46,
      "outputs": [
        {
          "output_type": "execute_result",
          "data": {
            "text/plain": [
              "array([[101, 201],\n",
              "       [101, 202],\n",
              "       [103, 203]])"
            ]
          },
          "metadata": {},
          "execution_count": 46
        }
      ]
    },
    {
      "cell_type": "code",
      "source": [
        "np.transpose(A)"
      ],
      "metadata": {
        "colab": {
          "base_uri": "https://localhost:8080/"
        },
        "id": "wl0j0C4kupvm",
        "outputId": "82faca4a-58b2-4580-f6a1-84d29432e5c9"
      },
      "execution_count": 47,
      "outputs": [
        {
          "output_type": "execute_result",
          "data": {
            "text/plain": [
              "array([[101, 201],\n",
              "       [101, 202],\n",
              "       [103, 203]])"
            ]
          },
          "metadata": {},
          "execution_count": 47
        }
      ]
    },
    {
      "cell_type": "markdown",
      "source": [
        "### Symmetric Matrix\n",
        "\n",
        "- $A^{T} = A$\n",
        "- A square matrix that is equal to its transpose is called a **symmetric matrix**\n",
        "- These matrices are symmetric about the diagonal"
      ],
      "metadata": {
        "id": "xpRWVoOyx6bc"
      }
    },
    {
      "cell_type": "code",
      "source": [
        "a, b, c, d, e, f = sym.symbols('a b c d e f')\n",
        "\n",
        "A = sym.Matrix([[a, b, c],\n",
        "                [b, d, e],\n",
        "                [c, e, f]])\n",
        "\n",
        "A"
      ],
      "metadata": {
        "colab": {
          "base_uri": "https://localhost:8080/",
          "height": 78
        },
        "id": "tuYC3c6sylV1",
        "outputId": "d065462f-8565-4282-cc97-7a599ec55060"
      },
      "execution_count": 48,
      "outputs": [
        {
          "output_type": "execute_result",
          "data": {
            "text/plain": [
              "Matrix([\n",
              "[a, b, c],\n",
              "[b, d, e],\n",
              "[c, e, f]])"
            ],
            "text/latex": "$\\displaystyle \\left[\\begin{matrix}a & b & c\\\\b & d & e\\\\c & e & f\\end{matrix}\\right]$"
          },
          "metadata": {},
          "execution_count": 48
        }
      ]
    },
    {
      "cell_type": "code",
      "source": [
        "A.T"
      ],
      "metadata": {
        "colab": {
          "base_uri": "https://localhost:8080/",
          "height": 78
        },
        "id": "RPzHIH0nzPg-",
        "outputId": "9adad6b3-d1a0-43d6-c92b-293a18c4e2ba"
      },
      "execution_count": 49,
      "outputs": [
        {
          "output_type": "execute_result",
          "data": {
            "text/plain": [
              "Matrix([\n",
              "[a, b, c],\n",
              "[b, d, e],\n",
              "[c, e, f]])"
            ],
            "text/latex": "$\\displaystyle \\left[\\begin{matrix}a & b & c\\\\b & d & e\\\\c & e & f\\end{matrix}\\right]$"
          },
          "metadata": {},
          "execution_count": 49
        }
      ]
    },
    {
      "cell_type": "code",
      "source": [
        "A == A.T"
      ],
      "metadata": {
        "colab": {
          "base_uri": "https://localhost:8080/"
        },
        "id": "4TFnIWLJzTgd",
        "outputId": "bf28a0ac-91ee-4fd4-eb2d-bdd855c7d911"
      },
      "execution_count": 50,
      "outputs": [
        {
          "output_type": "execute_result",
          "data": {
            "text/plain": [
              "True"
            ]
          },
          "metadata": {},
          "execution_count": 50
        }
      ]
    },
    {
      "cell_type": "markdown",
      "source": [
        "#### Skew-symmetric Matrix\n",
        "\n",
        "- $A^{T} = -A$\n",
        "- A square matrix whose transpose is equal to its negative is called a **skew-symmetric matrix**\n",
        "- The diagonal must contain only 0s. "
      ],
      "metadata": {
        "id": "hGxW86hxz95S"
      }
    },
    {
      "cell_type": "code",
      "source": [
        "a, b, c = sym.symbols('a b c')\n",
        "\n",
        "A = sym.Matrix([[0, a, b],\n",
        "                [-a, 0, c],\n",
        "                [-b, -c, 0]])\n",
        "\n",
        "A"
      ],
      "metadata": {
        "colab": {
          "base_uri": "https://localhost:8080/",
          "height": 78
        },
        "id": "ue4Z9ZXJ0g0x",
        "outputId": "7ede8b6c-9446-472d-c7bd-a56e442c7838"
      },
      "execution_count": 51,
      "outputs": [
        {
          "output_type": "execute_result",
          "data": {
            "text/plain": [
              "Matrix([\n",
              "[ 0,  a, b],\n",
              "[-a,  0, c],\n",
              "[-b, -c, 0]])"
            ],
            "text/latex": "$\\displaystyle \\left[\\begin{matrix}0 & a & b\\\\- a & 0 & c\\\\- b & - c & 0\\end{matrix}\\right]$"
          },
          "metadata": {},
          "execution_count": 51
        }
      ]
    },
    {
      "cell_type": "code",
      "source": [
        "A.T"
      ],
      "metadata": {
        "colab": {
          "base_uri": "https://localhost:8080/",
          "height": 78
        },
        "id": "uqeLT-sm1tVc",
        "outputId": "2768925c-de87-40b6-cd1f-ba1a82c127cb"
      },
      "execution_count": 52,
      "outputs": [
        {
          "output_type": "execute_result",
          "data": {
            "text/plain": [
              "Matrix([\n",
              "[0, -a, -b],\n",
              "[a,  0, -c],\n",
              "[b,  c,  0]])"
            ],
            "text/latex": "$\\displaystyle \\left[\\begin{matrix}0 & - a & - b\\\\a & 0 & - c\\\\b & c & 0\\end{matrix}\\right]$"
          },
          "metadata": {},
          "execution_count": 52
        }
      ]
    },
    {
      "cell_type": "code",
      "source": [
        "-A"
      ],
      "metadata": {
        "colab": {
          "base_uri": "https://localhost:8080/",
          "height": 78
        },
        "id": "3b8rp3WV1v7T",
        "outputId": "6d0f5afe-00f7-42f4-cfbd-c3d4279d5775"
      },
      "execution_count": 53,
      "outputs": [
        {
          "output_type": "execute_result",
          "data": {
            "text/plain": [
              "Matrix([\n",
              "[0, -a, -b],\n",
              "[a,  0, -c],\n",
              "[b,  c,  0]])"
            ],
            "text/latex": "$\\displaystyle \\left[\\begin{matrix}0 & - a & - b\\\\a & 0 & - c\\\\b & c & 0\\end{matrix}\\right]$"
          },
          "metadata": {},
          "execution_count": 53
        }
      ]
    },
    {
      "cell_type": "markdown",
      "source": [
        "### Inner and Outer Products"
      ],
      "metadata": {
        "id": "m8lFc66D5cfH"
      }
    },
    {
      "cell_type": "markdown",
      "source": [
        "#### Inner Product Between Two Vectors\n",
        "\n",
        "Let \n",
        "$\n",
        "u = \\left[\n",
        "    \\begin{matrix}\n",
        "        u_{1} \\\\ \n",
        "        u_{2} \\\\\n",
        "        \\vdots \\\\\n",
        "        u_{n}\n",
        "    \\end{matrix}\n",
        "\\right]\n",
        "$ \n",
        "and \n",
        "$\n",
        "v = \\left[\n",
        "    \\begin{matrix}\n",
        "        v_{1} \\\\ \n",
        "        v_{2} \\\\\n",
        "        \\vdots \\\\\n",
        "        v_{n}\n",
        "    \\end{matrix}\n",
        "\\right]\n",
        "$ \n",
        "be two column vectors. Then the **inner product** or **dot product** of $u$ and $v$ is denoted by $u^{T} \\cdot v$."
      ],
      "metadata": {
        "id": "q8_TuuDy6Cro"
      }
    },
    {
      "cell_type": "markdown",
      "source": [
        "$\n",
        "\\begin{align}\n",
        "u^{T} \\cdot v \n",
        "&= \n",
        "\\left[\n",
        "    \\begin{matrix}\n",
        "    u_{1} & u_{2} & \\dots & u_{n} \n",
        "\\end{matrix}\n",
        "\\right] \n",
        "\\cdot \n",
        "\\left[\n",
        "    \\begin{matrix}\n",
        "    v_{1} \\\\ \n",
        "    v_{2} \\\\\n",
        "    \\vdots \\\\\n",
        "    v_{n}\n",
        "\\end{matrix}\n",
        "\\right] \\\\\n",
        "&= \n",
        "u_{1}v_{1} + u_{2}v_{2} + \\dots + u_{n}v_{n}\n",
        "\\end{align}\n",
        "$"
      ],
      "metadata": {
        "id": "w6YqGsKZ6_8O"
      }
    },
    {
      "cell_type": "markdown",
      "source": [
        "- If $u^{T}v = 0$ then $u$ and $v$ are **orthogonal**\n",
        "- The **norm** of a vector, or its magnitude:\n",
        "\n",
        "$$\n",
        "||u|| = \\left(u^{T}u\\right)^{\\frac{1}{2}}\n",
        "$$\n",
        "\n",
        "- We say that vectors are **normalized** if $||u|| = 1$\n",
        "- If two normalized vectors are orthogonal we say that the vectors are **orthonormal**"
      ],
      "metadata": {
        "id": "CbVJhp99BHxm"
      }
    },
    {
      "cell_type": "code",
      "source": [
        "# normalize a vector\n",
        "x1, x2, x3 = sym.symbols('x_1 x_2 x_3')\n",
        "x = sym.Matrix([[x1],\n",
        "                [x2],\n",
        "                [x3]])\n",
        "\n",
        "normalized_x = x / sym.sqrt(x.dot(x))\n",
        "normalized_x"
      ],
      "metadata": {
        "colab": {
          "base_uri": "https://localhost:8080/",
          "height": 102
        },
        "id": "1VjwevMXDUeJ",
        "outputId": "cf92da44-8de6-439e-b469-3bde18262dad"
      },
      "execution_count": 54,
      "outputs": [
        {
          "output_type": "execute_result",
          "data": {
            "text/plain": [
              "Matrix([\n",
              "[x_1/sqrt(x_1**2 + x_2**2 + x_3**2)],\n",
              "[x_2/sqrt(x_1**2 + x_2**2 + x_3**2)],\n",
              "[x_3/sqrt(x_1**2 + x_2**2 + x_3**2)]])"
            ],
            "text/latex": "$\\displaystyle \\left[\\begin{matrix}\\frac{x_{1}}{\\sqrt{x_{1}^{2} + x_{2}^{2} + x_{3}^{2}}}\\\\\\frac{x_{2}}{\\sqrt{x_{1}^{2} + x_{2}^{2} + x_{3}^{2}}}\\\\\\frac{x_{3}}{\\sqrt{x_{1}^{2} + x_{2}^{2} + x_{3}^{2}}}\\end{matrix}\\right]$"
          },
          "metadata": {},
          "execution_count": 54
        }
      ]
    },
    {
      "cell_type": "code",
      "source": [
        "len_normalized_x = sym.sqrt(normalized_x.dot(normalized_x))\n",
        "len_normalized_x.simplify()"
      ],
      "metadata": {
        "colab": {
          "base_uri": "https://localhost:8080/",
          "height": 37
        },
        "id": "7dDuX9__EunL",
        "outputId": "fac88966-01eb-4490-87f1-a6d6c84e12d7"
      },
      "execution_count": 55,
      "outputs": [
        {
          "output_type": "execute_result",
          "data": {
            "text/plain": [
              "1"
            ],
            "text/latex": "$\\displaystyle 1$"
          },
          "metadata": {},
          "execution_count": 55
        }
      ]
    },
    {
      "cell_type": "code",
      "source": [
        "u1, u2, u3, v1, v2, v3 = sym.symbols('u_1 u_2 u_3 v_1 v_2 v_3')\n",
        "\n",
        "u = sym.Matrix([[u1],\n",
        "                [u2],\n",
        "                [u3]])\n",
        "\n",
        "v = sym.Matrix([[v1],\n",
        "                [v2],\n",
        "                [v3]])"
      ],
      "metadata": {
        "id": "JmKV1tV46HsZ"
      },
      "execution_count": 56,
      "outputs": []
    },
    {
      "cell_type": "code",
      "source": [
        "(u.T * v)[0]"
      ],
      "metadata": {
        "colab": {
          "base_uri": "https://localhost:8080/",
          "height": 39
        },
        "id": "J2hOU9gX7uc1",
        "outputId": "d0ce5ce9-a95a-4c0e-db53-bb35d41e533e"
      },
      "execution_count": 57,
      "outputs": [
        {
          "output_type": "execute_result",
          "data": {
            "text/plain": [
              "u_1*v_1 + u_2*v_2 + u_3*v_3"
            ],
            "text/latex": "$\\displaystyle u_{1} v_{1} + u_{2} v_{2} + u_{3} v_{3}$"
          },
          "metadata": {},
          "execution_count": 57
        }
      ]
    },
    {
      "cell_type": "code",
      "source": [
        "u.dot(v)"
      ],
      "metadata": {
        "colab": {
          "base_uri": "https://localhost:8080/",
          "height": 39
        },
        "id": "De7CgYmB71rE",
        "outputId": "60cc139d-31e0-437c-9513-ea29c89477f6"
      },
      "execution_count": 58,
      "outputs": [
        {
          "output_type": "execute_result",
          "data": {
            "text/plain": [
              "u_1*v_1 + u_2*v_2 + u_3*v_3"
            ],
            "text/latex": "$\\displaystyle u_{1} v_{1} + u_{2} v_{2} + u_{3} v_{3}$"
          },
          "metadata": {},
          "execution_count": 58
        }
      ]
    },
    {
      "cell_type": "code",
      "source": [
        "# numpy \n",
        "\n",
        "u = np.array([[1],\n",
        "              [2],\n",
        "              [3]])\n",
        "\n",
        "v = np.array([[4],\n",
        "              [5],\n",
        "              [6]])"
      ],
      "metadata": {
        "id": "iQaJ5EGH8Khs"
      },
      "execution_count": 59,
      "outputs": []
    },
    {
      "cell_type": "code",
      "source": [
        "u.reshape(-1).dot(v.reshape(-1))"
      ],
      "metadata": {
        "colab": {
          "base_uri": "https://localhost:8080/"
        },
        "id": "7GoE1i9o_Bnj",
        "outputId": "184a8220-5302-4b87-96df-4ef48ad2470e"
      },
      "execution_count": 60,
      "outputs": [
        {
          "output_type": "execute_result",
          "data": {
            "text/plain": [
              "32"
            ]
          },
          "metadata": {},
          "execution_count": 60
        }
      ]
    },
    {
      "cell_type": "code",
      "source": [
        "np.inner(u.reshape(-1), v.reshape(-1))"
      ],
      "metadata": {
        "colab": {
          "base_uri": "https://localhost:8080/"
        },
        "id": "5bP73ALa_oeM",
        "outputId": "0095657d-c9a0-465c-ed88-cf02c568b4b8"
      },
      "execution_count": 61,
      "outputs": [
        {
          "output_type": "execute_result",
          "data": {
            "text/plain": [
              "32"
            ]
          },
          "metadata": {},
          "execution_count": 61
        }
      ]
    },
    {
      "cell_type": "code",
      "source": [
        "# sympy\n",
        "u_sym = sym.Matrix(u)\n",
        "v_sym = sym.Matrix(v)"
      ],
      "metadata": {
        "id": "Un5_Pw6j8Wgt"
      },
      "execution_count": 62,
      "outputs": []
    },
    {
      "cell_type": "code",
      "source": [
        "(u_sym.T * v_sym)[0]"
      ],
      "metadata": {
        "colab": {
          "base_uri": "https://localhost:8080/",
          "height": 37
        },
        "id": "VYIY5dIi8tx2",
        "outputId": "1b61b76e-5304-45c8-e233-eec4a57a62b2"
      },
      "execution_count": 63,
      "outputs": [
        {
          "output_type": "execute_result",
          "data": {
            "text/plain": [
              "32"
            ],
            "text/latex": "$\\displaystyle 32$"
          },
          "metadata": {},
          "execution_count": 63
        }
      ]
    },
    {
      "cell_type": "code",
      "source": [
        "u_sym.dot(v_sym)"
      ],
      "metadata": {
        "colab": {
          "base_uri": "https://localhost:8080/",
          "height": 37
        },
        "id": "GsR9o7tU80ft",
        "outputId": "0bead9e1-fce0-4390-938d-81e75fb80fec"
      },
      "execution_count": 64,
      "outputs": [
        {
          "output_type": "execute_result",
          "data": {
            "text/plain": [
              "32"
            ],
            "text/latex": "$\\displaystyle 32$"
          },
          "metadata": {},
          "execution_count": 64
        }
      ]
    },
    {
      "cell_type": "markdown",
      "source": [
        "#### Outer Product Between Two Vectors"
      ],
      "metadata": {
        "id": "yvGCnq9mGWfd"
      }
    },
    {
      "cell_type": "code",
      "source": [
        "u1, u2, u3, v1, v2, v3 = sym.symbols('u_1 u_2 u_3 v_1 v_2 v_3')\n",
        "\n",
        "u = sym.Matrix([[u1],\n",
        "                [u2],\n",
        "                [u3]])\n",
        "\n",
        "v = sym.Matrix([[v1],\n",
        "                [v2],\n",
        "                [v3]])"
      ],
      "metadata": {
        "id": "3GfqaD4AHDji"
      },
      "execution_count": 65,
      "outputs": []
    },
    {
      "cell_type": "code",
      "source": [
        "u * v.T"
      ],
      "metadata": {
        "colab": {
          "base_uri": "https://localhost:8080/",
          "height": 78
        },
        "id": "Qh_ItBk7HQdv",
        "outputId": "88a3976c-ae4e-4873-b1c4-22d17c4ba28d"
      },
      "execution_count": 66,
      "outputs": [
        {
          "output_type": "execute_result",
          "data": {
            "text/plain": [
              "Matrix([\n",
              "[u_1*v_1, u_1*v_2, u_1*v_3],\n",
              "[u_2*v_1, u_2*v_2, u_2*v_3],\n",
              "[u_3*v_1, u_3*v_2, u_3*v_3]])"
            ],
            "text/latex": "$\\displaystyle \\left[\\begin{matrix}u_{1} v_{1} & u_{1} v_{2} & u_{1} v_{3}\\\\u_{2} v_{1} & u_{2} v_{2} & u_{2} v_{3}\\\\u_{3} v_{1} & u_{3} v_{2} & u_{3} v_{3}\\end{matrix}\\right]$"
          },
          "metadata": {},
          "execution_count": 66
        }
      ]
    },
    {
      "cell_type": "markdown",
      "source": [
        "### Example of a Symmetric Matrix\n",
        "\n",
        "Let A be a rectangular matrix given by:"
      ],
      "metadata": {
        "id": "XQDglRcfJp4J"
      }
    },
    {
      "cell_type": "code",
      "source": [
        "a, b, c, d, e, f = sym.symbols('a b c d e f')\n",
        "\n",
        "A = sym.Matrix([[a, d],\n",
        "                [b, e],\n",
        "                [c, f]])\n",
        "A"
      ],
      "metadata": {
        "colab": {
          "base_uri": "https://localhost:8080/",
          "height": 78
        },
        "id": "BubnnUJ-J11w",
        "outputId": "14be6958-22c8-4297-857e-330a5e52e160"
      },
      "execution_count": 67,
      "outputs": [
        {
          "output_type": "execute_result",
          "data": {
            "text/plain": [
              "Matrix([\n",
              "[a, d],\n",
              "[b, e],\n",
              "[c, f]])"
            ],
            "text/latex": "$\\displaystyle \\left[\\begin{matrix}a & d\\\\b & e\\\\c & f\\end{matrix}\\right]$"
          },
          "metadata": {},
          "execution_count": 67
        }
      ]
    },
    {
      "cell_type": "markdown",
      "source": [
        "Compute $A^{T}A$ and show that it is a symmetric matrix and that the sum of its diagonal elements is the sum of the squares of all the elements of $A$"
      ],
      "metadata": {
        "id": "u2YAAZInKGkE"
      }
    },
    {
      "cell_type": "code",
      "source": [
        "C = A.T * A\n",
        "C"
      ],
      "metadata": {
        "colab": {
          "base_uri": "https://localhost:8080/",
          "height": 58
        },
        "id": "S1zgPaGlKZeP",
        "outputId": "86433701-db42-4245-c6c0-245248f47542"
      },
      "execution_count": 68,
      "outputs": [
        {
          "output_type": "execute_result",
          "data": {
            "text/plain": [
              "Matrix([\n",
              "[a**2 + b**2 + c**2,    a*d + b*e + c*f],\n",
              "[   a*d + b*e + c*f, d**2 + e**2 + f**2]])"
            ],
            "text/latex": "$\\displaystyle \\left[\\begin{matrix}a^{2} + b^{2} + c^{2} & a d + b e + c f\\\\a d + b e + c f & d^{2} + e^{2} + f^{2}\\end{matrix}\\right]$"
          },
          "metadata": {},
          "execution_count": 68
        }
      ]
    },
    {
      "cell_type": "code",
      "source": [
        "C.is_symmetric()"
      ],
      "metadata": {
        "colab": {
          "base_uri": "https://localhost:8080/"
        },
        "id": "B0wrDsEaK7Jh",
        "outputId": "20ce157c-4f96-4427-eab0-633ef87bc6c3"
      },
      "execution_count": 69,
      "outputs": [
        {
          "output_type": "execute_result",
          "data": {
            "text/plain": [
              "True"
            ]
          },
          "metadata": {},
          "execution_count": 69
        }
      ]
    },
    {
      "cell_type": "code",
      "source": [
        "sum_diagonals_of_C = sym.Add()\n",
        "\n",
        "for i in range(C.rows):\n",
        "    for j in range(C.cols):\n",
        "        if i == j:\n",
        "            sum_diagonals_of_C += C[i, j]\n",
        "\n",
        "sum_diagonals_of_C.simplify()"
      ],
      "metadata": {
        "colab": {
          "base_uri": "https://localhost:8080/",
          "height": 39
        },
        "id": "IZO-mLZbLBdU",
        "outputId": "b67d1b6d-2a82-47b4-90d5-9b5961df921d"
      },
      "execution_count": 70,
      "outputs": [
        {
          "output_type": "execute_result",
          "data": {
            "text/plain": [
              "a**2 + b**2 + c**2 + d**2 + e**2 + f**2"
            ],
            "text/latex": "$\\displaystyle a^{2} + b^{2} + c^{2} + d^{2} + e^{2} + f^{2}$"
          },
          "metadata": {},
          "execution_count": 70
        }
      ]
    },
    {
      "cell_type": "code",
      "source": [
        "sum_squares_elements_of_A = sym.Add()\n",
        "\n",
        "for i in range(A.rows):\n",
        "    for j in range(A.cols):\n",
        "        sum_squares_elements_of_A += (A[i, j])**2\n",
        "\n",
        "sum_squares_elements_of_A"
      ],
      "metadata": {
        "colab": {
          "base_uri": "https://localhost:8080/",
          "height": 39
        },
        "id": "Ny4d9BLSM7_3",
        "outputId": "6e6f04ae-53ca-40de-bff1-13c62a664cac"
      },
      "execution_count": 71,
      "outputs": [
        {
          "output_type": "execute_result",
          "data": {
            "text/plain": [
              "a**2 + b**2 + c**2 + d**2 + e**2 + f**2"
            ],
            "text/latex": "$\\displaystyle a^{2} + b^{2} + c^{2} + d^{2} + e^{2} + f^{2}$"
          },
          "metadata": {},
          "execution_count": 71
        }
      ]
    },
    {
      "cell_type": "code",
      "source": [
        "# Reading; Sume of the Squores of the Elements of a Matrix: about Tr"
      ],
      "metadata": {
        "id": "HWgdL0CTNszC"
      },
      "execution_count": 72,
      "outputs": []
    }
  ]
}