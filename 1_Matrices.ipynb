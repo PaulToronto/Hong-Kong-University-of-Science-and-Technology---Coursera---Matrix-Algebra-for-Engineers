{
  "nbformat": 4,
  "nbformat_minor": 0,
  "metadata": {
    "colab": {
      "provenance": [],
      "authorship_tag": "ABX9TyPjJXdi74rNyw0EDOY+Bc++",
      "include_colab_link": true
    },
    "kernelspec": {
      "name": "python3",
      "display_name": "Python 3"
    },
    "language_info": {
      "name": "python"
    }
  },
  "cells": [
    {
      "cell_type": "markdown",
      "metadata": {
        "id": "view-in-github",
        "colab_type": "text"
      },
      "source": [
        "<a href=\"https://colab.research.google.com/github/PaulToronto/Hong-Kong-University-of-Science-and-Technology-Coursera-Matrix-Algebra-for-Engineers/blob/main/1_Matrices.ipynb\" target=\"_parent\"><img src=\"https://colab.research.google.com/assets/colab-badge.svg\" alt=\"Open In Colab\"/></a>"
      ]
    },
    {
      "cell_type": "markdown",
      "source": [
        "# 1 Matrices"
      ],
      "metadata": {
        "id": "yf67R51r13eA"
      }
    },
    {
      "cell_type": "code",
      "execution_count": null,
      "metadata": {
        "id": "Nn34qtI31rDd"
      },
      "outputs": [],
      "source": []
    }
  ]
}