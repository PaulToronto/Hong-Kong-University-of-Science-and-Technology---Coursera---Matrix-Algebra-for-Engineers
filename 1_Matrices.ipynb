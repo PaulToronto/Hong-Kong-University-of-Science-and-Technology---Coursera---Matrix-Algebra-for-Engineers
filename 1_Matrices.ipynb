{
  "nbformat": 4,
  "nbformat_minor": 0,
  "metadata": {
    "colab": {
      "provenance": [],
      "toc_visible": true,
      "authorship_tag": "ABX9TyMqBKoCL6s9+xb29tl8BLPh",
      "include_colab_link": true
    },
    "kernelspec": {
      "name": "python3",
      "display_name": "Python 3"
    },
    "language_info": {
      "name": "python"
    }
  },
  "cells": [
    {
      "cell_type": "markdown",
      "metadata": {
        "id": "view-in-github",
        "colab_type": "text"
      },
      "source": [
        "<a href=\"https://colab.research.google.com/github/PaulToronto/Hong-Kong-University-of-Science-and-Technology-Coursera-Matrix-Algebra-for-Engineers/blob/main/1_Matrices.ipynb\" target=\"_parent\"><img src=\"https://colab.research.google.com/assets/colab-badge.svg\" alt=\"Open In Colab\"/></a>"
      ]
    },
    {
      "cell_type": "markdown",
      "source": [
        "# 1 Matrices"
      ],
      "metadata": {
        "id": "yf67R51r13eA"
      }
    },
    {
      "cell_type": "code",
      "source": [
        "import sympy as sym\n",
        "import numpy as np\n",
        "\n",
        "import matplotlib.pyplot as plt"
      ],
      "metadata": {
        "id": "Dtnw26OfR1gi"
      },
      "execution_count": 1,
      "outputs": []
    },
    {
      "cell_type": "markdown",
      "source": [
        "## 1.1 Matrix Definitions"
      ],
      "metadata": {
        "id": "HaXFEof_oGEN"
      }
    },
    {
      "cell_type": "markdown",
      "source": [
        "A **matrix** is a rectangular array of numbers. The numbers can be symbols. "
      ],
      "metadata": {
        "id": "xP6np8URPnD8"
      }
    },
    {
      "cell_type": "markdown",
      "source": [
        "$$\n",
        "A = \n",
        "\\left[\n",
        "\\begin{matrix}\n",
        "a & b \\\\\n",
        "c & d\n",
        "\\end{matrix}\n",
        "\\right],\n",
        "B = \n",
        "\\left[\n",
        "\\begin{matrix}\n",
        "a & b \\\\ \n",
        "c & d \\\\\n",
        "e & f\n",
        "\\end{matrix}\n",
        "\\right],\n",
        "C = \n",
        "\\left[\n",
        "\\begin{matrix}\n",
        "a & b & c \\\\\n",
        "d & e & f\n",
        "\\end{matrix}\n",
        "\\right]\n",
        "$$"
      ],
      "metadata": {
        "id": "zeO2xu5AQdmT"
      }
    },
    {
      "cell_type": "markdown",
      "source": [
        "- $A$ is a $2 \\times 2$ matrix\n",
        "- $B$ is a $3 \\times 2$ matrix\n",
        "- $C$ is a $2 \\times 3$ matrix. "
      ],
      "metadata": {
        "id": "VF10TkCSRVho"
      }
    },
    {
      "cell_type": "code",
      "source": [
        "a, b, c, d, e, f = sym.symbols('a b c d e f')"
      ],
      "metadata": {
        "id": "iJDsJ67rSU5i"
      },
      "execution_count": 2,
      "outputs": []
    },
    {
      "cell_type": "code",
      "source": [
        "A = sym.Matrix([[a,  b],\n",
        "                [c, d]])\n",
        "\n",
        "B = sym.Matrix([[a, b],\n",
        "                [c, d],\n",
        "                [e, f]])\n",
        "\n",
        "C = sym.Matrix([[a, b, c],\n",
        "                [d, e, f]])"
      ],
      "metadata": {
        "id": "jI9gbJyuScbM"
      },
      "execution_count": 3,
      "outputs": []
    },
    {
      "cell_type": "code",
      "source": [
        "A"
      ],
      "metadata": {
        "colab": {
          "base_uri": "https://localhost:8080/",
          "height": 58
        },
        "id": "LBmc2G7rS3_L",
        "outputId": "eb4d0ab1-e424-4533-adf6-d949a8b87b57"
      },
      "execution_count": 4,
      "outputs": [
        {
          "output_type": "execute_result",
          "data": {
            "text/plain": [
              "Matrix([\n",
              "[a, b],\n",
              "[c, d]])"
            ],
            "text/latex": "$\\displaystyle \\left[\\begin{matrix}a & b\\\\c & d\\end{matrix}\\right]$"
          },
          "metadata": {},
          "execution_count": 4
        }
      ]
    },
    {
      "cell_type": "code",
      "source": [
        "B"
      ],
      "metadata": {
        "colab": {
          "base_uri": "https://localhost:8080/",
          "height": 78
        },
        "id": "amyJyEU2S4sE",
        "outputId": "1bf8c9a5-0e79-497e-d965-fca2167aab78"
      },
      "execution_count": 5,
      "outputs": [
        {
          "output_type": "execute_result",
          "data": {
            "text/plain": [
              "Matrix([\n",
              "[a, b],\n",
              "[c, d],\n",
              "[e, f]])"
            ],
            "text/latex": "$\\displaystyle \\left[\\begin{matrix}a & b\\\\c & d\\\\e & f\\end{matrix}\\right]$"
          },
          "metadata": {},
          "execution_count": 5
        }
      ]
    },
    {
      "cell_type": "code",
      "source": [
        "C"
      ],
      "metadata": {
        "colab": {
          "base_uri": "https://localhost:8080/",
          "height": 58
        },
        "id": "gON84sRES7q_",
        "outputId": "a3b5c384-d5bf-41e6-fe70-9bb8047ea866"
      },
      "execution_count": 6,
      "outputs": [
        {
          "output_type": "execute_result",
          "data": {
            "text/plain": [
              "Matrix([\n",
              "[a, b, c],\n",
              "[d, e, f]])"
            ],
            "text/latex": "$\\displaystyle \\left[\\begin{matrix}a & b & c\\\\d & e & f\\end{matrix}\\right]$"
          },
          "metadata": {},
          "execution_count": 6
        }
      ]
    },
    {
      "cell_type": "markdown",
      "source": [
        "$$\n",
        "x = \n",
        "\\left[\n",
        "\\begin{matrix}\n",
        "a \\\\\n",
        "b \\\\\n",
        "c\n",
        "\\end{matrix}\n",
        "\\right],\n",
        "y = \n",
        "\\left[\n",
        "\\begin{matrix}\n",
        "a & b & c\n",
        "\\end{matrix}\n",
        "\\right]\n",
        "$$"
      ],
      "metadata": {
        "id": "83pXVa3TTbSs"
      }
    },
    {
      "cell_type": "markdown",
      "source": [
        "- $x$ is a **column vector** or a $3 \\times 1$ matrix\n",
        "- $y$ is a  **row vector** or a $1 \\times 3$ matrix"
      ],
      "metadata": {
        "id": "74VmqQKVUUkP"
      }
    },
    {
      "cell_type": "markdown",
      "source": [
        "### A General Matrix"
      ],
      "metadata": {
        "id": "Wxnr5rfJUxo0"
      }
    },
    {
      "cell_type": "markdown",
      "source": [
        "$$\n",
        "A_{m \\times n} = \n",
        "\\left[\n",
        "\\begin{matrix}\n",
        "a_{11} & a_{12} & \\cdots & a_{1n} \\\\\n",
        "a_{21} & a_{22} & \\cdots & a_{2n} \\\\\n",
        "\\vdots & \\vdots & \\ddots & \\vdots \\\\\n",
        "a_{m1} & a_{m2} & \\cdots & a_{mn}\n",
        "\\end{matrix}\n",
        "\\right]\n",
        "$$"
      ],
      "metadata": {
        "id": "0PIfLEBFVyow"
      }
    },
    {
      "cell_type": "markdown",
      "source": [
        "### Matrix Addition\n",
        "\n",
        "- Two matrices can be only be added together when they have the same dimensions"
      ],
      "metadata": {
        "id": "Mt82tdHiayVR"
      }
    },
    {
      "cell_type": "code",
      "source": [
        "a, b, c, d, e, f, g, h = sym.symbols('a b c d e f g h')\n",
        "\n",
        "A = sym.Matrix([[a, b],\n",
        "                [c, d]])\n",
        "\n",
        "B = sym.Matrix([[e, f],\n",
        "                [g, h]])"
      ],
      "metadata": {
        "id": "A5GCEanhYqTN"
      },
      "execution_count": 7,
      "outputs": []
    },
    {
      "cell_type": "code",
      "source": [
        "A"
      ],
      "metadata": {
        "colab": {
          "base_uri": "https://localhost:8080/",
          "height": 58
        },
        "id": "K0snHg2DZOG6",
        "outputId": "7edeffd6-828b-4dd6-fbcc-37af5a6356eb"
      },
      "execution_count": 8,
      "outputs": [
        {
          "output_type": "execute_result",
          "data": {
            "text/plain": [
              "Matrix([\n",
              "[a, b],\n",
              "[c, d]])"
            ],
            "text/latex": "$\\displaystyle \\left[\\begin{matrix}a & b\\\\c & d\\end{matrix}\\right]$"
          },
          "metadata": {},
          "execution_count": 8
        }
      ]
    },
    {
      "cell_type": "code",
      "source": [
        "B"
      ],
      "metadata": {
        "colab": {
          "base_uri": "https://localhost:8080/",
          "height": 58
        },
        "id": "VAW3U3KeZQHI",
        "outputId": "f6174bdb-66f1-4460-b1f7-2383f0982529"
      },
      "execution_count": 9,
      "outputs": [
        {
          "output_type": "execute_result",
          "data": {
            "text/plain": [
              "Matrix([\n",
              "[e, f],\n",
              "[g, h]])"
            ],
            "text/latex": "$\\displaystyle \\left[\\begin{matrix}e & f\\\\g & h\\end{matrix}\\right]$"
          },
          "metadata": {},
          "execution_count": 9
        }
      ]
    },
    {
      "cell_type": "code",
      "source": [
        "A + B"
      ],
      "metadata": {
        "colab": {
          "base_uri": "https://localhost:8080/",
          "height": 58
        },
        "id": "DvCmdBKlZRc0",
        "outputId": "fe20f259-32f6-4ff5-91c1-e330e87befbe"
      },
      "execution_count": 10,
      "outputs": [
        {
          "output_type": "execute_result",
          "data": {
            "text/plain": [
              "Matrix([\n",
              "[a + e, b + f],\n",
              "[c + g, d + h]])"
            ],
            "text/latex": "$\\displaystyle \\left[\\begin{matrix}a + e & b + f\\\\c + g & d + h\\end{matrix}\\right]$"
          },
          "metadata": {},
          "execution_count": 10
        }
      ]
    },
    {
      "cell_type": "markdown",
      "source": [
        "### Multiply a Matrix by a Scalar"
      ],
      "metadata": {
        "id": "I0uKnHija9lK"
      }
    },
    {
      "cell_type": "code",
      "source": [
        "k = sym.symbols('k')\n",
        "\n",
        "k * A"
      ],
      "metadata": {
        "colab": {
          "base_uri": "https://localhost:8080/",
          "height": 58
        },
        "id": "GuZTg4TObIZn",
        "outputId": "fe3636ba-373b-4da5-c8bb-dcfa337f1f09"
      },
      "execution_count": 11,
      "outputs": [
        {
          "output_type": "execute_result",
          "data": {
            "text/plain": [
              "Matrix([\n",
              "[a*k, b*k],\n",
              "[c*k, d*k]])"
            ],
            "text/latex": "$\\displaystyle \\left[\\begin{matrix}a k & b k\\\\c k & d k\\end{matrix}\\right]$"
          },
          "metadata": {},
          "execution_count": 11
        }
      ]
    },
    {
      "cell_type": "markdown",
      "source": [
        "### Matrix Multiplication\n",
        "\n",
        "- Note that matrix muliplication is **not commutative**\n",
        "- An $m \\times n$ matrix can only be multiplied by an $n \\times p$ matrix\n",
        "    - The values $m$ and $p$ are arbitrary\n",
        "    - The number of columns in the first matrix ($n$) must be equal to the number of rows in the second matrix ($n$)\n",
        "        - The result is an $m \\times p$ matrix"
      ],
      "metadata": {
        "id": "jDpps29eb_3a"
      }
    },
    {
      "cell_type": "code",
      "source": [
        "A * B"
      ],
      "metadata": {
        "colab": {
          "base_uri": "https://localhost:8080/",
          "height": 58
        },
        "id": "9tCIO8nLcCRM",
        "outputId": "1c20ebbc-4f9c-468e-c658-88851250161c"
      },
      "execution_count": 12,
      "outputs": [
        {
          "output_type": "execute_result",
          "data": {
            "text/plain": [
              "Matrix([\n",
              "[a*e + b*g, a*f + b*h],\n",
              "[c*e + d*g, c*f + d*h]])"
            ],
            "text/latex": "$\\displaystyle \\left[\\begin{matrix}a e + b g & a f + b h\\\\c e + d g & c f + d h\\end{matrix}\\right]$"
          },
          "metadata": {},
          "execution_count": 12
        }
      ]
    },
    {
      "cell_type": "code",
      "source": [
        "# alternately\n",
        "sym.Matrix([[A.row(0).dot(B.col(0)), A.row(0).dot(B.col(1))],\n",
        "            [A.row(1).dot(B.col(0)), A.row(1).dot(B.col(1))]])"
      ],
      "metadata": {
        "colab": {
          "base_uri": "https://localhost:8080/",
          "height": 58
        },
        "id": "XKu1dXhycUN9",
        "outputId": "acb0e053-b80b-4acd-ec13-72cf55c4009c"
      },
      "execution_count": 13,
      "outputs": [
        {
          "output_type": "execute_result",
          "data": {
            "text/plain": [
              "Matrix([\n",
              "[a*e + b*g, a*f + b*h],\n",
              "[c*e + d*g, c*f + d*h]])"
            ],
            "text/latex": "$\\displaystyle \\left[\\begin{matrix}a e + b g & a f + b h\\\\c e + d g & c f + d h\\end{matrix}\\right]$"
          },
          "metadata": {},
          "execution_count": 13
        }
      ]
    },
    {
      "cell_type": "code",
      "source": [
        "A.row(0) * B.col(0), A.row(0).dot(B.col(0))"
      ],
      "metadata": {
        "colab": {
          "base_uri": "https://localhost:8080/"
        },
        "id": "nn3PnjsDc9uX",
        "outputId": "e5f51691-3380-44ac-961c-136eb775ec9f"
      },
      "execution_count": 14,
      "outputs": [
        {
          "output_type": "execute_result",
          "data": {
            "text/plain": [
              "(Matrix([[a*e + b*g]]), a*e + b*g)"
            ]
          },
          "metadata": {},
          "execution_count": 14
        }
      ]
    },
    {
      "cell_type": "code",
      "source": [
        "type(A.row(0) * B.col(0)), type(A.row(0).dot(B.col(0)))"
      ],
      "metadata": {
        "colab": {
          "base_uri": "https://localhost:8080/"
        },
        "id": "OwzN0Wq9c8sf",
        "outputId": "b1fa939f-0683-4c92-fa5c-a57f5d525a31"
      },
      "execution_count": 15,
      "outputs": [
        {
          "output_type": "execute_result",
          "data": {
            "text/plain": [
              "(sympy.matrices.dense.MutableDenseMatrix, sympy.core.add.Add)"
            ]
          },
          "metadata": {},
          "execution_count": 15
        }
      ]
    },
    {
      "cell_type": "code",
      "source": [
        "B * A"
      ],
      "metadata": {
        "colab": {
          "base_uri": "https://localhost:8080/",
          "height": 58
        },
        "id": "-LxNP29dfxSg",
        "outputId": "cf874c7b-d7f7-484f-e3f4-c626f0d9a949"
      },
      "execution_count": 16,
      "outputs": [
        {
          "output_type": "execute_result",
          "data": {
            "text/plain": [
              "Matrix([\n",
              "[a*e + c*f, b*e + d*f],\n",
              "[a*g + c*h, b*g + d*h]])"
            ],
            "text/latex": "$\\displaystyle \\left[\\begin{matrix}a e + c f & b e + d f\\\\a g + c h & b g + d h\\end{matrix}\\right]$"
          },
          "metadata": {},
          "execution_count": 16
        }
      ]
    },
    {
      "cell_type": "code",
      "source": [
        "A * B == A * B, A * B == B * A"
      ],
      "metadata": {
        "colab": {
          "base_uri": "https://localhost:8080/"
        },
        "id": "7DjhM0i5f1B6",
        "outputId": "c25d8b6a-2cce-4936-c282-96a029d09bd3"
      },
      "execution_count": 17,
      "outputs": [
        {
          "output_type": "execute_result",
          "data": {
            "text/plain": [
              "(True, False)"
            ]
          },
          "metadata": {},
          "execution_count": 17
        }
      ]
    },
    {
      "cell_type": "markdown",
      "source": [
        "#### General Formula for the ${ij}^{th}$  element of the product of two matrices"
      ],
      "metadata": {
        "id": "3leaa0MDl0lk"
      }
    },
    {
      "cell_type": "markdown",
      "source": [
        "Let $A$, $B$ and $C$ be matrices such that $C = AB$. Then,\n",
        "\n",
        "$$\n",
        "c_{ij} = \\sum_{k=1}^{n}{a_{ik}b_{kj}}\n",
        "$$"
      ],
      "metadata": {
        "id": "laVutHhQmLep"
      }
    },
    {
      "cell_type": "markdown",
      "source": [
        "#### $AB = AC$ does not imply $B = C$"
      ],
      "metadata": {
        "id": "hFFOjw0w1Eoi"
      }
    },
    {
      "cell_type": "code",
      "source": [
        "A = sym.Matrix([[1, 2],\n",
        "                [2, 4]])\n",
        "\n",
        "B = sym.Matrix([[2, 1],\n",
        "                [1, 3]])\n",
        "\n",
        "C = sym.Matrix([[4, 3],\n",
        "                [0, 2]])"
      ],
      "metadata": {
        "id": "E5LMAfrv1MOJ"
      },
      "execution_count": 18,
      "outputs": []
    },
    {
      "cell_type": "code",
      "source": [
        "# sympy\n",
        "A * B == A * C, B == C"
      ],
      "metadata": {
        "colab": {
          "base_uri": "https://localhost:8080/"
        },
        "id": "EQ7bz3m01czT",
        "outputId": "8f131770-9f1b-487c-bbd3-8558e888b12d"
      },
      "execution_count": 19,
      "outputs": [
        {
          "output_type": "execute_result",
          "data": {
            "text/plain": [
              "(True, False)"
            ]
          },
          "metadata": {},
          "execution_count": 19
        }
      ]
    },
    {
      "cell_type": "code",
      "source": [
        "# sympy\n",
        "(A * B).equals(A * C), B.equals(C)"
      ],
      "metadata": {
        "colab": {
          "base_uri": "https://localhost:8080/"
        },
        "id": "uYg9zX571y-i",
        "outputId": "18479a46-68a6-426b-e0b7-cb38915721e8"
      },
      "execution_count": 20,
      "outputs": [
        {
          "output_type": "execute_result",
          "data": {
            "text/plain": [
              "(True, False)"
            ]
          },
          "metadata": {},
          "execution_count": 20
        }
      ]
    },
    {
      "cell_type": "code",
      "source": [
        "# numpy\n",
        "Anp = np.array(A, dtype='int64')\n",
        "Bnp = np.array(B, dtype='int64')\n",
        "Cnp = np.array(C, dtype='int64')\n",
        "\n",
        "np.array_equal(Anp.dot(Bnp), Anp.dot(Cnp)), np.array_equal(B, C)"
      ],
      "metadata": {
        "colab": {
          "base_uri": "https://localhost:8080/"
        },
        "id": "KTgJ5ol22JsE",
        "outputId": "4b3355e3-a2a7-4a33-c09b-d21190bf51c4"
      },
      "execution_count": 21,
      "outputs": [
        {
          "output_type": "execute_result",
          "data": {
            "text/plain": [
              "(True, False)"
            ]
          },
          "metadata": {},
          "execution_count": 21
        }
      ]
    },
    {
      "cell_type": "markdown",
      "source": [
        "### Associative Law for Matrix Multiplication"
      ],
      "metadata": {
        "id": "rbvsl7i23WQJ"
      }
    },
    {
      "cell_type": "markdown",
      "source": [
        "$$\n",
        "A(BC) = (AB)C\n",
        "$$"
      ],
      "metadata": {
        "id": "h256v1pZ4GVh"
      }
    },
    {
      "cell_type": "markdown",
      "source": [
        "### Special Matrices"
      ],
      "metadata": {
        "id": "5U9yGr2S9b8L"
      }
    },
    {
      "cell_type": "markdown",
      "source": [
        "#### Zero Matrix: $O_{m \\times n}$\n",
        "\n",
        "- The zero matrix is analogous to the scalar 0\n",
        "\n",
        "$$\n",
        "O = \n",
        "\\left[\n",
        "    \\begin{matrix}\n",
        "    0 & 0 \\\\\n",
        "    0 & 0\n",
        "    \\end{matrix}\n",
        "\\right]\n",
        "$$\n",
        "\n",
        "This matrix is used a lot in the following equation, where $A$ is an $m \\times n$ matrix, x is an $n \\times 1$ column vector and the zero matrix is an $m \\times 1$ column vector.\n",
        "\n",
        "$Ax = O$"
      ],
      "metadata": {
        "id": "G7rW8mLkMQjC"
      }
    },
    {
      "cell_type": "code",
      "source": [
        "A = sym.zeros(2, 2)\n",
        "A"
      ],
      "metadata": {
        "colab": {
          "base_uri": "https://localhost:8080/",
          "height": 58
        },
        "id": "a_vJ8MJiMOm3",
        "outputId": "91b0dd1f-eab4-440d-d808-92792d058dee"
      },
      "execution_count": 22,
      "outputs": [
        {
          "output_type": "execute_result",
          "data": {
            "text/plain": [
              "Matrix([\n",
              "[0, 0],\n",
              "[0, 0]])"
            ],
            "text/latex": "$\\displaystyle \\left[\\begin{matrix}0 & 0\\\\0 & 0\\end{matrix}\\right]$"
          },
          "metadata": {},
          "execution_count": 22
        }
      ]
    },
    {
      "cell_type": "code",
      "source": [
        "np.zeros((2, 2))"
      ],
      "metadata": {
        "colab": {
          "base_uri": "https://localhost:8080/"
        },
        "id": "SxHmI35wRK15",
        "outputId": "b997ddd1-4407-4d19-e935-21e6c567a68a"
      },
      "execution_count": 23,
      "outputs": [
        {
          "output_type": "execute_result",
          "data": {
            "text/plain": [
              "array([[0., 0.],\n",
              "       [0., 0.]])"
            ]
          },
          "metadata": {},
          "execution_count": 23
        }
      ]
    },
    {
      "cell_type": "code",
      "source": [
        "# note that sympy can also create a matrix of ones\n",
        "sym.ones(3)"
      ],
      "metadata": {
        "colab": {
          "base_uri": "https://localhost:8080/",
          "height": 78
        },
        "id": "saPWWoBzOGqf",
        "outputId": "48781bf1-3155-412c-bd93-e3cf7b255ba5"
      },
      "execution_count": 24,
      "outputs": [
        {
          "output_type": "execute_result",
          "data": {
            "text/plain": [
              "Matrix([\n",
              "[1, 1, 1],\n",
              "[1, 1, 1],\n",
              "[1, 1, 1]])"
            ],
            "text/latex": "$\\displaystyle \\left[\\begin{matrix}1 & 1 & 1\\\\1 & 1 & 1\\\\1 & 1 & 1\\end{matrix}\\right]$"
          },
          "metadata": {},
          "execution_count": 24
        }
      ]
    },
    {
      "cell_type": "markdown",
      "source": [
        "#### Identity Matrix: $I_{n}$\n",
        "\n",
        "- The identity matrix, denoted $I$, is analogous to the scalar 1\n",
        "    - $AI = A = IA$, for any square matrix $A$\n",
        "- The identity matrix is always a square matrix\n",
        "- The identity matrix has only ones along the diagonal and zeros everywhere else"
      ],
      "metadata": {
        "id": "HssKTJssNt9Y"
      }
    },
    {
      "cell_type": "code",
      "source": [
        "sym.eye(3)"
      ],
      "metadata": {
        "colab": {
          "base_uri": "https://localhost:8080/",
          "height": 78
        },
        "id": "UR_ZRSaaN8SJ",
        "outputId": "5ec32481-2f6d-419b-ca57-922e3f4ff5ed"
      },
      "execution_count": 25,
      "outputs": [
        {
          "output_type": "execute_result",
          "data": {
            "text/plain": [
              "Matrix([\n",
              "[1, 0, 0],\n",
              "[0, 1, 0],\n",
              "[0, 0, 1]])"
            ],
            "text/latex": "$\\displaystyle \\left[\\begin{matrix}1 & 0 & 0\\\\0 & 1 & 0\\\\0 & 0 & 1\\end{matrix}\\right]$"
          },
          "metadata": {},
          "execution_count": 25
        }
      ]
    },
    {
      "cell_type": "code",
      "source": [
        "np.eye(3)"
      ],
      "metadata": {
        "colab": {
          "base_uri": "https://localhost:8080/"
        },
        "id": "i80lt5ZuRU6l",
        "outputId": "542e5a5e-97fa-4401-ee59-921f9a606356"
      },
      "execution_count": 26,
      "outputs": [
        {
          "output_type": "execute_result",
          "data": {
            "text/plain": [
              "array([[1., 0., 0.],\n",
              "       [0., 1., 0.],\n",
              "       [0., 0., 1.]])"
            ]
          },
          "metadata": {},
          "execution_count": 26
        }
      ]
    },
    {
      "cell_type": "code",
      "source": [
        "# note that sympy can use `.eye()` to create\n",
        "# matrices that are not square, therefore not\n",
        "# identity matrices\n",
        "sym.eye(3, 2)"
      ],
      "metadata": {
        "colab": {
          "base_uri": "https://localhost:8080/",
          "height": 78
        },
        "id": "ZjB1E9wUQ52q",
        "outputId": "7c15ee4f-6cc7-406b-b1ec-f5bc419101fb"
      },
      "execution_count": 27,
      "outputs": [
        {
          "output_type": "execute_result",
          "data": {
            "text/plain": [
              "Matrix([\n",
              "[1, 0],\n",
              "[0, 1],\n",
              "[0, 0]])"
            ],
            "text/latex": "$\\displaystyle \\left[\\begin{matrix}1 & 0\\\\0 & 1\\\\0 & 0\\end{matrix}\\right]$"
          },
          "metadata": {},
          "execution_count": 27
        }
      ]
    },
    {
      "cell_type": "code",
      "source": [
        "np.eye(3, 2)"
      ],
      "metadata": {
        "colab": {
          "base_uri": "https://localhost:8080/"
        },
        "id": "_1QlV5W7RXwo",
        "outputId": "865e410c-d52f-4ba0-c100-f3a6d7f130ec"
      },
      "execution_count": 28,
      "outputs": [
        {
          "output_type": "execute_result",
          "data": {
            "text/plain": [
              "array([[1., 0.],\n",
              "       [0., 1.],\n",
              "       [0., 0.]])"
            ]
          },
          "metadata": {},
          "execution_count": 28
        }
      ]
    },
    {
      "cell_type": "markdown",
      "source": [
        "#### Diagonal Matrix\n",
        "\n",
        "$$\n",
        "D =\n",
        "\\left[\n",
        "    \\begin{matrix}\n",
        "    d_1 & 0 & 0 \\\\\n",
        "    0 & d_2 & 0 \\\\\n",
        "    0 & 0 & d_3 \n",
        "    \\end{matrix}\n",
        "\\right]\n",
        "$$"
      ],
      "metadata": {
        "id": "BE8Jz8YiTaMj"
      }
    },
    {
      "cell_type": "code",
      "source": [
        "sym.diag(1, 2, 3)"
      ],
      "metadata": {
        "colab": {
          "base_uri": "https://localhost:8080/",
          "height": 78
        },
        "id": "QQG2L-CzTeJ9",
        "outputId": "d39ff42a-4ee9-4baa-e704-b5945a2b2416"
      },
      "execution_count": 29,
      "outputs": [
        {
          "output_type": "execute_result",
          "data": {
            "text/plain": [
              "Matrix([\n",
              "[1, 0, 0],\n",
              "[0, 2, 0],\n",
              "[0, 0, 3]])"
            ],
            "text/latex": "$\\displaystyle \\left[\\begin{matrix}1 & 0 & 0\\\\0 & 2 & 0\\\\0 & 0 & 3\\end{matrix}\\right]$"
          },
          "metadata": {},
          "execution_count": 29
        }
      ]
    },
    {
      "cell_type": "code",
      "source": [
        "sym.diag(3, 3, 7, 2, 8)"
      ],
      "metadata": {
        "colab": {
          "base_uri": "https://localhost:8080/",
          "height": 119
        },
        "id": "VPiyGfrbTqPV",
        "outputId": "381aaa59-5ee2-426e-c444-f99c6aa588a7"
      },
      "execution_count": 30,
      "outputs": [
        {
          "output_type": "execute_result",
          "data": {
            "text/plain": [
              "Matrix([\n",
              "[3, 0, 0, 0, 0],\n",
              "[0, 3, 0, 0, 0],\n",
              "[0, 0, 7, 0, 0],\n",
              "[0, 0, 0, 2, 0],\n",
              "[0, 0, 0, 0, 8]])"
            ],
            "text/latex": "$\\displaystyle \\left[\\begin{matrix}3 & 0 & 0 & 0 & 0\\\\0 & 3 & 0 & 0 & 0\\\\0 & 0 & 7 & 0 & 0\\\\0 & 0 & 0 & 2 & 0\\\\0 & 0 & 0 & 0 & 8\\end{matrix}\\right]$"
          },
          "metadata": {},
          "execution_count": 30
        }
      ]
    },
    {
      "cell_type": "code",
      "source": [
        "np.diag([1, 2, 3])"
      ],
      "metadata": {
        "colab": {
          "base_uri": "https://localhost:8080/"
        },
        "id": "StAVhFvgTw-6",
        "outputId": "0b654444-2449-4fc7-d8e8-23f0b9110f32"
      },
      "execution_count": 31,
      "outputs": [
        {
          "output_type": "execute_result",
          "data": {
            "text/plain": [
              "array([[1, 0, 0],\n",
              "       [0, 2, 0],\n",
              "       [0, 0, 3]])"
            ]
          },
          "metadata": {},
          "execution_count": 31
        }
      ]
    },
    {
      "cell_type": "code",
      "source": [
        "np.diag([3, 3, 7, 2, 8])"
      ],
      "metadata": {
        "colab": {
          "base_uri": "https://localhost:8080/"
        },
        "id": "_17ELvY8T11j",
        "outputId": "3acf5e9e-69c1-45c9-827a-5442d11b845f"
      },
      "execution_count": 32,
      "outputs": [
        {
          "output_type": "execute_result",
          "data": {
            "text/plain": [
              "array([[3, 0, 0, 0, 0],\n",
              "       [0, 3, 0, 0, 0],\n",
              "       [0, 0, 7, 0, 0],\n",
              "       [0, 0, 0, 2, 0],\n",
              "       [0, 0, 0, 0, 8]])"
            ]
          },
          "metadata": {},
          "execution_count": 32
        }
      ]
    },
    {
      "cell_type": "markdown",
      "source": [
        "#### Banded Matrix"
      ],
      "metadata": {
        "id": "4bDmp3K2Vbr7"
      }
    },
    {
      "cell_type": "markdown",
      "source": [
        "##### Example: Tridiagonal"
      ],
      "metadata": {
        "id": "uKicR9xUVe_v"
      }
    },
    {
      "cell_type": "code",
      "source": [
        "# takes a dictionary as an argument\n",
        "# key 0: the diagnoal\n",
        "# key -1: the lower diagonal\n",
        "# key 1: the upper diagonal\n",
        "# - can extend beyond -1 and 1 \n",
        "d1, d2, d3 = sym.symbols('d_1 d_2 d_3')\n",
        "l1, l2 = sym.symbols('l_1 l_2')\n",
        "u1, u2 = sym.symbols('u_1 u_2')\n",
        "\n",
        "sym.banded({0: (d1, d2, d3), -1: (l1, l2), 1: (u1, u2)})"
      ],
      "metadata": {
        "colab": {
          "base_uri": "https://localhost:8080/",
          "height": 78
        },
        "id": "HAV1JMMDWFX5",
        "outputId": "07d08c4f-2846-478b-aa53-e0adb3982be6"
      },
      "execution_count": 33,
      "outputs": [
        {
          "output_type": "execute_result",
          "data": {
            "text/plain": [
              "Matrix([\n",
              "[d_1, u_1,   0],\n",
              "[l_1, d_2, u_2],\n",
              "[  0, l_2, d_3]])"
            ],
            "text/latex": "$\\displaystyle \\left[\\begin{matrix}d_{1} & u_{1} & 0\\\\l_{1} & d_{2} & u_{2}\\\\0 & l_{2} & d_{3}\\end{matrix}\\right]$"
          },
          "metadata": {},
          "execution_count": 33
        }
      ]
    },
    {
      "cell_type": "markdown",
      "source": [
        "#### Triangular Matrix"
      ],
      "metadata": {
        "id": "Gy8SBFrVZGmo"
      }
    },
    {
      "cell_type": "markdown",
      "source": [
        "##### Upper Triangular Matrix"
      ],
      "metadata": {
        "id": "uW48eNQdZJBM"
      }
    },
    {
      "cell_type": "code",
      "source": [
        "a, b, c, d, e, f = sym.symbols('a b c d e f')\n",
        "\n",
        "U = sym.Matrix([[a, b, c],\n",
        "                [0, d, e],\n",
        "                [0, 0, f]])\n",
        "\n",
        "U"
      ],
      "metadata": {
        "colab": {
          "base_uri": "https://localhost:8080/",
          "height": 78
        },
        "id": "qVU615pBZpHT",
        "outputId": "3b3f7cf0-5e59-4d6d-f91a-59648f02bb20"
      },
      "execution_count": 34,
      "outputs": [
        {
          "output_type": "execute_result",
          "data": {
            "text/plain": [
              "Matrix([\n",
              "[a, b, c],\n",
              "[0, d, e],\n",
              "[0, 0, f]])"
            ],
            "text/latex": "$\\displaystyle \\left[\\begin{matrix}a & b & c\\\\0 & d & e\\\\0 & 0 & f\\end{matrix}\\right]$"
          },
          "metadata": {},
          "execution_count": 34
        }
      ]
    },
    {
      "cell_type": "markdown",
      "source": [
        "##### Lower Triangular Matrix"
      ],
      "metadata": {
        "id": "cHglRp38Z6rN"
      }
    },
    {
      "cell_type": "code",
      "source": [
        "L = sym.Matrix([[a, 0, 0],\n",
        "                [b, c, 0],\n",
        "                [d, e, f]])\n",
        "\n",
        "L"
      ],
      "metadata": {
        "colab": {
          "base_uri": "https://localhost:8080/",
          "height": 78
        },
        "id": "I3UVB_mIZ_Lz",
        "outputId": "e230f993-590c-4d6b-81b6-3871f8fcccd8"
      },
      "execution_count": 35,
      "outputs": [
        {
          "output_type": "execute_result",
          "data": {
            "text/plain": [
              "Matrix([\n",
              "[a, 0, 0],\n",
              "[b, c, 0],\n",
              "[d, e, f]])"
            ],
            "text/latex": "$\\displaystyle \\left[\\begin{matrix}a & 0 & 0\\\\b & c & 0\\\\d & e & f\\end{matrix}\\right]$"
          },
          "metadata": {},
          "execution_count": 35
        }
      ]
    },
    {
      "cell_type": "markdown",
      "source": [
        "### Product of Diagonal Matrices\n",
        "\n",
        "The product of two diagonal matrices is a diagonal matrix, with elements given by the product of the diagonal elements"
      ],
      "metadata": {
        "id": "hQtx-pLGgdz6"
      }
    },
    {
      "cell_type": "code",
      "source": [
        "a1, a2, a3, b1, b2, b3 = sym.symbols('a_1 a_2 a_3 b_1 b_2 b_3')\n",
        "\n",
        "A = sym.diag(a1, a2, a3)\n",
        "B = sym.diag(b1, b2, b3)"
      ],
      "metadata": {
        "id": "hzdUNPKBgsb7"
      },
      "execution_count": 36,
      "outputs": []
    },
    {
      "cell_type": "code",
      "source": [
        "A"
      ],
      "metadata": {
        "colab": {
          "base_uri": "https://localhost:8080/",
          "height": 78
        },
        "id": "K7UMjKGng-O8",
        "outputId": "8a4a4df7-10e8-46bf-f133-c8937f82088d"
      },
      "execution_count": 37,
      "outputs": [
        {
          "output_type": "execute_result",
          "data": {
            "text/plain": [
              "Matrix([\n",
              "[a_1,   0,   0],\n",
              "[  0, a_2,   0],\n",
              "[  0,   0, a_3]])"
            ],
            "text/latex": "$\\displaystyle \\left[\\begin{matrix}a_{1} & 0 & 0\\\\0 & a_{2} & 0\\\\0 & 0 & a_{3}\\end{matrix}\\right]$"
          },
          "metadata": {},
          "execution_count": 37
        }
      ]
    },
    {
      "cell_type": "code",
      "source": [
        "B"
      ],
      "metadata": {
        "colab": {
          "base_uri": "https://localhost:8080/",
          "height": 78
        },
        "id": "Kecx_J8Lg-W8",
        "outputId": "37bdf842-2e21-4d63-844d-afc5440a599a"
      },
      "execution_count": 38,
      "outputs": [
        {
          "output_type": "execute_result",
          "data": {
            "text/plain": [
              "Matrix([\n",
              "[b_1,   0,   0],\n",
              "[  0, b_2,   0],\n",
              "[  0,   0, b_3]])"
            ],
            "text/latex": "$\\displaystyle \\left[\\begin{matrix}b_{1} & 0 & 0\\\\0 & b_{2} & 0\\\\0 & 0 & b_{3}\\end{matrix}\\right]$"
          },
          "metadata": {},
          "execution_count": 38
        }
      ]
    },
    {
      "cell_type": "code",
      "source": [
        "A * B"
      ],
      "metadata": {
        "colab": {
          "base_uri": "https://localhost:8080/",
          "height": 78
        },
        "id": "JPRKHUaLhBHV",
        "outputId": "3b264369-6c97-40e9-c8fe-71630f68a224"
      },
      "execution_count": 39,
      "outputs": [
        {
          "output_type": "execute_result",
          "data": {
            "text/plain": [
              "Matrix([\n",
              "[a_1*b_1,       0,       0],\n",
              "[      0, a_2*b_2,       0],\n",
              "[      0,       0, a_3*b_3]])"
            ],
            "text/latex": "$\\displaystyle \\left[\\begin{matrix}a_{1} b_{1} & 0 & 0\\\\0 & a_{2} b_{2} & 0\\\\0 & 0 & a_{3} b_{3}\\end{matrix}\\right]$"
          },
          "metadata": {},
          "execution_count": 39
        }
      ]
    },
    {
      "cell_type": "markdown",
      "source": [
        "### Product of Triangular Matrices\n",
        "\n",
        "The product of two upper triangular matrices is an upper triangular matrix, with the diagonal elements of the product given by the product of the diagonal elements"
      ],
      "metadata": {
        "id": "rGr-RWFnh9Pn"
      }
    },
    {
      "cell_type": "code",
      "source": [
        "A = sym.Matrix([[a1, a2],\n",
        "                [0, a3]])\n",
        "\n",
        "B = sym.Matrix([[b1, b2],\n",
        "                [0, b3]])\n",
        "\n",
        "A"
      ],
      "metadata": {
        "colab": {
          "base_uri": "https://localhost:8080/",
          "height": 58
        },
        "id": "ZH0QEtEuiQpP",
        "outputId": "95ee724b-2a2b-4203-d0b3-bb229d77ab6d"
      },
      "execution_count": 40,
      "outputs": [
        {
          "output_type": "execute_result",
          "data": {
            "text/plain": [
              "Matrix([\n",
              "[a_1, a_2],\n",
              "[  0, a_3]])"
            ],
            "text/latex": "$\\displaystyle \\left[\\begin{matrix}a_{1} & a_{2}\\\\0 & a_{3}\\end{matrix}\\right]$"
          },
          "metadata": {},
          "execution_count": 40
        }
      ]
    },
    {
      "cell_type": "code",
      "source": [
        "B"
      ],
      "metadata": {
        "colab": {
          "base_uri": "https://localhost:8080/",
          "height": 58
        },
        "id": "NJFx60ehiqZf",
        "outputId": "e2e0d56c-dec8-4c23-de04-55e0a8324cf4"
      },
      "execution_count": 41,
      "outputs": [
        {
          "output_type": "execute_result",
          "data": {
            "text/plain": [
              "Matrix([\n",
              "[b_1, b_2],\n",
              "[  0, b_3]])"
            ],
            "text/latex": "$\\displaystyle \\left[\\begin{matrix}b_{1} & b_{2}\\\\0 & b_{3}\\end{matrix}\\right]$"
          },
          "metadata": {},
          "execution_count": 41
        }
      ]
    },
    {
      "cell_type": "code",
      "source": [
        "A * B"
      ],
      "metadata": {
        "colab": {
          "base_uri": "https://localhost:8080/",
          "height": 58
        },
        "id": "Meee4HwiirAU",
        "outputId": "0f1b6e51-3488-4ed5-a9af-09cd1acbb896"
      },
      "execution_count": 42,
      "outputs": [
        {
          "output_type": "execute_result",
          "data": {
            "text/plain": [
              "Matrix([\n",
              "[a_1*b_1, a_1*b_2 + a_2*b_3],\n",
              "[      0,           a_3*b_3]])"
            ],
            "text/latex": "$\\displaystyle \\left[\\begin{matrix}a_{1} b_{1} & a_{1} b_{2} + a_{2} b_{3}\\\\0 & a_{3} b_{3}\\end{matrix}\\right]$"
          },
          "metadata": {},
          "execution_count": 42
        }
      ]
    },
    {
      "cell_type": "markdown",
      "source": [
        "## 1.2 Transpose and Inverses"
      ],
      "metadata": {
        "id": "Tm24-e16n2c4"
      }
    },
    {
      "cell_type": "markdown",
      "source": [
        "### Transpose Matrix\n",
        "\n",
        "The rows become the columns and the columns become the rows\n",
        "\n",
        "In terms of individual elements: \n",
        "\n",
        "$$\n",
        "a_{ij}^T = a_{ji}\n",
        "$$"
      ],
      "metadata": {
        "id": "rCCoDQubn9vJ"
      }
    },
    {
      "cell_type": "markdown",
      "source": [
        "#### Transpose identities\n",
        "\n",
        "$$\n",
        "\\displaylines\n",
        "{\n",
        "\\left(A^{T}\\right)^{T} = A\n",
        "\\\\\n",
        "\\left(A + B\\right)^{T} = A^{T} + B^{T}\n",
        "\\\\\n",
        "\\left(AB\\right)^{T} = B^{T}A^{T}\n",
        "}\n",
        "$$"
      ],
      "metadata": {
        "id": "BezxOlQYvrmI"
      }
    },
    {
      "cell_type": "code",
      "source": [
        "a11, a12, a13 = sym.symbols('a_11 a_12 a_13')\n",
        "a21, a22, a23 = sym.symbols('a_21 a_22 a_23')\n",
        "a31, a32, a33 = sym.symbols('a_31 a_32 a_33')"
      ],
      "metadata": {
        "id": "KONgPawXp-rE"
      },
      "execution_count": 43,
      "outputs": []
    },
    {
      "cell_type": "code",
      "source": [
        "A = sym.Matrix([[a11, a12, a13],\n",
        "                [a21, a22, a23],\n",
        "                [a31, a32, a33]])\n",
        "\n",
        "A"
      ],
      "metadata": {
        "colab": {
          "base_uri": "https://localhost:8080/",
          "height": 78
        },
        "id": "h0OECjHMqlsA",
        "outputId": "0bace453-4138-49be-96a4-e160e6fc657d"
      },
      "execution_count": 44,
      "outputs": [
        {
          "output_type": "execute_result",
          "data": {
            "text/plain": [
              "Matrix([\n",
              "[a_11, a_12, a_13],\n",
              "[a_21, a_22, a_23],\n",
              "[a_31, a_32, a_33]])"
            ],
            "text/latex": "$\\displaystyle \\left[\\begin{matrix}a_{11} & a_{12} & a_{13}\\\\a_{21} & a_{22} & a_{23}\\\\a_{31} & a_{32} & a_{33}\\end{matrix}\\right]$"
          },
          "metadata": {},
          "execution_count": 44
        }
      ]
    },
    {
      "cell_type": "code",
      "source": [
        "A.T"
      ],
      "metadata": {
        "colab": {
          "base_uri": "https://localhost:8080/",
          "height": 78
        },
        "id": "HXqT2VuqtRaS",
        "outputId": "acf0fa60-713d-4161-bc8f-249ecde41e69"
      },
      "execution_count": 45,
      "outputs": [
        {
          "output_type": "execute_result",
          "data": {
            "text/plain": [
              "Matrix([\n",
              "[a_11, a_21, a_31],\n",
              "[a_12, a_22, a_32],\n",
              "[a_13, a_23, a_33]])"
            ],
            "text/latex": "$\\displaystyle \\left[\\begin{matrix}a_{11} & a_{21} & a_{31}\\\\a_{12} & a_{22} & a_{32}\\\\a_{13} & a_{23} & a_{33}\\end{matrix}\\right]$"
          },
          "metadata": {},
          "execution_count": 45
        }
      ]
    },
    {
      "cell_type": "code",
      "source": [
        "# numpy\n",
        "A = np.array([[101, 101, 103],\n",
        "              [201, 202, 203]])\n",
        "\n",
        "A.transpose()"
      ],
      "metadata": {
        "colab": {
          "base_uri": "https://localhost:8080/"
        },
        "id": "VxsJsSvatfNj",
        "outputId": "ed567827-30d8-4b96-e147-f144af4792b7"
      },
      "execution_count": 46,
      "outputs": [
        {
          "output_type": "execute_result",
          "data": {
            "text/plain": [
              "array([[101, 201],\n",
              "       [101, 202],\n",
              "       [103, 203]])"
            ]
          },
          "metadata": {},
          "execution_count": 46
        }
      ]
    },
    {
      "cell_type": "code",
      "source": [
        "np.transpose(A)"
      ],
      "metadata": {
        "colab": {
          "base_uri": "https://localhost:8080/"
        },
        "id": "wl0j0C4kupvm",
        "outputId": "2bbebd7b-c365-451a-e943-44f863d3abef"
      },
      "execution_count": 47,
      "outputs": [
        {
          "output_type": "execute_result",
          "data": {
            "text/plain": [
              "array([[101, 201],\n",
              "       [101, 202],\n",
              "       [103, 203]])"
            ]
          },
          "metadata": {},
          "execution_count": 47
        }
      ]
    },
    {
      "cell_type": "markdown",
      "source": [
        "### Symmetric Matrix\n",
        "\n",
        "- $A^{T} = A$\n",
        "- A square matrix that is equal to its transpose is called a **symmetric matrix**\n",
        "- These matrices are symmetric about the diagonal"
      ],
      "metadata": {
        "id": "xpRWVoOyx6bc"
      }
    },
    {
      "cell_type": "code",
      "source": [
        "a, b, c, d, e, f = sym.symbols('a b c d e f')\n",
        "\n",
        "A = sym.Matrix([[a, b, c],\n",
        "                [b, d, e],\n",
        "                [c, e, f]])\n",
        "\n",
        "A"
      ],
      "metadata": {
        "colab": {
          "base_uri": "https://localhost:8080/",
          "height": 78
        },
        "id": "tuYC3c6sylV1",
        "outputId": "b04ef93a-01e9-410b-8286-9071901f41b3"
      },
      "execution_count": 48,
      "outputs": [
        {
          "output_type": "execute_result",
          "data": {
            "text/plain": [
              "Matrix([\n",
              "[a, b, c],\n",
              "[b, d, e],\n",
              "[c, e, f]])"
            ],
            "text/latex": "$\\displaystyle \\left[\\begin{matrix}a & b & c\\\\b & d & e\\\\c & e & f\\end{matrix}\\right]$"
          },
          "metadata": {},
          "execution_count": 48
        }
      ]
    },
    {
      "cell_type": "code",
      "source": [
        "A.T"
      ],
      "metadata": {
        "colab": {
          "base_uri": "https://localhost:8080/",
          "height": 78
        },
        "id": "RPzHIH0nzPg-",
        "outputId": "5ca00e2c-18f2-471b-9bc3-9ac2bf3f9f08"
      },
      "execution_count": 49,
      "outputs": [
        {
          "output_type": "execute_result",
          "data": {
            "text/plain": [
              "Matrix([\n",
              "[a, b, c],\n",
              "[b, d, e],\n",
              "[c, e, f]])"
            ],
            "text/latex": "$\\displaystyle \\left[\\begin{matrix}a & b & c\\\\b & d & e\\\\c & e & f\\end{matrix}\\right]$"
          },
          "metadata": {},
          "execution_count": 49
        }
      ]
    },
    {
      "cell_type": "code",
      "source": [
        "A == A.T"
      ],
      "metadata": {
        "colab": {
          "base_uri": "https://localhost:8080/"
        },
        "id": "4TFnIWLJzTgd",
        "outputId": "8158a339-daf6-4432-dea0-03f4da941dc8"
      },
      "execution_count": 50,
      "outputs": [
        {
          "output_type": "execute_result",
          "data": {
            "text/plain": [
              "True"
            ]
          },
          "metadata": {},
          "execution_count": 50
        }
      ]
    },
    {
      "cell_type": "markdown",
      "source": [
        "#### Skew-symmetric Matrix\n",
        "\n",
        "- $A^{T} = -A$\n",
        "- A square matrix whose transpose is equal to its negative is called a **skew-symmetric matrix**\n",
        "- The diagonal must contain only 0s. "
      ],
      "metadata": {
        "id": "hGxW86hxz95S"
      }
    },
    {
      "cell_type": "code",
      "source": [
        "a, b, c = sym.symbols('a b c')\n",
        "\n",
        "A = sym.Matrix([[0, a, b],\n",
        "                [-a, 0, c],\n",
        "                [-b, -c, 0]])\n",
        "\n",
        "A"
      ],
      "metadata": {
        "colab": {
          "base_uri": "https://localhost:8080/",
          "height": 78
        },
        "id": "ue4Z9ZXJ0g0x",
        "outputId": "0fa70b04-6d03-4b31-ea15-cebeaa5c945a"
      },
      "execution_count": 51,
      "outputs": [
        {
          "output_type": "execute_result",
          "data": {
            "text/plain": [
              "Matrix([\n",
              "[ 0,  a, b],\n",
              "[-a,  0, c],\n",
              "[-b, -c, 0]])"
            ],
            "text/latex": "$\\displaystyle \\left[\\begin{matrix}0 & a & b\\\\- a & 0 & c\\\\- b & - c & 0\\end{matrix}\\right]$"
          },
          "metadata": {},
          "execution_count": 51
        }
      ]
    },
    {
      "cell_type": "code",
      "source": [
        "A.T"
      ],
      "metadata": {
        "colab": {
          "base_uri": "https://localhost:8080/",
          "height": 78
        },
        "id": "uqeLT-sm1tVc",
        "outputId": "55a7a641-f097-4097-edb9-cd7dea57b140"
      },
      "execution_count": 52,
      "outputs": [
        {
          "output_type": "execute_result",
          "data": {
            "text/plain": [
              "Matrix([\n",
              "[0, -a, -b],\n",
              "[a,  0, -c],\n",
              "[b,  c,  0]])"
            ],
            "text/latex": "$\\displaystyle \\left[\\begin{matrix}0 & - a & - b\\\\a & 0 & - c\\\\b & c & 0\\end{matrix}\\right]$"
          },
          "metadata": {},
          "execution_count": 52
        }
      ]
    },
    {
      "cell_type": "code",
      "source": [
        "-A"
      ],
      "metadata": {
        "colab": {
          "base_uri": "https://localhost:8080/",
          "height": 78
        },
        "id": "3b8rp3WV1v7T",
        "outputId": "4097c82a-8b0c-44a8-e150-5398f77d765d"
      },
      "execution_count": 53,
      "outputs": [
        {
          "output_type": "execute_result",
          "data": {
            "text/plain": [
              "Matrix([\n",
              "[0, -a, -b],\n",
              "[a,  0, -c],\n",
              "[b,  c,  0]])"
            ],
            "text/latex": "$\\displaystyle \\left[\\begin{matrix}0 & - a & - b\\\\a & 0 & - c\\\\b & c & 0\\end{matrix}\\right]$"
          },
          "metadata": {},
          "execution_count": 53
        }
      ]
    },
    {
      "cell_type": "markdown",
      "source": [
        "### Inner and Outer Products"
      ],
      "metadata": {
        "id": "m8lFc66D5cfH"
      }
    },
    {
      "cell_type": "markdown",
      "source": [
        "#### Inner Product Between Two Vectors\n",
        "\n",
        "Let \n",
        "$\n",
        "u = \\left[\n",
        "    \\begin{matrix}\n",
        "        u_{1} \\\\ \n",
        "        u_{2} \\\\\n",
        "        \\vdots \\\\\n",
        "        u_{n}\n",
        "    \\end{matrix}\n",
        "\\right]\n",
        "$ \n",
        "and \n",
        "$\n",
        "v = \\left[\n",
        "    \\begin{matrix}\n",
        "        v_{1} \\\\ \n",
        "        v_{2} \\\\\n",
        "        \\vdots \\\\\n",
        "        v_{n}\n",
        "    \\end{matrix}\n",
        "\\right]\n",
        "$ \n",
        "be two column vectors. Then the **inner product** or **dot product** of $u$ and $v$ is denoted by $u^{T} \\cdot v$."
      ],
      "metadata": {
        "id": "q8_TuuDy6Cro"
      }
    },
    {
      "cell_type": "markdown",
      "source": [
        "$\n",
        "\\begin{align}\n",
        "u^{T} \\cdot v \n",
        "&= \n",
        "\\left[\n",
        "    \\begin{matrix}\n",
        "    u_{1} & u_{2} & \\dots & u_{n} \n",
        "\\end{matrix}\n",
        "\\right] \n",
        "\\cdot \n",
        "\\left[\n",
        "    \\begin{matrix}\n",
        "    v_{1} \\\\ \n",
        "    v_{2} \\\\\n",
        "    \\vdots \\\\\n",
        "    v_{n}\n",
        "\\end{matrix}\n",
        "\\right] \\\\\n",
        "&= \n",
        "u_{1}v_{1} + u_{2}v_{2} + \\dots + u_{n}v_{n}\n",
        "\\end{align}\n",
        "$"
      ],
      "metadata": {
        "id": "w6YqGsKZ6_8O"
      }
    },
    {
      "cell_type": "markdown",
      "source": [
        "- If $u^{T}v = 0$ then $u$ and $v$ are **orthogonal**\n",
        "- The **norm** of a vector, or its magnitude:\n",
        "\n",
        "$$\n",
        "||u|| = \\left(u^{T}u\\right)^{\\frac{1}{2}}\n",
        "$$\n",
        "\n",
        "- We say that vectors are **normalized** if $||u|| = 1$\n",
        "- If two normalized vectors are orthogonal we say that the vectors are **orthonormal**"
      ],
      "metadata": {
        "id": "CbVJhp99BHxm"
      }
    },
    {
      "cell_type": "code",
      "source": [
        "# normalize a vector\n",
        "x1, x2, x3 = sym.symbols('x_1 x_2 x_3')\n",
        "x = sym.Matrix([[x1],\n",
        "                [x2],\n",
        "                [x3]])\n",
        "\n",
        "normalized_x = x / sym.sqrt(x.dot(x))\n",
        "normalized_x"
      ],
      "metadata": {
        "colab": {
          "base_uri": "https://localhost:8080/",
          "height": 102
        },
        "id": "1VjwevMXDUeJ",
        "outputId": "77fec41a-7752-4ebc-bcdf-aed1497ad82e"
      },
      "execution_count": 54,
      "outputs": [
        {
          "output_type": "execute_result",
          "data": {
            "text/plain": [
              "Matrix([\n",
              "[x_1/sqrt(x_1**2 + x_2**2 + x_3**2)],\n",
              "[x_2/sqrt(x_1**2 + x_2**2 + x_3**2)],\n",
              "[x_3/sqrt(x_1**2 + x_2**2 + x_3**2)]])"
            ],
            "text/latex": "$\\displaystyle \\left[\\begin{matrix}\\frac{x_{1}}{\\sqrt{x_{1}^{2} + x_{2}^{2} + x_{3}^{2}}}\\\\\\frac{x_{2}}{\\sqrt{x_{1}^{2} + x_{2}^{2} + x_{3}^{2}}}\\\\\\frac{x_{3}}{\\sqrt{x_{1}^{2} + x_{2}^{2} + x_{3}^{2}}}\\end{matrix}\\right]$"
          },
          "metadata": {},
          "execution_count": 54
        }
      ]
    },
    {
      "cell_type": "code",
      "source": [
        "len_normalized_x = sym.sqrt(normalized_x.dot(normalized_x))\n",
        "len_normalized_x.simplify()"
      ],
      "metadata": {
        "colab": {
          "base_uri": "https://localhost:8080/",
          "height": 37
        },
        "id": "7dDuX9__EunL",
        "outputId": "ec537762-ef0d-428d-e1b3-0f235e5739b3"
      },
      "execution_count": 55,
      "outputs": [
        {
          "output_type": "execute_result",
          "data": {
            "text/plain": [
              "1"
            ],
            "text/latex": "$\\displaystyle 1$"
          },
          "metadata": {},
          "execution_count": 55
        }
      ]
    },
    {
      "cell_type": "code",
      "source": [
        "u1, u2, u3, v1, v2, v3 = sym.symbols('u_1 u_2 u_3 v_1 v_2 v_3')\n",
        "\n",
        "u = sym.Matrix([[u1],\n",
        "                [u2],\n",
        "                [u3]])\n",
        "\n",
        "v = sym.Matrix([[v1],\n",
        "                [v2],\n",
        "                [v3]])"
      ],
      "metadata": {
        "id": "JmKV1tV46HsZ"
      },
      "execution_count": 56,
      "outputs": []
    },
    {
      "cell_type": "code",
      "source": [
        "(u.T * v)[0]"
      ],
      "metadata": {
        "colab": {
          "base_uri": "https://localhost:8080/",
          "height": 39
        },
        "id": "J2hOU9gX7uc1",
        "outputId": "e169c167-962b-48f0-c16c-289e51336990"
      },
      "execution_count": 57,
      "outputs": [
        {
          "output_type": "execute_result",
          "data": {
            "text/plain": [
              "u_1*v_1 + u_2*v_2 + u_3*v_3"
            ],
            "text/latex": "$\\displaystyle u_{1} v_{1} + u_{2} v_{2} + u_{3} v_{3}$"
          },
          "metadata": {},
          "execution_count": 57
        }
      ]
    },
    {
      "cell_type": "code",
      "source": [
        "u.dot(v)"
      ],
      "metadata": {
        "colab": {
          "base_uri": "https://localhost:8080/",
          "height": 39
        },
        "id": "De7CgYmB71rE",
        "outputId": "a54c43b8-7ec6-4bcf-e1df-b47a04bbcaf4"
      },
      "execution_count": 58,
      "outputs": [
        {
          "output_type": "execute_result",
          "data": {
            "text/plain": [
              "u_1*v_1 + u_2*v_2 + u_3*v_3"
            ],
            "text/latex": "$\\displaystyle u_{1} v_{1} + u_{2} v_{2} + u_{3} v_{3}$"
          },
          "metadata": {},
          "execution_count": 58
        }
      ]
    },
    {
      "cell_type": "code",
      "source": [
        "# numpy \n",
        "\n",
        "u = np.array([[1],\n",
        "              [2],\n",
        "              [3]])\n",
        "\n",
        "v = np.array([[4],\n",
        "              [5],\n",
        "              [6]])"
      ],
      "metadata": {
        "id": "iQaJ5EGH8Khs"
      },
      "execution_count": 59,
      "outputs": []
    },
    {
      "cell_type": "code",
      "source": [
        "u.reshape(-1).dot(v.reshape(-1))"
      ],
      "metadata": {
        "colab": {
          "base_uri": "https://localhost:8080/"
        },
        "id": "7GoE1i9o_Bnj",
        "outputId": "41974016-afaf-4f73-ffc5-9835b946c418"
      },
      "execution_count": 60,
      "outputs": [
        {
          "output_type": "execute_result",
          "data": {
            "text/plain": [
              "32"
            ]
          },
          "metadata": {},
          "execution_count": 60
        }
      ]
    },
    {
      "cell_type": "code",
      "source": [
        "np.inner(u.reshape(-1), v.reshape(-1))"
      ],
      "metadata": {
        "colab": {
          "base_uri": "https://localhost:8080/"
        },
        "id": "5bP73ALa_oeM",
        "outputId": "77012d78-6729-4ddf-ce50-62b6e03bd920"
      },
      "execution_count": 61,
      "outputs": [
        {
          "output_type": "execute_result",
          "data": {
            "text/plain": [
              "32"
            ]
          },
          "metadata": {},
          "execution_count": 61
        }
      ]
    },
    {
      "cell_type": "code",
      "source": [
        "# sympy\n",
        "u_sym = sym.Matrix(u)\n",
        "v_sym = sym.Matrix(v)"
      ],
      "metadata": {
        "id": "Un5_Pw6j8Wgt"
      },
      "execution_count": 62,
      "outputs": []
    },
    {
      "cell_type": "code",
      "source": [
        "(u_sym.T * v_sym)[0]"
      ],
      "metadata": {
        "colab": {
          "base_uri": "https://localhost:8080/",
          "height": 37
        },
        "id": "VYIY5dIi8tx2",
        "outputId": "aa5278c5-80cb-4543-f1fb-902ced823114"
      },
      "execution_count": 63,
      "outputs": [
        {
          "output_type": "execute_result",
          "data": {
            "text/plain": [
              "32"
            ],
            "text/latex": "$\\displaystyle 32$"
          },
          "metadata": {},
          "execution_count": 63
        }
      ]
    },
    {
      "cell_type": "code",
      "source": [
        "u_sym.dot(v_sym)"
      ],
      "metadata": {
        "colab": {
          "base_uri": "https://localhost:8080/",
          "height": 37
        },
        "id": "GsR9o7tU80ft",
        "outputId": "9be64b29-5fda-4c95-b6aa-fcfd9a913e07"
      },
      "execution_count": 64,
      "outputs": [
        {
          "output_type": "execute_result",
          "data": {
            "text/plain": [
              "32"
            ],
            "text/latex": "$\\displaystyle 32$"
          },
          "metadata": {},
          "execution_count": 64
        }
      ]
    },
    {
      "cell_type": "markdown",
      "source": [
        "#### Outer Product Between Two Vectors"
      ],
      "metadata": {
        "id": "yvGCnq9mGWfd"
      }
    },
    {
      "cell_type": "code",
      "source": [
        "u1, u2, u3, v1, v2, v3 = sym.symbols('u_1 u_2 u_3 v_1 v_2 v_3')\n",
        "\n",
        "u = sym.Matrix([[u1],\n",
        "                [u2],\n",
        "                [u3]])\n",
        "\n",
        "v = sym.Matrix([[v1],\n",
        "                [v2],\n",
        "                [v3]])"
      ],
      "metadata": {
        "id": "3GfqaD4AHDji"
      },
      "execution_count": 65,
      "outputs": []
    },
    {
      "cell_type": "code",
      "source": [
        "u * v.T"
      ],
      "metadata": {
        "colab": {
          "base_uri": "https://localhost:8080/",
          "height": 78
        },
        "id": "Qh_ItBk7HQdv",
        "outputId": "26d3f960-de06-439f-91a1-3d227c632e2f"
      },
      "execution_count": 66,
      "outputs": [
        {
          "output_type": "execute_result",
          "data": {
            "text/plain": [
              "Matrix([\n",
              "[u_1*v_1, u_1*v_2, u_1*v_3],\n",
              "[u_2*v_1, u_2*v_2, u_2*v_3],\n",
              "[u_3*v_1, u_3*v_2, u_3*v_3]])"
            ],
            "text/latex": "$\\displaystyle \\left[\\begin{matrix}u_{1} v_{1} & u_{1} v_{2} & u_{1} v_{3}\\\\u_{2} v_{1} & u_{2} v_{2} & u_{2} v_{3}\\\\u_{3} v_{1} & u_{3} v_{2} & u_{3} v_{3}\\end{matrix}\\right]$"
          },
          "metadata": {},
          "execution_count": 66
        }
      ]
    },
    {
      "cell_type": "markdown",
      "source": [
        "### Example of a Symmetric Matrix\n",
        "\n",
        "Let A be a rectangular matrix given by:"
      ],
      "metadata": {
        "id": "XQDglRcfJp4J"
      }
    },
    {
      "cell_type": "code",
      "source": [
        "a, b, c, d, e, f = sym.symbols('a b c d e f')\n",
        "\n",
        "A = sym.Matrix([[a, d],\n",
        "                [b, e],\n",
        "                [c, f]])\n",
        "A"
      ],
      "metadata": {
        "colab": {
          "base_uri": "https://localhost:8080/",
          "height": 78
        },
        "id": "BubnnUJ-J11w",
        "outputId": "63216063-84fa-469c-b425-d4d5c8f1a10c"
      },
      "execution_count": 67,
      "outputs": [
        {
          "output_type": "execute_result",
          "data": {
            "text/plain": [
              "Matrix([\n",
              "[a, d],\n",
              "[b, e],\n",
              "[c, f]])"
            ],
            "text/latex": "$\\displaystyle \\left[\\begin{matrix}a & d\\\\b & e\\\\c & f\\end{matrix}\\right]$"
          },
          "metadata": {},
          "execution_count": 67
        }
      ]
    },
    {
      "cell_type": "markdown",
      "source": [
        "Compute $A^{T}A$ and show that it is a symmetric matrix and that the sum of its diagonal elements is the sum of the squares of all the elements of $A$"
      ],
      "metadata": {
        "id": "u2YAAZInKGkE"
      }
    },
    {
      "cell_type": "code",
      "source": [
        "C = A.T * A\n",
        "C"
      ],
      "metadata": {
        "colab": {
          "base_uri": "https://localhost:8080/",
          "height": 58
        },
        "id": "S1zgPaGlKZeP",
        "outputId": "333e19dc-bff6-4c79-afa5-d60d2a470884"
      },
      "execution_count": 68,
      "outputs": [
        {
          "output_type": "execute_result",
          "data": {
            "text/plain": [
              "Matrix([\n",
              "[a**2 + b**2 + c**2,    a*d + b*e + c*f],\n",
              "[   a*d + b*e + c*f, d**2 + e**2 + f**2]])"
            ],
            "text/latex": "$\\displaystyle \\left[\\begin{matrix}a^{2} + b^{2} + c^{2} & a d + b e + c f\\\\a d + b e + c f & d^{2} + e^{2} + f^{2}\\end{matrix}\\right]$"
          },
          "metadata": {},
          "execution_count": 68
        }
      ]
    },
    {
      "cell_type": "code",
      "source": [
        "C.is_symmetric()"
      ],
      "metadata": {
        "colab": {
          "base_uri": "https://localhost:8080/"
        },
        "id": "B0wrDsEaK7Jh",
        "outputId": "ced15ea6-5c56-4663-88bb-0a0cb2971b88"
      },
      "execution_count": 69,
      "outputs": [
        {
          "output_type": "execute_result",
          "data": {
            "text/plain": [
              "True"
            ]
          },
          "metadata": {},
          "execution_count": 69
        }
      ]
    },
    {
      "cell_type": "code",
      "source": [
        "sum_diagonals_of_C = sym.Add()\n",
        "\n",
        "for i in range(C.rows):\n",
        "    for j in range(C.cols):\n",
        "        if i == j:\n",
        "            sum_diagonals_of_C += C[i, j]\n",
        "\n",
        "sum_diagonals_of_C.simplify()"
      ],
      "metadata": {
        "colab": {
          "base_uri": "https://localhost:8080/",
          "height": 39
        },
        "id": "IZO-mLZbLBdU",
        "outputId": "f1384118-5387-4c9e-ac72-e1ca6c46ae3d"
      },
      "execution_count": 70,
      "outputs": [
        {
          "output_type": "execute_result",
          "data": {
            "text/plain": [
              "a**2 + b**2 + c**2 + d**2 + e**2 + f**2"
            ],
            "text/latex": "$\\displaystyle a^{2} + b^{2} + c^{2} + d^{2} + e^{2} + f^{2}$"
          },
          "metadata": {},
          "execution_count": 70
        }
      ]
    },
    {
      "cell_type": "code",
      "source": [
        "sum_squares_elements_of_A = sym.Add()\n",
        "\n",
        "for i in range(A.rows):\n",
        "    for j in range(A.cols):\n",
        "        sum_squares_elements_of_A += (A[i, j])**2\n",
        "\n",
        "sum_squares_elements_of_A"
      ],
      "metadata": {
        "colab": {
          "base_uri": "https://localhost:8080/",
          "height": 39
        },
        "id": "Ny4d9BLSM7_3",
        "outputId": "56d4caf7-670b-4fbe-e9e7-6d24d65cae37"
      },
      "execution_count": 71,
      "outputs": [
        {
          "output_type": "execute_result",
          "data": {
            "text/plain": [
              "a**2 + b**2 + c**2 + d**2 + e**2 + f**2"
            ],
            "text/latex": "$\\displaystyle a^{2} + b^{2} + c^{2} + d^{2} + e^{2} + f^{2}$"
          },
          "metadata": {},
          "execution_count": 71
        }
      ]
    },
    {
      "cell_type": "markdown",
      "source": [
        "### The Trace of a Square Matrix\n",
        "\n",
        "- The **trace** of a square matrix, $A$, denoted by $Tr A$ is the sum of the diagional elements of $B$"
      ],
      "metadata": {
        "id": "nlkTekbUnWF1"
      }
    },
    {
      "cell_type": "code",
      "source": [
        "a, b, c, d, e, f, g, h, i = sym.symbols('a b c d e f g h i')\n",
        "\n",
        "A = sym.Matrix([[a, b, c],\n",
        "                [d, e, f],\n",
        "                [g, h, i]])\n",
        "\n",
        "A"
      ],
      "metadata": {
        "id": "HWgdL0CTNszC",
        "colab": {
          "base_uri": "https://localhost:8080/",
          "height": 78
        },
        "outputId": "8eb5307d-76d1-4882-94d8-7be333f37755"
      },
      "execution_count": 72,
      "outputs": [
        {
          "output_type": "execute_result",
          "data": {
            "text/plain": [
              "Matrix([\n",
              "[a, b, c],\n",
              "[d, e, f],\n",
              "[g, h, i]])"
            ],
            "text/latex": "$\\displaystyle \\left[\\begin{matrix}a & b & c\\\\d & e & f\\\\g & h & i\\end{matrix}\\right]$"
          },
          "metadata": {},
          "execution_count": 72
        }
      ]
    },
    {
      "cell_type": "code",
      "source": [
        "sym.trace(A), A.trace()"
      ],
      "metadata": {
        "colab": {
          "base_uri": "https://localhost:8080/"
        },
        "id": "lHk8HrLiofE3",
        "outputId": "d216d867-1c0a-4036-bdf9-b39ee3fc0dca"
      },
      "execution_count": 73,
      "outputs": [
        {
          "output_type": "execute_result",
          "data": {
            "text/plain": [
              "(a + e + i, a + e + i)"
            ]
          },
          "metadata": {},
          "execution_count": 73
        }
      ]
    },
    {
      "cell_type": "code",
      "source": [
        "# numpy\n",
        "\n",
        "B = np.array([[1, 2, 3],\n",
        "              [4, 5, 6],\n",
        "              [7, 8, 9]])\n",
        "\n",
        "B.trace(), np.trace(B)"
      ],
      "metadata": {
        "colab": {
          "base_uri": "https://localhost:8080/"
        },
        "id": "C6GRShXHpeFo",
        "outputId": "fc64ab72-b0fb-4e01-dc8e-734dbb0fd1d5"
      },
      "execution_count": 74,
      "outputs": [
        {
          "output_type": "execute_result",
          "data": {
            "text/plain": [
              "(15, 15)"
            ]
          },
          "metadata": {},
          "execution_count": 74
        }
      ]
    },
    {
      "cell_type": "markdown",
      "source": [
        "### Sum of The Squares of the Elements of a Matrix\n",
        "\n",
        "Show that (then try to prove it) $Tr(A^{T}A)$ is the sum of the square of all the elements of $A$"
      ],
      "metadata": {
        "id": "MatE3RurpAOk"
      }
    },
    {
      "cell_type": "code",
      "source": [
        "(A.T * A).trace()"
      ],
      "metadata": {
        "colab": {
          "base_uri": "https://localhost:8080/",
          "height": 39
        },
        "id": "PkvzrV5lpWWh",
        "outputId": "693cea99-ceab-4629-8973-979b77deb800"
      },
      "execution_count": 75,
      "outputs": [
        {
          "output_type": "execute_result",
          "data": {
            "text/plain": [
              "a**2 + b**2 + c**2 + d**2 + e**2 + f**2 + g**2 + h**2 + i**2"
            ],
            "text/latex": "$\\displaystyle a^{2} + b^{2} + c^{2} + d^{2} + e^{2} + f^{2} + g^{2} + h^{2} + i^{2}$"
          },
          "metadata": {},
          "execution_count": 75
        }
      ]
    },
    {
      "cell_type": "code",
      "source": [
        "# careful, using numpy here, not sympy\n",
        "B.T.dot(B).trace(), (B.T @ B).trace()"
      ],
      "metadata": {
        "colab": {
          "base_uri": "https://localhost:8080/"
        },
        "id": "_ArvQQ_3szSz",
        "outputId": "c9533e04-4115-4c7d-9a16-ef16582e556a"
      },
      "execution_count": 76,
      "outputs": [
        {
          "output_type": "execute_result",
          "data": {
            "text/plain": [
              "(285, 285)"
            ]
          },
          "metadata": {},
          "execution_count": 76
        }
      ]
    },
    {
      "cell_type": "code",
      "source": [
        "# checking the answer\n",
        "sum([x**2 for x in B.flatten()])"
      ],
      "metadata": {
        "colab": {
          "base_uri": "https://localhost:8080/"
        },
        "id": "fM9CbCeKs8AC",
        "outputId": "68942c2b-3f3d-4c79-db30-dea84102b81f"
      },
      "execution_count": 77,
      "outputs": [
        {
          "output_type": "execute_result",
          "data": {
            "text/plain": [
              "285"
            ]
          },
          "metadata": {},
          "execution_count": 77
        }
      ]
    },
    {
      "cell_type": "markdown",
      "source": [
        "### Inverse Matrix\n",
        "\n",
        "- Inverses only exist for square matrices and not every square matrix has an inverse"
      ],
      "metadata": {
        "id": "OkyDWoPEynOz"
      }
    },
    {
      "cell_type": "markdown",
      "source": [
        "$$\n",
        "\\displaylines\n",
        "{\n",
        "AA^{-1} = I = A^{-1}A\n",
        "\\\\\n",
        "(AB)^{-1} = B^{-1}A^{-1}\n",
        "\\\\\n",
        "(A^{T})^{-1} = (A^{-1})^{T}\n",
        "}\n",
        "$$"
      ],
      "metadata": {
        "id": "oQASVOmQ2Wl3"
      }
    },
    {
      "cell_type": "code",
      "source": [
        "A = sym.Matrix([[1, 2, -1],\n",
        "                [-2, 0, 1],\n",
        "                [1, -1, 0]])\n",
        "\n",
        "A"
      ],
      "metadata": {
        "colab": {
          "base_uri": "https://localhost:8080/",
          "height": 78
        },
        "id": "BAzNzWBR5ND-",
        "outputId": "6e449f25-af43-43dc-a735-74adea5d6f5b"
      },
      "execution_count": 78,
      "outputs": [
        {
          "output_type": "execute_result",
          "data": {
            "text/plain": [
              "Matrix([\n",
              "[ 1,  2, -1],\n",
              "[-2,  0,  1],\n",
              "[ 1, -1,  0]])"
            ],
            "text/latex": "$\\displaystyle \\left[\\begin{matrix}1 & 2 & -1\\\\-2 & 0 & 1\\\\1 & -1 & 0\\end{matrix}\\right]$"
          },
          "metadata": {},
          "execution_count": 78
        }
      ]
    },
    {
      "cell_type": "code",
      "source": [
        "A = sym.Matrix([[1, 2, -1],\n",
        "                [-2, 0, 1],\n",
        "                [1, -1, 0]])\n",
        "display(A)\n",
        "\n",
        "print('\\nLet B be the inverse of A\\n')\n",
        "print('Let B be an augmented version of A\\n')\n",
        "B = sym.Matrix.hstack(A, sym.eye(3))\n",
        "display(B)\n",
        "\n",
        "print('\\nR3 = R1 - R3\\n')\n",
        "B[2, :] = B.row(0) - B.row(2)\n",
        "display(B)\n",
        "\n",
        "print('\\nR2 = 2R1 + R2\\n')\n",
        "B[1, :] = 2 * B.row(0) + B.row(1)\n",
        "display(B)\n",
        "\n",
        "print('\\nR3 = 4R3 - 3R2\\n')\n",
        "B[2, :] = 4 * B.row(2) - 3 * B.row(1)\n",
        "display(B)\n",
        "\n",
        "print('\\nR1 = 2R1 - R2\\n')\n",
        "B[0, :] = 2 * B.row(0) - B.row(1)\n",
        "display(B)\n",
        "\n",
        "print('\\nR3 = -R3\\n')\n",
        "B[2, :] = -B.row(2)\n",
        "display(B)\n",
        "\n",
        "print('\\nR1 = R1 + R3')\n",
        "print('R2 = R2 + R3\\n')\n",
        "B[0, :] = B.row(0) + B.row(2)\n",
        "B[1, :] = B.row(1) + B.row(2)\n",
        "display(B)\n",
        "\n",
        "print('\\nR1 = R1/2')\n",
        "print('R2 = R2/4\\n')\n",
        "B[0, :] = B.row(0) / 2\n",
        "B[1, :] = B.row(1) / 4\n",
        "display(B)\n",
        "\n",
        "print('\\nRemove the first 3 columns\\n')\n",
        "B.col_del(0)\n",
        "B.col_del(0)\n",
        "B.col_del(0)\n",
        "display(B)"
      ],
      "metadata": {
        "colab": {
          "base_uri": "https://localhost:8080/",
          "height": 1000
        },
        "id": "q4ttb_So5fq2",
        "outputId": "4e23a379-f0dd-4de2-c5f9-9b1249f4bd4f"
      },
      "execution_count": 79,
      "outputs": [
        {
          "output_type": "display_data",
          "data": {
            "text/plain": [
              "Matrix([\n",
              "[ 1,  2, -1],\n",
              "[-2,  0,  1],\n",
              "[ 1, -1,  0]])"
            ],
            "text/latex": "$\\displaystyle \\left[\\begin{matrix}1 & 2 & -1\\\\-2 & 0 & 1\\\\1 & -1 & 0\\end{matrix}\\right]$"
          },
          "metadata": {}
        },
        {
          "output_type": "stream",
          "name": "stdout",
          "text": [
            "\n",
            "Let B be the inverse of A\n",
            "\n",
            "Let B be an augmented version of A\n",
            "\n"
          ]
        },
        {
          "output_type": "display_data",
          "data": {
            "text/plain": [
              "Matrix([\n",
              "[ 1,  2, -1, 1, 0, 0],\n",
              "[-2,  0,  1, 0, 1, 0],\n",
              "[ 1, -1,  0, 0, 0, 1]])"
            ],
            "text/latex": "$\\displaystyle \\left[\\begin{matrix}1 & 2 & -1 & 1 & 0 & 0\\\\-2 & 0 & 1 & 0 & 1 & 0\\\\1 & -1 & 0 & 0 & 0 & 1\\end{matrix}\\right]$"
          },
          "metadata": {}
        },
        {
          "output_type": "stream",
          "name": "stdout",
          "text": [
            "\n",
            "R3 = R1 - R3\n",
            "\n"
          ]
        },
        {
          "output_type": "display_data",
          "data": {
            "text/plain": [
              "Matrix([\n",
              "[ 1, 2, -1, 1, 0,  0],\n",
              "[-2, 0,  1, 0, 1,  0],\n",
              "[ 0, 3, -1, 1, 0, -1]])"
            ],
            "text/latex": "$\\displaystyle \\left[\\begin{matrix}1 & 2 & -1 & 1 & 0 & 0\\\\-2 & 0 & 1 & 0 & 1 & 0\\\\0 & 3 & -1 & 1 & 0 & -1\\end{matrix}\\right]$"
          },
          "metadata": {}
        },
        {
          "output_type": "stream",
          "name": "stdout",
          "text": [
            "\n",
            "R2 = 2R1 + R2\n",
            "\n"
          ]
        },
        {
          "output_type": "display_data",
          "data": {
            "text/plain": [
              "Matrix([\n",
              "[1, 2, -1, 1, 0,  0],\n",
              "[0, 4, -1, 2, 1,  0],\n",
              "[0, 3, -1, 1, 0, -1]])"
            ],
            "text/latex": "$\\displaystyle \\left[\\begin{matrix}1 & 2 & -1 & 1 & 0 & 0\\\\0 & 4 & -1 & 2 & 1 & 0\\\\0 & 3 & -1 & 1 & 0 & -1\\end{matrix}\\right]$"
          },
          "metadata": {}
        },
        {
          "output_type": "stream",
          "name": "stdout",
          "text": [
            "\n",
            "R3 = 4R3 - 3R2\n",
            "\n"
          ]
        },
        {
          "output_type": "display_data",
          "data": {
            "text/plain": [
              "Matrix([\n",
              "[1, 2, -1,  1,  0,  0],\n",
              "[0, 4, -1,  2,  1,  0],\n",
              "[0, 0, -1, -2, -3, -4]])"
            ],
            "text/latex": "$\\displaystyle \\left[\\begin{matrix}1 & 2 & -1 & 1 & 0 & 0\\\\0 & 4 & -1 & 2 & 1 & 0\\\\0 & 0 & -1 & -2 & -3 & -4\\end{matrix}\\right]$"
          },
          "metadata": {}
        },
        {
          "output_type": "stream",
          "name": "stdout",
          "text": [
            "\n",
            "R1 = 2R1 - R2\n",
            "\n"
          ]
        },
        {
          "output_type": "display_data",
          "data": {
            "text/plain": [
              "Matrix([\n",
              "[2, 0, -1,  0, -1,  0],\n",
              "[0, 4, -1,  2,  1,  0],\n",
              "[0, 0, -1, -2, -3, -4]])"
            ],
            "text/latex": "$\\displaystyle \\left[\\begin{matrix}2 & 0 & -1 & 0 & -1 & 0\\\\0 & 4 & -1 & 2 & 1 & 0\\\\0 & 0 & -1 & -2 & -3 & -4\\end{matrix}\\right]$"
          },
          "metadata": {}
        },
        {
          "output_type": "stream",
          "name": "stdout",
          "text": [
            "\n",
            "R3 = -R3\n",
            "\n"
          ]
        },
        {
          "output_type": "display_data",
          "data": {
            "text/plain": [
              "Matrix([\n",
              "[2, 0, -1, 0, -1, 0],\n",
              "[0, 4, -1, 2,  1, 0],\n",
              "[0, 0,  1, 2,  3, 4]])"
            ],
            "text/latex": "$\\displaystyle \\left[\\begin{matrix}2 & 0 & -1 & 0 & -1 & 0\\\\0 & 4 & -1 & 2 & 1 & 0\\\\0 & 0 & 1 & 2 & 3 & 4\\end{matrix}\\right]$"
          },
          "metadata": {}
        },
        {
          "output_type": "stream",
          "name": "stdout",
          "text": [
            "\n",
            "R1 = R1 + R3\n",
            "R2 = R2 + R3\n",
            "\n"
          ]
        },
        {
          "output_type": "display_data",
          "data": {
            "text/plain": [
              "Matrix([\n",
              "[2, 0, 0, 2, 2, 4],\n",
              "[0, 4, 0, 4, 4, 4],\n",
              "[0, 0, 1, 2, 3, 4]])"
            ],
            "text/latex": "$\\displaystyle \\left[\\begin{matrix}2 & 0 & 0 & 2 & 2 & 4\\\\0 & 4 & 0 & 4 & 4 & 4\\\\0 & 0 & 1 & 2 & 3 & 4\\end{matrix}\\right]$"
          },
          "metadata": {}
        },
        {
          "output_type": "stream",
          "name": "stdout",
          "text": [
            "\n",
            "R1 = R1/2\n",
            "R2 = R2/4\n",
            "\n"
          ]
        },
        {
          "output_type": "display_data",
          "data": {
            "text/plain": [
              "Matrix([\n",
              "[1, 0, 0, 1, 1, 2],\n",
              "[0, 1, 0, 1, 1, 1],\n",
              "[0, 0, 1, 2, 3, 4]])"
            ],
            "text/latex": "$\\displaystyle \\left[\\begin{matrix}1 & 0 & 0 & 1 & 1 & 2\\\\0 & 1 & 0 & 1 & 1 & 1\\\\0 & 0 & 1 & 2 & 3 & 4\\end{matrix}\\right]$"
          },
          "metadata": {}
        },
        {
          "output_type": "stream",
          "name": "stdout",
          "text": [
            "\n",
            "Remove the first 3 columns\n",
            "\n"
          ]
        },
        {
          "output_type": "display_data",
          "data": {
            "text/plain": [
              "Matrix([\n",
              "[1, 1, 2],\n",
              "[1, 1, 1],\n",
              "[2, 3, 4]])"
            ],
            "text/latex": "$\\displaystyle \\left[\\begin{matrix}1 & 1 & 2\\\\1 & 1 & 1\\\\2 & 3 & 4\\end{matrix}\\right]$"
          },
          "metadata": {}
        }
      ]
    },
    {
      "cell_type": "code",
      "source": [
        "A"
      ],
      "metadata": {
        "colab": {
          "base_uri": "https://localhost:8080/",
          "height": 78
        },
        "id": "3KIYhBFnHiPP",
        "outputId": "fe3fc19c-b541-4569-f248-463c664c5018"
      },
      "execution_count": 80,
      "outputs": [
        {
          "output_type": "execute_result",
          "data": {
            "text/plain": [
              "Matrix([\n",
              "[ 1,  2, -1],\n",
              "[-2,  0,  1],\n",
              "[ 1, -1,  0]])"
            ],
            "text/latex": "$\\displaystyle \\left[\\begin{matrix}1 & 2 & -1\\\\-2 & 0 & 1\\\\1 & -1 & 0\\end{matrix}\\right]$"
          },
          "metadata": {},
          "execution_count": 80
        }
      ]
    },
    {
      "cell_type": "code",
      "source": [
        "# verify\n",
        "A.inv()"
      ],
      "metadata": {
        "colab": {
          "base_uri": "https://localhost:8080/",
          "height": 78
        },
        "id": "VUuL3dQ5HlBa",
        "outputId": "b9233e29-4b45-4f68-befc-b37cbd61f2c3"
      },
      "execution_count": 81,
      "outputs": [
        {
          "output_type": "execute_result",
          "data": {
            "text/plain": [
              "Matrix([\n",
              "[1, 1, 2],\n",
              "[1, 1, 1],\n",
              "[2, 3, 4]])"
            ],
            "text/latex": "$\\displaystyle \\left[\\begin{matrix}1 & 1 & 2\\\\1 & 1 & 1\\\\2 & 3 & 4\\end{matrix}\\right]$"
          },
          "metadata": {},
          "execution_count": 81
        }
      ]
    },
    {
      "cell_type": "code",
      "source": [
        "# numpy\n",
        "A_np = np.array(A, dtype='int64')\n",
        "A_np"
      ],
      "metadata": {
        "colab": {
          "base_uri": "https://localhost:8080/"
        },
        "id": "21jUAMpaHxa1",
        "outputId": "f9a866e9-db8d-4eef-e18b-21de186a6d24"
      },
      "execution_count": 82,
      "outputs": [
        {
          "output_type": "execute_result",
          "data": {
            "text/plain": [
              "array([[ 1,  2, -1],\n",
              "       [-2,  0,  1],\n",
              "       [ 1, -1,  0]])"
            ]
          },
          "metadata": {},
          "execution_count": 82
        }
      ]
    },
    {
      "cell_type": "code",
      "source": [
        "np.linalg.inv(A_np)"
      ],
      "metadata": {
        "colab": {
          "base_uri": "https://localhost:8080/"
        },
        "id": "FMp-1-4kH-rL",
        "outputId": "0662bf4c-f5d5-49f5-bbdd-53dadc1e34ca"
      },
      "execution_count": 83,
      "outputs": [
        {
          "output_type": "execute_result",
          "data": {
            "text/plain": [
              "array([[1., 1., 2.],\n",
              "       [1., 1., 1.],\n",
              "       [2., 3., 4.]])"
            ]
          },
          "metadata": {},
          "execution_count": 83
        }
      ]
    },
    {
      "cell_type": "markdown",
      "source": [
        "### The inverse of a $2 \\times 2$ Matrix"
      ],
      "metadata": {
        "id": "b88YJdl1M0aJ"
      }
    },
    {
      "cell_type": "markdown",
      "source": [
        "$$\n",
        "\\begin{align}\n",
        "    AA^{-1} &= I \\\\\n",
        "    \\left[\n",
        "        \\begin{matrix}\n",
        "            a & b \\\\\n",
        "            c & d\n",
        "        \\end{matrix}\n",
        "    \\right]\n",
        "    \\left[\n",
        "        \\begin{matrix}\n",
        "            x_{1} & x_{2} \\\\\n",
        "            y_{1} & y_{2}\n",
        "        \\end{matrix}\n",
        "    \\right]\n",
        "    &= \n",
        "    \\left[\n",
        "        \\begin{matrix}\n",
        "            1 & 0 \\\\\n",
        "            0 & 1\n",
        "        \\end{matrix}\n",
        "    \\right]\n",
        "\\end{align}\n",
        "$$"
      ],
      "metadata": {
        "id": "INNfDUtBNyNu"
      }
    },
    {
      "cell_type": "code",
      "source": [
        "a, b, c, d = sym.symbols('a b c d')\n",
        "\n",
        "A = sym.Matrix([[a, b],\n",
        "                [c, d]])\n",
        "\n",
        "display(A)\n",
        "\n",
        "x1, x2, y1, y2 = sym.symbols('x_1 x_2 y_1 y_2')\n",
        "\n",
        "A_inv = sym.Matrix([[x1, x2],\n",
        "                    [y1, y2]])\n",
        "\n",
        "display(A_inv)\n",
        "\n",
        "B = A * A_inv\n",
        "B[0] = B[0] - 1\n",
        "B[3] = B[3] - 1\n",
        "display(B)\n",
        "\n",
        "system = B.reshape(1, 4).tolist()[0]\n",
        "\n",
        "for i, arg in enumerate(sym.linsolve(system, x1, x2, y1, y2).args[0]):\n",
        "    A_inv[i] = arg\n",
        "\n",
        "print('\\nThe inverse of A is:\\n')\n",
        "display(A_inv)    "
      ],
      "metadata": {
        "colab": {
          "base_uri": "https://localhost:8080/",
          "height": 235
        },
        "id": "q4jVIqJWPU2U",
        "outputId": "0cc0f736-a4de-401e-f433-f2a7c9e22f42"
      },
      "execution_count": 84,
      "outputs": [
        {
          "output_type": "display_data",
          "data": {
            "text/plain": [
              "Matrix([\n",
              "[a, b],\n",
              "[c, d]])"
            ],
            "text/latex": "$\\displaystyle \\left[\\begin{matrix}a & b\\\\c & d\\end{matrix}\\right]$"
          },
          "metadata": {}
        },
        {
          "output_type": "display_data",
          "data": {
            "text/plain": [
              "Matrix([\n",
              "[x_1, x_2],\n",
              "[y_1, y_2]])"
            ],
            "text/latex": "$\\displaystyle \\left[\\begin{matrix}x_{1} & x_{2}\\\\y_{1} & y_{2}\\end{matrix}\\right]$"
          },
          "metadata": {}
        },
        {
          "output_type": "display_data",
          "data": {
            "text/plain": [
              "Matrix([\n",
              "[a*x_1 + b*y_1 - 1,     a*x_2 + b*y_2],\n",
              "[    c*x_1 + d*y_1, c*x_2 + d*y_2 - 1]])"
            ],
            "text/latex": "$\\displaystyle \\left[\\begin{matrix}a x_{1} + b y_{1} - 1 & a x_{2} + b y_{2}\\\\c x_{1} + d y_{1} & c x_{2} + d y_{2} - 1\\end{matrix}\\right]$"
          },
          "metadata": {}
        },
        {
          "output_type": "stream",
          "name": "stdout",
          "text": [
            "\n",
            "The inverse of A is:\n",
            "\n"
          ]
        },
        {
          "output_type": "display_data",
          "data": {
            "text/plain": [
              "Matrix([\n",
              "[ d/(a*d - b*c), -b/(a*d - b*c)],\n",
              "[-c/(a*d - b*c),  a/(a*d - b*c)]])"
            ],
            "text/latex": "$\\displaystyle \\left[\\begin{matrix}\\frac{d}{a d - b c} & - \\frac{b}{a d - b c}\\\\- \\frac{c}{a d - b c} & \\frac{a}{a d - b c}\\end{matrix}\\right]$"
          },
          "metadata": {}
        }
      ]
    },
    {
      "cell_type": "code",
      "source": [
        "# verify\n",
        "display(A)\n",
        "display(A.inv())"
      ],
      "metadata": {
        "colab": {
          "base_uri": "https://localhost:8080/",
          "height": 100
        },
        "id": "6xTx9YsyWwEJ",
        "outputId": "76bb5545-5dea-4af3-a988-e2d0cd677aa9"
      },
      "execution_count": 85,
      "outputs": [
        {
          "output_type": "display_data",
          "data": {
            "text/plain": [
              "Matrix([\n",
              "[a, b],\n",
              "[c, d]])"
            ],
            "text/latex": "$\\displaystyle \\left[\\begin{matrix}a & b\\\\c & d\\end{matrix}\\right]$"
          },
          "metadata": {}
        },
        {
          "output_type": "display_data",
          "data": {
            "text/plain": [
              "Matrix([\n",
              "[ d/(a*d - b*c), -b/(a*d - b*c)],\n",
              "[-c/(a*d - b*c),  a/(a*d - b*c)]])"
            ],
            "text/latex": "$\\displaystyle \\left[\\begin{matrix}\\frac{d}{a d - b c} & - \\frac{b}{a d - b c}\\\\- \\frac{c}{a d - b c} & \\frac{a}{a d - b c}\\end{matrix}\\right]$"
          },
          "metadata": {}
        }
      ]
    },
    {
      "cell_type": "markdown",
      "source": [
        "### Determinant\n",
        "\n",
        "If the determinant of a square matrix $A$ is equal to 0, then $A^{-1}$ does not exist. "
      ],
      "metadata": {
        "id": "9V2kaVT9ZQ_d"
      }
    },
    {
      "cell_type": "code",
      "source": [
        "A"
      ],
      "metadata": {
        "colab": {
          "base_uri": "https://localhost:8080/",
          "height": 58
        },
        "id": "3aUDv0ZHZUk0",
        "outputId": "5b1fcb07-d617-494e-f6d5-d0e80bfaf602"
      },
      "execution_count": 86,
      "outputs": [
        {
          "output_type": "execute_result",
          "data": {
            "text/plain": [
              "Matrix([\n",
              "[a, b],\n",
              "[c, d]])"
            ],
            "text/latex": "$\\displaystyle \\left[\\begin{matrix}a & b\\\\c & d\\end{matrix}\\right]$"
          },
          "metadata": {},
          "execution_count": 86
        }
      ]
    },
    {
      "cell_type": "code",
      "source": [
        "A.det()"
      ],
      "metadata": {
        "colab": {
          "base_uri": "https://localhost:8080/",
          "height": 39
        },
        "id": "BCx2ymiLZWn6",
        "outputId": "424af9ff-bb68-47ea-b9c8-44e6f25bef97"
      },
      "execution_count": 87,
      "outputs": [
        {
          "output_type": "execute_result",
          "data": {
            "text/plain": [
              "a*d - b*c"
            ],
            "text/latex": "$\\displaystyle a d - b c$"
          },
          "metadata": {},
          "execution_count": 87
        }
      ]
    },
    {
      "cell_type": "markdown",
      "source": [
        "### Uniqueness of the Inverse\n",
        "\n",
        "Prove that if a matrix is invertible, then its inverse is unique.\n",
        "\n",
        "#### Proof\n",
        "\n",
        "Let $A$ be an invertible matrix, and suppose $B$ and $C$ are its inverse. \n",
        "\n",
        "$B = BI = B(AC) = (BA)C = C$\n",
        "\n",
        "$\\therefore B = C$ and the inverse is unique."
      ],
      "metadata": {
        "id": "li2twzTsbQVt"
      }
    },
    {
      "cell_type": "markdown",
      "source": [
        "## 1.3 Orthogonal Matrices"
      ],
      "metadata": {
        "id": "c8YhoRwdf8tZ"
      }
    },
    {
      "cell_type": "markdown",
      "source": [
        "An orthogonal matrix, or orthonormal matrix, is a real square matrix whose columns and rows are orthonormal vectors.\n",
        "\n",
        "\n"
      ],
      "metadata": {
        "id": "5spYRsS4zWhT"
      }
    },
    {
      "cell_type": "markdown",
      "source": [
        "$$\n",
        "Q^{-1} = Q^{T}\n",
        "\\\\\n",
        "QQ^{T} = I = Q^{T}Q\n",
        "$$"
      ],
      "metadata": {
        "id": "7OwY_KFbzoLS"
      }
    },
    {
      "cell_type": "markdown",
      "source": [
        "$$\n",
        "\\begin{align}\n",
        "(Qx)^{T}(Qx) &= ||Qx||^{2} \\\\\n",
        "&= x^{T}Q^{T}Qx \\\\\n",
        "&= x^{T}Ix \\\\\n",
        "&= x^{T}x \\\\\n",
        "&= ||x||^{2}\n",
        "\\end{align}\n",
        "$$"
      ],
      "metadata": {
        "id": "dAkednYY0_Oe"
      }
    },
    {
      "cell_type": "markdown",
      "source": [
        "$$\n",
        "||Qx||^{2} = ||x||^{2}\n",
        "\\\\\n",
        "\\therefore \\text{an orthogonal matrix preserves lengths} \n",
        "$$"
      ],
      "metadata": {
        "id": "BzfehwXG2Ddg"
      }
    },
    {
      "cell_type": "markdown",
      "source": [
        "### Product of Orthogonal Matrices\n",
        "\n",
        "Show that the product of two orthogonal matrices is orthogonal. \n",
        "\n",
        "Proof: \n",
        "\n",
        "Let $Q_1$ and $Q_2$ be orthogonal matrices. Then, \n",
        "\n",
        "$$\n",
        "(Q_1Q_2)^{-1} = Q_2^{-1}Q_1^{-1} = Q_2^{T}Q_1^{T} = (Q_1Q_2)^{T}\n",
        "\\\\\n",
        "\\text{QED}\n",
        "$$\n"
      ],
      "metadata": {
        "id": "Gq4zkunl5uTZ"
      }
    },
    {
      "cell_type": "markdown",
      "source": [
        "### The Identity Matrix is Orthogonal\n",
        "\n",
        "Show that the $n \\times n$ identity matrix is orthogonal.\n",
        "\n",
        "Proof:\n",
        "\n",
        "$$\n",
        "\\text{since } II = I\n",
        "\\\\ I^{-1} = I\n",
        "\\\\ \n",
        "\\text{and since } I^{T} = I\n",
        "\\\\ I^{T} = I\n",
        "\\\\\n",
        "\\therefore I^{-1} = I^{T} \\text{ and } I \\text{ is an orthogonal matrix.}\n",
        "$$"
      ],
      "metadata": {
        "id": "4UPzVg2-7tIA"
      }
    },
    {
      "cell_type": "markdown",
      "source": [
        "### Rotation Matrices"
      ],
      "metadata": {
        "id": "7vOizxhd9H29"
      }
    },
    {
      "cell_type": "markdown",
      "source": [
        "<img src='https://drive.google.com/uc?export=view&id=1EFAf21cHfzbH-eCRU5d8A4HlK6jz5wsA'> "
      ],
      "metadata": {
        "id": "rfNTu9EyBAlE"
      }
    },
    {
      "cell_type": "markdown",
      "source": [
        "- The rotation of a vector through an angle can be done with an orthogonal matrix\n",
        "- $R_{\\theta}$ is a $2 \\times 2$ orthogonal matrix"
      ],
      "metadata": {
        "id": "YUZgwg4GB-8k"
      }
    },
    {
      "cell_type": "markdown",
      "source": [
        "$$\n",
        "R_{\\theta}\n",
        "\\left[\n",
        "    \\begin{matrix}\n",
        "        x \\\\\n",
        "        y\n",
        "    \\end{matrix}\n",
        "\\right]\n",
        "= \n",
        "\\left[\n",
        "    \\begin{matrix}\n",
        "        x^{\\prime} \\\\\n",
        "        y^{\\prime}\n",
        "    \\end{matrix}\n",
        "\\right]\n",
        "$$"
      ],
      "metadata": {
        "id": "6gFMl5SICUef"
      }
    },
    {
      "cell_type": "markdown",
      "source": [
        "$$\n",
        "\\begin{align}\n",
        "x &= r\\cos\\psi \\\\\n",
        "y &= r\\sin\\psi\n",
        "\\end{align}\n",
        "$$"
      ],
      "metadata": {
        "id": "d5u_tD0YUjrS"
      }
    },
    {
      "cell_type": "markdown",
      "source": [
        "$$\n",
        "\\begin{align}\n",
        "x^{\\prime} &= r\\cos\\left(\\psi + \\theta\\right) \\\\\n",
        "&= r\\left(\\cos\\psi\\cos\\theta - \\sin\\psi\\sin\\theta\\right) \\\\\n",
        "&= x\\cos\\theta - y\\sin\\theta \\\\\n",
        "y^{\\prime} &= r\\sin\\left(\\psi + \\theta\\right) \\\\\n",
        "&= r\\left(\\sin\\psi\\cos\\theta + \\cos\\psi\\sin\\theta\\right) \\\\\n",
        "&= y\\cos\\theta + x\\sin\\theta\n",
        "\\end{align}\n",
        "$$"
      ],
      "metadata": {
        "id": "gyXULuxoQq_q"
      }
    },
    {
      "cell_type": "code",
      "source": [
        "r, theta, psi = sym.symbols('r theta psi')\n",
        "x, y = sym.symbols('x y')\n",
        "v1 = sym.Matrix([[r * sym.cos(psi)],\n",
        "                 [r * sym.sin(psi)]])\n",
        "\n",
        "v2 = sym.Matrix([[x], [y]])\n",
        "\n",
        "R = sym.Matrix([[sym.cos(theta), -sym.sin(theta)],\n",
        "                [sym.sin(theta), sym.cos(theta)]])\n",
        "\n",
        "display(v1)\n",
        "print()\n",
        "display(v2)\n",
        "print()\n",
        "display(R)"
      ],
      "metadata": {
        "colab": {
          "base_uri": "https://localhost:8080/",
          "height": 175
        },
        "id": "5q0vEuMUWlbm",
        "outputId": "c5a12e6d-d429-45ee-9f87-7866e3a99b57"
      },
      "execution_count": 88,
      "outputs": [
        {
          "output_type": "display_data",
          "data": {
            "text/plain": [
              "Matrix([\n",
              "[r*cos(psi)],\n",
              "[r*sin(psi)]])"
            ],
            "text/latex": "$\\displaystyle \\left[\\begin{matrix}r \\cos{\\left(\\psi \\right)}\\\\r \\sin{\\left(\\psi \\right)}\\end{matrix}\\right]$"
          },
          "metadata": {}
        },
        {
          "output_type": "stream",
          "name": "stdout",
          "text": [
            "\n"
          ]
        },
        {
          "output_type": "display_data",
          "data": {
            "text/plain": [
              "Matrix([\n",
              "[x],\n",
              "[y]])"
            ],
            "text/latex": "$\\displaystyle \\left[\\begin{matrix}x\\\\y\\end{matrix}\\right]$"
          },
          "metadata": {}
        },
        {
          "output_type": "stream",
          "name": "stdout",
          "text": [
            "\n"
          ]
        },
        {
          "output_type": "display_data",
          "data": {
            "text/plain": [
              "Matrix([\n",
              "[cos(theta), -sin(theta)],\n",
              "[sin(theta),  cos(theta)]])"
            ],
            "text/latex": "$\\displaystyle \\left[\\begin{matrix}\\cos{\\left(\\theta \\right)} & - \\sin{\\left(\\theta \\right)}\\\\\\sin{\\left(\\theta \\right)} & \\cos{\\left(\\theta \\right)}\\end{matrix}\\right]$"
          },
          "metadata": {}
        }
      ]
    },
    {
      "cell_type": "code",
      "source": [
        "R * v1"
      ],
      "metadata": {
        "colab": {
          "base_uri": "https://localhost:8080/",
          "height": 58
        },
        "id": "fuTPxamkYaXI",
        "outputId": "54dc9980-23fa-43b0-e58c-8031cb16e6d9"
      },
      "execution_count": 89,
      "outputs": [
        {
          "output_type": "execute_result",
          "data": {
            "text/plain": [
              "Matrix([\n",
              "[-r*sin(psi)*sin(theta) + r*cos(psi)*cos(theta)],\n",
              "[ r*sin(psi)*cos(theta) + r*sin(theta)*cos(psi)]])"
            ],
            "text/latex": "$\\displaystyle \\left[\\begin{matrix}- r \\sin{\\left(\\psi \\right)} \\sin{\\left(\\theta \\right)} + r \\cos{\\left(\\psi \\right)} \\cos{\\left(\\theta \\right)}\\\\r \\sin{\\left(\\psi \\right)} \\cos{\\left(\\theta \\right)} + r \\sin{\\left(\\theta \\right)} \\cos{\\left(\\psi \\right)}\\end{matrix}\\right]$"
          },
          "metadata": {},
          "execution_count": 89
        }
      ]
    },
    {
      "cell_type": "code",
      "source": [
        "R * v2"
      ],
      "metadata": {
        "colab": {
          "base_uri": "https://localhost:8080/",
          "height": 58
        },
        "id": "tppL8bX3qbv5",
        "outputId": "96905900-307c-497b-e467-e73b6697a9f1"
      },
      "execution_count": 90,
      "outputs": [
        {
          "output_type": "execute_result",
          "data": {
            "text/plain": [
              "Matrix([\n",
              "[x*cos(theta) - y*sin(theta)],\n",
              "[x*sin(theta) + y*cos(theta)]])"
            ],
            "text/latex": "$\\displaystyle \\left[\\begin{matrix}x \\cos{\\left(\\theta \\right)} - y \\sin{\\left(\\theta \\right)}\\\\x \\sin{\\left(\\theta \\right)} + y \\cos{\\left(\\theta \\right)}\\end{matrix}\\right]$"
          },
          "metadata": {},
          "execution_count": 90
        }
      ]
    },
    {
      "cell_type": "code",
      "source": [
        "np.array(R.subs(theta, sym.pi / 2)).astype(np.float64)"
      ],
      "metadata": {
        "colab": {
          "base_uri": "https://localhost:8080/"
        },
        "id": "zhNK5me0cwPU",
        "outputId": "0b856f7b-b0f0-4be0-de72-da07d741bc45"
      },
      "execution_count": 91,
      "outputs": [
        {
          "output_type": "execute_result",
          "data": {
            "text/plain": [
              "array([[ 0., -1.],\n",
              "       [ 1.,  0.]])"
            ]
          },
          "metadata": {},
          "execution_count": 91
        }
      ]
    },
    {
      "cell_type": "code",
      "source": [
        "plt.figure(figsize = (12, 12))\n",
        "\n",
        "o = np.array([0, 0])\n",
        "v1 = np.array([9.7, 0])\n",
        "colors = plt.cm.jet(np.linspace(0, 1, 16))\n",
        "\n",
        "for i in range(16):\n",
        "    R_rotate = np.array(R.subs(theta, i * sym.pi / 8)).astype(np.float64)\n",
        "    v = R_rotate.dot(v1)\n",
        "    plt.quiver(*np.concatenate((o, v)), scale=20, color=colors[i])\n",
        "\n",
        "plt.xticks(np.arange(-10, 11))\n",
        "plt.yticks(np.arange(-10, 11))\n",
        "plt.grid()\n",
        "plt.show()"
      ],
      "metadata": {
        "colab": {
          "base_uri": "https://localhost:8080/",
          "height": 704
        },
        "id": "LajLZNL9ZzoV",
        "outputId": "3128f007-0396-4252-a364-9b9552e7bf6e"
      },
      "execution_count": 92,
      "outputs": [
        {
          "output_type": "display_data",
          "data": {
            "text/plain": [
              "<Figure size 864x864 with 1 Axes>"
            ],
            "image/png": "[encoded data removed]"
          },
          "metadata": {
            "needs_background": "light"
          }
        }
      ]
    },
    {
      "cell_type": "markdown",
      "source": [
        "#### $R_\\theta$ is orthogonal"
      ],
      "metadata": {
        "id": "MnjlfWwcrua4"
      }
    },
    {
      "cell_type": "code",
      "source": [
        "R.inv().equals(R.T)"
      ],
      "metadata": {
        "colab": {
          "base_uri": "https://localhost:8080/"
        },
        "id": "sX-KyhOLs99X",
        "outputId": "76ea7c3d-2e1b-4eff-ca7a-07f2e63dad64"
      },
      "execution_count": 93,
      "outputs": [
        {
          "output_type": "execute_result",
          "data": {
            "text/plain": [
              "True"
            ]
          },
          "metadata": {},
          "execution_count": 93
        }
      ]
    },
    {
      "cell_type": "code",
      "source": [
        "# the rows and columns are orthonormal\n",
        "R.row(0).norm(), R.row(1).norm(), R.col(0).norm(), R.col(1).norm()"
      ],
      "metadata": {
        "colab": {
          "base_uri": "https://localhost:8080/"
        },
        "id": "07LWpgVytXNk",
        "outputId": "f99e8e47-9408-4e77-9844-57adb042d4c1"
      },
      "execution_count": 94,
      "outputs": [
        {
          "output_type": "execute_result",
          "data": {
            "text/plain": [
              "(sqrt(Abs(sin(theta))**2 + Abs(cos(theta))**2),\n",
              " sqrt(Abs(sin(theta))**2 + Abs(cos(theta))**2),\n",
              " sqrt(Abs(sin(theta))**2 + Abs(cos(theta))**2),\n",
              " sqrt(Abs(sin(theta))**2 + Abs(cos(theta))**2))"
            ]
          },
          "metadata": {},
          "execution_count": 94
        }
      ]
    },
    {
      "cell_type": "markdown",
      "source": [
        "#### Inverse of the Rotation Matrix"
      ],
      "metadata": {
        "id": "C7ezRqsIusZf"
      }
    },
    {
      "cell_type": "markdown",
      "source": [
        "$$\n",
        "\\text{Let }\n",
        "R\\left(\\theta\\right) = \n",
        "\\left[\n",
        "    \\begin{matrix}\n",
        "        \\cos\\theta & -\\sin\\theta \\\\\n",
        "        \\sin\\theta & \\cos\\theta \n",
        "    \\end{matrix}\n",
        "\\right]\n",
        "\\\\\n",
        "\\text{Show that }\n",
        "R\\left(-\\theta\\right) = R\\left(\\theta\\right)^{-1}\n",
        "$$"
      ],
      "metadata": {
        "id": "hAN_I8VdvHTr"
      }
    },
    {
      "cell_type": "code",
      "source": [
        "R"
      ],
      "metadata": {
        "colab": {
          "base_uri": "https://localhost:8080/",
          "height": 58
        },
        "id": "ZfwdTyStxP-k",
        "outputId": "7a55b62d-3a63-455a-8cbe-86e4fd7404bb"
      },
      "execution_count": 95,
      "outputs": [
        {
          "output_type": "execute_result",
          "data": {
            "text/plain": [
              "Matrix([\n",
              "[cos(theta), -sin(theta)],\n",
              "[sin(theta),  cos(theta)]])"
            ],
            "text/latex": "$\\displaystyle \\left[\\begin{matrix}\\cos{\\left(\\theta \\right)} & - \\sin{\\left(\\theta \\right)}\\\\\\sin{\\left(\\theta \\right)} & \\cos{\\left(\\theta \\right)}\\end{matrix}\\right]$"
          },
          "metadata": {},
          "execution_count": 95
        }
      ]
    },
    {
      "cell_type": "code",
      "source": [
        "R.subs(theta, -theta)"
      ],
      "metadata": {
        "colab": {
          "base_uri": "https://localhost:8080/",
          "height": 58
        },
        "id": "7Y98OsjQxSm3",
        "outputId": "af6fd1bb-26b9-4ba6-e36e-f3c1483127d0"
      },
      "execution_count": 96,
      "outputs": [
        {
          "output_type": "execute_result",
          "data": {
            "text/plain": [
              "Matrix([\n",
              "[ cos(theta), sin(theta)],\n",
              "[-sin(theta), cos(theta)]])"
            ],
            "text/latex": "$\\displaystyle \\left[\\begin{matrix}\\cos{\\left(\\theta \\right)} & \\sin{\\left(\\theta \\right)}\\\\- \\sin{\\left(\\theta \\right)} & \\cos{\\left(\\theta \\right)}\\end{matrix}\\right]$"
          },
          "metadata": {},
          "execution_count": 96
        }
      ]
    },
    {
      "cell_type": "code",
      "source": [
        "R.inv() # note the first element evaluates to cos(theta)"
      ],
      "metadata": {
        "colab": {
          "base_uri": "https://localhost:8080/",
          "height": 68
        },
        "id": "JFantK4pxg-D",
        "outputId": "6e1537b2-6309-4f6a-8df9-d76fc412d19e"
      },
      "execution_count": 97,
      "outputs": [
        {
          "output_type": "execute_result",
          "data": {
            "text/plain": [
              "Matrix([\n",
              "[-sin(theta)**2/cos(theta) + 1/cos(theta), sin(theta)],\n",
              "[                             -sin(theta), cos(theta)]])"
            ],
            "text/latex": "$\\displaystyle \\left[\\begin{matrix}- \\frac{\\sin^{2}{\\left(\\theta \\right)}}{\\cos{\\left(\\theta \\right)}} + \\frac{1}{\\cos{\\left(\\theta \\right)}} & \\sin{\\left(\\theta \\right)}\\\\- \\sin{\\left(\\theta \\right)} & \\cos{\\left(\\theta \\right)}\\end{matrix}\\right]$"
          },
          "metadata": {},
          "execution_count": 97
        }
      ]
    },
    {
      "cell_type": "code",
      "source": [
        "# since R.inv() has hard to read output and R.inv() = R.T\n",
        "#   show R.T \n",
        "R.T"
      ],
      "metadata": {
        "colab": {
          "base_uri": "https://localhost:8080/",
          "height": 58
        },
        "id": "wWTyzyfoxqW8",
        "outputId": "d056b976-c59c-4416-9c79-3a30e7294811"
      },
      "execution_count": 98,
      "outputs": [
        {
          "output_type": "execute_result",
          "data": {
            "text/plain": [
              "Matrix([\n",
              "[ cos(theta), sin(theta)],\n",
              "[-sin(theta), cos(theta)]])"
            ],
            "text/latex": "$\\displaystyle \\left[\\begin{matrix}\\cos{\\left(\\theta \\right)} & \\sin{\\left(\\theta \\right)}\\\\- \\sin{\\left(\\theta \\right)} & \\cos{\\left(\\theta \\right)}\\end{matrix}\\right]$"
          },
          "metadata": {},
          "execution_count": 98
        }
      ]
    },
    {
      "cell_type": "markdown",
      "source": [
        "#### Three-dimensional Rotation\n",
        "\n",
        "Find the $3 \\times 3$ matrix that rotates a 3D vector and angle $\\theta$ counterclockwise around the z-axis"
      ],
      "metadata": {
        "id": "EGzHmpPIx_J9"
      }
    },
    {
      "cell_type": "markdown",
      "source": [
        "The z-coordinate stays fixed, and the vector rotates an angle $\\theta$ in the x-y plane. Therefore,\n",
        "\n",
        "$$\n",
        "R_z = \n",
        "\\left[\n",
        "    \\begin{matrix}\n",
        "        \\cos\\theta & -\\sin\\theta & 0 \\\\\n",
        "        \\sin\\theta & \\cos\\theta & 0 \\\\\n",
        "        0 & 0 & 1\n",
        "    \\end{matrix}\n",
        "\\right]\n",
        "$$"
      ],
      "metadata": {
        "id": "R1in_CUiyugD"
      }
    },
    {
      "cell_type": "markdown",
      "source": [
        "### Permutation Matrices"
      ],
      "metadata": {
        "id": "PITkNv2NzS18"
      }
    }
  ]
}