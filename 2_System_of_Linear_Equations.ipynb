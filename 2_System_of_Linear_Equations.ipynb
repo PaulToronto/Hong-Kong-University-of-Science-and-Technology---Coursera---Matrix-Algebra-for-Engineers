{
  "nbformat": 4,
  "nbformat_minor": 0,
  "metadata": {
    "colab": {
      "provenance": [],
      "authorship_tag": "ABX9TyNlSUi3bvv5xQRTK9ARAw+n",
      "include_colab_link": true
    },
    "kernelspec": {
      "name": "python3",
      "display_name": "Python 3"
    },
    "language_info": {
      "name": "python"
    }
  },
  "cells": [
    {
      "cell_type": "markdown",
      "metadata": {
        "id": "view-in-github",
        "colab_type": "text"
      },
      "source": [
        "<a href=\"https://colab.research.google.com/github/PaulToronto/Hong-Kong-University-of-Science-and-Technology-Coursera-Matrix-Algebra-for-Engineers/blob/main/2_System_of_Linear_Equations.ipynb\" target=\"_parent\"><img src=\"https://colab.research.google.com/assets/colab-badge.svg\" alt=\"Open In Colab\"/></a>"
      ]
    },
    {
      "cell_type": "markdown",
      "source": [
        "# 2 Systems of Linear Equations"
      ],
      "metadata": {
        "id": "yPHBO3oE6y5u"
      }
    },
    {
      "cell_type": "code",
      "execution_count": null,
      "metadata": {
        "id": "LW066gkK6xTJ"
      },
      "outputs": [],
      "source": []
    }
  ]
}